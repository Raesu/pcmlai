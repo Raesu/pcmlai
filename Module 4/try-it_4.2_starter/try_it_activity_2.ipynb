{
 "cells": [
  {
   "cell_type": "markdown",
   "metadata": {},
   "source": [
    "### Exploring Credit Risks\n",
    "\n",
    "This activity is another open exploration of a dataset using both cleaning methods and visualizations.  The data describes customers as good or bad credit risks based on a small set of features specified below.  Your task is to create a Jupyter notebook with an exploration of the data using both your `pandas` cleaning and analysis skills and your visualization skills using `matplotlib`, `seaborn`, and `plotly`.  Your final notebook should be formatted with appropriate headers and markdown cells with written explanations for the code that follows. \n",
    "\n",
    "Post your notebook file in Canvas, as well as a brief (3-4 sentence) description of what you found through your analysis. Respond to your peers with reflections on thier analysis. \n",
    "\n",
    "-----\n"
   ]
  },
  {
   "cell_type": "markdown",
   "metadata": {},
   "source": [
    "##### Data Description\n",
    "\n",
    "```\n",
    "1. Status of existing checking account, in Deutsche Mark.\n",
    "2. Duration in months\n",
    "3. Credit history (credits taken, paid back duly, delays, critical accounts)\n",
    "4. Purpose of the credit (car, television,...)\n",
    "5. Credit amount\n",
    "6. Status of savings account/bonds, in Deutsche Mark.\n",
    "7. Present employment, in number of years.\n",
    "8. Installment rate in percentage of disposable income\n",
    "9. Personal status (married, single,...) and sex\n",
    "10. Other debtors / guarantors\n",
    "11. Present residence since X years\n",
    "12. Property (e.g. real estate)\n",
    "13. Age in years\n",
    "14. Other installment plans (banks, stores)\n",
    "15. Housing (rent, own,...)\n",
    "16. Number of existing credits at this bank\n",
    "17. Job\n",
    "18. Number of people being liable to provide maintenance for\n",
    "19. Telephone (yes,no)\n",
    "20. Foreign worker (yes,no)\n",
    "```"
   ]
  },
  {
   "cell_type": "code",
   "execution_count": 23,
   "metadata": {},
   "outputs": [],
   "source": [
    "import pandas as pd\n",
    "import plotly.express as px"
   ]
  },
  {
   "cell_type": "code",
   "execution_count": 18,
   "metadata": {},
   "outputs": [],
   "source": [
    "df = pd.read_csv('data/dataset_31_credit-g.csv')"
   ]
  },
  {
   "cell_type": "code",
   "execution_count": 19,
   "metadata": {},
   "outputs": [
    {
     "data": {
      "text/html": [
       "<div>\n",
       "<style scoped>\n",
       "    .dataframe tbody tr th:only-of-type {\n",
       "        vertical-align: middle;\n",
       "    }\n",
       "\n",
       "    .dataframe tbody tr th {\n",
       "        vertical-align: top;\n",
       "    }\n",
       "\n",
       "    .dataframe thead th {\n",
       "        text-align: right;\n",
       "    }\n",
       "</style>\n",
       "<table border=\"1\" class=\"dataframe\">\n",
       "  <thead>\n",
       "    <tr style=\"text-align: right;\">\n",
       "      <th></th>\n",
       "      <th>checking_status</th>\n",
       "      <th>duration</th>\n",
       "      <th>credit_history</th>\n",
       "      <th>purpose</th>\n",
       "      <th>credit_amount</th>\n",
       "      <th>savings_status</th>\n",
       "      <th>employment</th>\n",
       "      <th>installment_commitment</th>\n",
       "      <th>personal_status</th>\n",
       "      <th>other_parties</th>\n",
       "      <th>...</th>\n",
       "      <th>property_magnitude</th>\n",
       "      <th>age</th>\n",
       "      <th>other_payment_plans</th>\n",
       "      <th>housing</th>\n",
       "      <th>existing_credits</th>\n",
       "      <th>job</th>\n",
       "      <th>num_dependents</th>\n",
       "      <th>own_telephone</th>\n",
       "      <th>foreign_worker</th>\n",
       "      <th>class</th>\n",
       "    </tr>\n",
       "  </thead>\n",
       "  <tbody>\n",
       "    <tr>\n",
       "      <th>0</th>\n",
       "      <td>'&lt;0'</td>\n",
       "      <td>6</td>\n",
       "      <td>'critical/other existing credit'</td>\n",
       "      <td>radio/tv</td>\n",
       "      <td>1169</td>\n",
       "      <td>'no known savings'</td>\n",
       "      <td>'&gt;=7'</td>\n",
       "      <td>4</td>\n",
       "      <td>'male single'</td>\n",
       "      <td>none</td>\n",
       "      <td>...</td>\n",
       "      <td>'real estate'</td>\n",
       "      <td>67</td>\n",
       "      <td>none</td>\n",
       "      <td>own</td>\n",
       "      <td>2</td>\n",
       "      <td>skilled</td>\n",
       "      <td>1</td>\n",
       "      <td>yes</td>\n",
       "      <td>yes</td>\n",
       "      <td>good</td>\n",
       "    </tr>\n",
       "    <tr>\n",
       "      <th>1</th>\n",
       "      <td>'0&lt;=X&lt;200'</td>\n",
       "      <td>48</td>\n",
       "      <td>'existing paid'</td>\n",
       "      <td>radio/tv</td>\n",
       "      <td>5951</td>\n",
       "      <td>'&lt;100'</td>\n",
       "      <td>'1&lt;=X&lt;4'</td>\n",
       "      <td>2</td>\n",
       "      <td>'female div/dep/mar'</td>\n",
       "      <td>none</td>\n",
       "      <td>...</td>\n",
       "      <td>'real estate'</td>\n",
       "      <td>22</td>\n",
       "      <td>none</td>\n",
       "      <td>own</td>\n",
       "      <td>1</td>\n",
       "      <td>skilled</td>\n",
       "      <td>1</td>\n",
       "      <td>none</td>\n",
       "      <td>yes</td>\n",
       "      <td>bad</td>\n",
       "    </tr>\n",
       "    <tr>\n",
       "      <th>2</th>\n",
       "      <td>'no checking'</td>\n",
       "      <td>12</td>\n",
       "      <td>'critical/other existing credit'</td>\n",
       "      <td>education</td>\n",
       "      <td>2096</td>\n",
       "      <td>'&lt;100'</td>\n",
       "      <td>'4&lt;=X&lt;7'</td>\n",
       "      <td>2</td>\n",
       "      <td>'male single'</td>\n",
       "      <td>none</td>\n",
       "      <td>...</td>\n",
       "      <td>'real estate'</td>\n",
       "      <td>49</td>\n",
       "      <td>none</td>\n",
       "      <td>own</td>\n",
       "      <td>1</td>\n",
       "      <td>'unskilled resident'</td>\n",
       "      <td>2</td>\n",
       "      <td>none</td>\n",
       "      <td>yes</td>\n",
       "      <td>good</td>\n",
       "    </tr>\n",
       "  </tbody>\n",
       "</table>\n",
       "<p>3 rows × 21 columns</p>\n",
       "</div>"
      ],
      "text/plain": [
       "  checking_status  duration                    credit_history    purpose  \\\n",
       "0            '<0'         6  'critical/other existing credit'   radio/tv   \n",
       "1      '0<=X<200'        48                   'existing paid'   radio/tv   \n",
       "2   'no checking'        12  'critical/other existing credit'  education   \n",
       "\n",
       "   credit_amount      savings_status employment  installment_commitment  \\\n",
       "0           1169  'no known savings'      '>=7'                       4   \n",
       "1           5951              '<100'   '1<=X<4'                       2   \n",
       "2           2096              '<100'   '4<=X<7'                       2   \n",
       "\n",
       "        personal_status other_parties  ...  property_magnitude age  \\\n",
       "0         'male single'          none  ...       'real estate'  67   \n",
       "1  'female div/dep/mar'          none  ...       'real estate'  22   \n",
       "2         'male single'          none  ...       'real estate'  49   \n",
       "\n",
       "   other_payment_plans housing existing_credits                   job  \\\n",
       "0                 none     own                2               skilled   \n",
       "1                 none     own                1               skilled   \n",
       "2                 none     own                1  'unskilled resident'   \n",
       "\n",
       "  num_dependents  own_telephone foreign_worker class  \n",
       "0              1            yes            yes  good  \n",
       "1              1           none            yes   bad  \n",
       "2              2           none            yes  good  \n",
       "\n",
       "[3 rows x 21 columns]"
      ]
     },
     "execution_count": 19,
     "metadata": {},
     "output_type": "execute_result"
    }
   ],
   "source": [
    "df.head(3)"
   ]
  },
  {
   "cell_type": "code",
   "execution_count": 20,
   "metadata": {},
   "outputs": [
    {
     "name": "stdout",
     "output_type": "stream",
     "text": [
      "<class 'pandas.core.frame.DataFrame'>\n",
      "RangeIndex: 1000 entries, 0 to 999\n",
      "Data columns (total 21 columns):\n",
      " #   Column                  Non-Null Count  Dtype \n",
      "---  ------                  --------------  ----- \n",
      " 0   checking_status         1000 non-null   object\n",
      " 1   duration                1000 non-null   int64 \n",
      " 2   credit_history          1000 non-null   object\n",
      " 3   purpose                 1000 non-null   object\n",
      " 4   credit_amount           1000 non-null   int64 \n",
      " 5   savings_status          1000 non-null   object\n",
      " 6   employment              1000 non-null   object\n",
      " 7   installment_commitment  1000 non-null   int64 \n",
      " 8   personal_status         1000 non-null   object\n",
      " 9   other_parties           1000 non-null   object\n",
      " 10  residence_since         1000 non-null   int64 \n",
      " 11  property_magnitude      1000 non-null   object\n",
      " 12  age                     1000 non-null   int64 \n",
      " 13  other_payment_plans     1000 non-null   object\n",
      " 14  housing                 1000 non-null   object\n",
      " 15  existing_credits        1000 non-null   int64 \n",
      " 16  job                     1000 non-null   object\n",
      " 17  num_dependents          1000 non-null   int64 \n",
      " 18  own_telephone           1000 non-null   object\n",
      " 19  foreign_worker          1000 non-null   object\n",
      " 20  class                   1000 non-null   object\n",
      "dtypes: int64(7), object(14)\n",
      "memory usage: 164.2+ KB\n"
     ]
    }
   ],
   "source": [
    "df.info()"
   ]
  },
  {
   "cell_type": "markdown",
   "metadata": {},
   "source": [
    "### Clean Up\n",
    "Clean up columns of interest here prior to analysis."
   ]
  },
  {
   "cell_type": "code",
   "execution_count": 21,
   "metadata": {},
   "outputs": [],
   "source": [
    "# Clean up job column\n",
    "df.value_counts('job')\n",
    "\n",
    "df['job'] = df['job'].str.replace('unskilled resident','unskilled').str.replace('high qualif/self emp/mgmt','management').str.replace('unemp/unskilled non res','unemployed')"
   ]
  },
  {
   "cell_type": "markdown",
   "metadata": {},
   "source": [
    "### How do job and age relate to credit worthiness?"
   ]
  },
  {
   "cell_type": "code",
   "execution_count": 22,
   "metadata": {},
   "outputs": [
    {
     "data": {
      "text/html": [
       "<div>\n",
       "<style scoped>\n",
       "    .dataframe tbody tr th:only-of-type {\n",
       "        vertical-align: middle;\n",
       "    }\n",
       "\n",
       "    .dataframe tbody tr th {\n",
       "        vertical-align: top;\n",
       "    }\n",
       "\n",
       "    .dataframe thead th {\n",
       "        text-align: right;\n",
       "    }\n",
       "</style>\n",
       "<table border=\"1\" class=\"dataframe\">\n",
       "  <thead>\n",
       "    <tr style=\"text-align: right;\">\n",
       "      <th></th>\n",
       "      <th>age</th>\n",
       "      <th>job</th>\n",
       "      <th>class</th>\n",
       "    </tr>\n",
       "  </thead>\n",
       "  <tbody>\n",
       "    <tr>\n",
       "      <th>0</th>\n",
       "      <td>67</td>\n",
       "      <td>skilled</td>\n",
       "      <td>good</td>\n",
       "    </tr>\n",
       "    <tr>\n",
       "      <th>1</th>\n",
       "      <td>22</td>\n",
       "      <td>skilled</td>\n",
       "      <td>bad</td>\n",
       "    </tr>\n",
       "    <tr>\n",
       "      <th>2</th>\n",
       "      <td>49</td>\n",
       "      <td>'unskilled'</td>\n",
       "      <td>good</td>\n",
       "    </tr>\n",
       "    <tr>\n",
       "      <th>3</th>\n",
       "      <td>45</td>\n",
       "      <td>skilled</td>\n",
       "      <td>good</td>\n",
       "    </tr>\n",
       "    <tr>\n",
       "      <th>4</th>\n",
       "      <td>53</td>\n",
       "      <td>skilled</td>\n",
       "      <td>bad</td>\n",
       "    </tr>\n",
       "  </tbody>\n",
       "</table>\n",
       "</div>"
      ],
      "text/plain": [
       "   age          job class\n",
       "0   67      skilled  good\n",
       "1   22      skilled   bad\n",
       "2   49  'unskilled'  good\n",
       "3   45      skilled  good\n",
       "4   53      skilled   bad"
      ]
     },
     "execution_count": 22,
     "metadata": {},
     "output_type": "execute_result"
    }
   ],
   "source": [
    "df[['age','job','class']].head()"
   ]
  },
  {
   "cell_type": "code",
   "execution_count": 27,
   "metadata": {},
   "outputs": [
    {
     "data": {
      "application/vnd.plotly.v1+json": {
       "config": {
        "plotlyServerURL": "https://plot.ly"
       },
       "data": [
        {
         "alignmentgroup": "True",
         "hovertemplate": "job=skilled<br>class=%{x}<br>count=%{y}<extra></extra>",
         "legendgroup": "skilled",
         "marker": {
          "color": "#636efa",
          "pattern": {
           "shape": ""
          }
         },
         "name": "skilled",
         "offsetgroup": "skilled",
         "orientation": "v",
         "showlegend": true,
         "textposition": "auto",
         "type": "bar",
         "x": [
          "good",
          "bad"
         ],
         "xaxis": "x",
         "y": [
          444,
          186
         ],
         "yaxis": "y"
        },
        {
         "alignmentgroup": "True",
         "hovertemplate": "job='unskilled'<br>class=%{x}<br>count=%{y}<extra></extra>",
         "legendgroup": "'unskilled'",
         "marker": {
          "color": "#EF553B",
          "pattern": {
           "shape": ""
          }
         },
         "name": "'unskilled'",
         "offsetgroup": "'unskilled'",
         "orientation": "v",
         "showlegend": true,
         "textposition": "auto",
         "type": "bar",
         "x": [
          "good",
          "bad"
         ],
         "xaxis": "x",
         "y": [
          144,
          56
         ],
         "yaxis": "y"
        },
        {
         "alignmentgroup": "True",
         "hovertemplate": "job='management'<br>class=%{x}<br>count=%{y}<extra></extra>",
         "legendgroup": "'management'",
         "marker": {
          "color": "#00cc96",
          "pattern": {
           "shape": ""
          }
         },
         "name": "'management'",
         "offsetgroup": "'management'",
         "orientation": "v",
         "showlegend": true,
         "textposition": "auto",
         "type": "bar",
         "x": [
          "good",
          "bad"
         ],
         "xaxis": "x",
         "y": [
          97,
          51
         ],
         "yaxis": "y"
        },
        {
         "alignmentgroup": "True",
         "hovertemplate": "job='unemployed'<br>class=%{x}<br>count=%{y}<extra></extra>",
         "legendgroup": "'unemployed'",
         "marker": {
          "color": "#ab63fa",
          "pattern": {
           "shape": ""
          }
         },
         "name": "'unemployed'",
         "offsetgroup": "'unemployed'",
         "orientation": "v",
         "showlegend": true,
         "textposition": "auto",
         "type": "bar",
         "x": [
          "good",
          "bad"
         ],
         "xaxis": "x",
         "y": [
          15,
          7
         ],
         "yaxis": "y"
        }
       ],
       "layout": {
        "barmode": "group",
        "legend": {
         "title": {
          "text": "job"
         },
         "tracegroupgap": 0
        },
        "margin": {
         "t": 60
        },
        "template": {
         "data": {
          "bar": [
           {
            "error_x": {
             "color": "#2a3f5f"
            },
            "error_y": {
             "color": "#2a3f5f"
            },
            "marker": {
             "line": {
              "color": "#E5ECF6",
              "width": 0.5
             },
             "pattern": {
              "fillmode": "overlay",
              "size": 10,
              "solidity": 0.2
             }
            },
            "type": "bar"
           }
          ],
          "barpolar": [
           {
            "marker": {
             "line": {
              "color": "#E5ECF6",
              "width": 0.5
             },
             "pattern": {
              "fillmode": "overlay",
              "size": 10,
              "solidity": 0.2
             }
            },
            "type": "barpolar"
           }
          ],
          "carpet": [
           {
            "aaxis": {
             "endlinecolor": "#2a3f5f",
             "gridcolor": "white",
             "linecolor": "white",
             "minorgridcolor": "white",
             "startlinecolor": "#2a3f5f"
            },
            "baxis": {
             "endlinecolor": "#2a3f5f",
             "gridcolor": "white",
             "linecolor": "white",
             "minorgridcolor": "white",
             "startlinecolor": "#2a3f5f"
            },
            "type": "carpet"
           }
          ],
          "choropleth": [
           {
            "colorbar": {
             "outlinewidth": 0,
             "ticks": ""
            },
            "type": "choropleth"
           }
          ],
          "contour": [
           {
            "colorbar": {
             "outlinewidth": 0,
             "ticks": ""
            },
            "colorscale": [
             [
              0,
              "#0d0887"
             ],
             [
              0.1111111111111111,
              "#46039f"
             ],
             [
              0.2222222222222222,
              "#7201a8"
             ],
             [
              0.3333333333333333,
              "#9c179e"
             ],
             [
              0.4444444444444444,
              "#bd3786"
             ],
             [
              0.5555555555555556,
              "#d8576b"
             ],
             [
              0.6666666666666666,
              "#ed7953"
             ],
             [
              0.7777777777777778,
              "#fb9f3a"
             ],
             [
              0.8888888888888888,
              "#fdca26"
             ],
             [
              1,
              "#f0f921"
             ]
            ],
            "type": "contour"
           }
          ],
          "contourcarpet": [
           {
            "colorbar": {
             "outlinewidth": 0,
             "ticks": ""
            },
            "type": "contourcarpet"
           }
          ],
          "heatmap": [
           {
            "colorbar": {
             "outlinewidth": 0,
             "ticks": ""
            },
            "colorscale": [
             [
              0,
              "#0d0887"
             ],
             [
              0.1111111111111111,
              "#46039f"
             ],
             [
              0.2222222222222222,
              "#7201a8"
             ],
             [
              0.3333333333333333,
              "#9c179e"
             ],
             [
              0.4444444444444444,
              "#bd3786"
             ],
             [
              0.5555555555555556,
              "#d8576b"
             ],
             [
              0.6666666666666666,
              "#ed7953"
             ],
             [
              0.7777777777777778,
              "#fb9f3a"
             ],
             [
              0.8888888888888888,
              "#fdca26"
             ],
             [
              1,
              "#f0f921"
             ]
            ],
            "type": "heatmap"
           }
          ],
          "heatmapgl": [
           {
            "colorbar": {
             "outlinewidth": 0,
             "ticks": ""
            },
            "colorscale": [
             [
              0,
              "#0d0887"
             ],
             [
              0.1111111111111111,
              "#46039f"
             ],
             [
              0.2222222222222222,
              "#7201a8"
             ],
             [
              0.3333333333333333,
              "#9c179e"
             ],
             [
              0.4444444444444444,
              "#bd3786"
             ],
             [
              0.5555555555555556,
              "#d8576b"
             ],
             [
              0.6666666666666666,
              "#ed7953"
             ],
             [
              0.7777777777777778,
              "#fb9f3a"
             ],
             [
              0.8888888888888888,
              "#fdca26"
             ],
             [
              1,
              "#f0f921"
             ]
            ],
            "type": "heatmapgl"
           }
          ],
          "histogram": [
           {
            "marker": {
             "pattern": {
              "fillmode": "overlay",
              "size": 10,
              "solidity": 0.2
             }
            },
            "type": "histogram"
           }
          ],
          "histogram2d": [
           {
            "colorbar": {
             "outlinewidth": 0,
             "ticks": ""
            },
            "colorscale": [
             [
              0,
              "#0d0887"
             ],
             [
              0.1111111111111111,
              "#46039f"
             ],
             [
              0.2222222222222222,
              "#7201a8"
             ],
             [
              0.3333333333333333,
              "#9c179e"
             ],
             [
              0.4444444444444444,
              "#bd3786"
             ],
             [
              0.5555555555555556,
              "#d8576b"
             ],
             [
              0.6666666666666666,
              "#ed7953"
             ],
             [
              0.7777777777777778,
              "#fb9f3a"
             ],
             [
              0.8888888888888888,
              "#fdca26"
             ],
             [
              1,
              "#f0f921"
             ]
            ],
            "type": "histogram2d"
           }
          ],
          "histogram2dcontour": [
           {
            "colorbar": {
             "outlinewidth": 0,
             "ticks": ""
            },
            "colorscale": [
             [
              0,
              "#0d0887"
             ],
             [
              0.1111111111111111,
              "#46039f"
             ],
             [
              0.2222222222222222,
              "#7201a8"
             ],
             [
              0.3333333333333333,
              "#9c179e"
             ],
             [
              0.4444444444444444,
              "#bd3786"
             ],
             [
              0.5555555555555556,
              "#d8576b"
             ],
             [
              0.6666666666666666,
              "#ed7953"
             ],
             [
              0.7777777777777778,
              "#fb9f3a"
             ],
             [
              0.8888888888888888,
              "#fdca26"
             ],
             [
              1,
              "#f0f921"
             ]
            ],
            "type": "histogram2dcontour"
           }
          ],
          "mesh3d": [
           {
            "colorbar": {
             "outlinewidth": 0,
             "ticks": ""
            },
            "type": "mesh3d"
           }
          ],
          "parcoords": [
           {
            "line": {
             "colorbar": {
              "outlinewidth": 0,
              "ticks": ""
             }
            },
            "type": "parcoords"
           }
          ],
          "pie": [
           {
            "automargin": true,
            "type": "pie"
           }
          ],
          "scatter": [
           {
            "fillpattern": {
             "fillmode": "overlay",
             "size": 10,
             "solidity": 0.2
            },
            "type": "scatter"
           }
          ],
          "scatter3d": [
           {
            "line": {
             "colorbar": {
              "outlinewidth": 0,
              "ticks": ""
             }
            },
            "marker": {
             "colorbar": {
              "outlinewidth": 0,
              "ticks": ""
             }
            },
            "type": "scatter3d"
           }
          ],
          "scattercarpet": [
           {
            "marker": {
             "colorbar": {
              "outlinewidth": 0,
              "ticks": ""
             }
            },
            "type": "scattercarpet"
           }
          ],
          "scattergeo": [
           {
            "marker": {
             "colorbar": {
              "outlinewidth": 0,
              "ticks": ""
             }
            },
            "type": "scattergeo"
           }
          ],
          "scattergl": [
           {
            "marker": {
             "colorbar": {
              "outlinewidth": 0,
              "ticks": ""
             }
            },
            "type": "scattergl"
           }
          ],
          "scattermapbox": [
           {
            "marker": {
             "colorbar": {
              "outlinewidth": 0,
              "ticks": ""
             }
            },
            "type": "scattermapbox"
           }
          ],
          "scatterpolar": [
           {
            "marker": {
             "colorbar": {
              "outlinewidth": 0,
              "ticks": ""
             }
            },
            "type": "scatterpolar"
           }
          ],
          "scatterpolargl": [
           {
            "marker": {
             "colorbar": {
              "outlinewidth": 0,
              "ticks": ""
             }
            },
            "type": "scatterpolargl"
           }
          ],
          "scatterternary": [
           {
            "marker": {
             "colorbar": {
              "outlinewidth": 0,
              "ticks": ""
             }
            },
            "type": "scatterternary"
           }
          ],
          "surface": [
           {
            "colorbar": {
             "outlinewidth": 0,
             "ticks": ""
            },
            "colorscale": [
             [
              0,
              "#0d0887"
             ],
             [
              0.1111111111111111,
              "#46039f"
             ],
             [
              0.2222222222222222,
              "#7201a8"
             ],
             [
              0.3333333333333333,
              "#9c179e"
             ],
             [
              0.4444444444444444,
              "#bd3786"
             ],
             [
              0.5555555555555556,
              "#d8576b"
             ],
             [
              0.6666666666666666,
              "#ed7953"
             ],
             [
              0.7777777777777778,
              "#fb9f3a"
             ],
             [
              0.8888888888888888,
              "#fdca26"
             ],
             [
              1,
              "#f0f921"
             ]
            ],
            "type": "surface"
           }
          ],
          "table": [
           {
            "cells": {
             "fill": {
              "color": "#EBF0F8"
             },
             "line": {
              "color": "white"
             }
            },
            "header": {
             "fill": {
              "color": "#C8D4E3"
             },
             "line": {
              "color": "white"
             }
            },
            "type": "table"
           }
          ]
         },
         "layout": {
          "annotationdefaults": {
           "arrowcolor": "#2a3f5f",
           "arrowhead": 0,
           "arrowwidth": 1
          },
          "autotypenumbers": "strict",
          "coloraxis": {
           "colorbar": {
            "outlinewidth": 0,
            "ticks": ""
           }
          },
          "colorscale": {
           "diverging": [
            [
             0,
             "#8e0152"
            ],
            [
             0.1,
             "#c51b7d"
            ],
            [
             0.2,
             "#de77ae"
            ],
            [
             0.3,
             "#f1b6da"
            ],
            [
             0.4,
             "#fde0ef"
            ],
            [
             0.5,
             "#f7f7f7"
            ],
            [
             0.6,
             "#e6f5d0"
            ],
            [
             0.7,
             "#b8e186"
            ],
            [
             0.8,
             "#7fbc41"
            ],
            [
             0.9,
             "#4d9221"
            ],
            [
             1,
             "#276419"
            ]
           ],
           "sequential": [
            [
             0,
             "#0d0887"
            ],
            [
             0.1111111111111111,
             "#46039f"
            ],
            [
             0.2222222222222222,
             "#7201a8"
            ],
            [
             0.3333333333333333,
             "#9c179e"
            ],
            [
             0.4444444444444444,
             "#bd3786"
            ],
            [
             0.5555555555555556,
             "#d8576b"
            ],
            [
             0.6666666666666666,
             "#ed7953"
            ],
            [
             0.7777777777777778,
             "#fb9f3a"
            ],
            [
             0.8888888888888888,
             "#fdca26"
            ],
            [
             1,
             "#f0f921"
            ]
           ],
           "sequentialminus": [
            [
             0,
             "#0d0887"
            ],
            [
             0.1111111111111111,
             "#46039f"
            ],
            [
             0.2222222222222222,
             "#7201a8"
            ],
            [
             0.3333333333333333,
             "#9c179e"
            ],
            [
             0.4444444444444444,
             "#bd3786"
            ],
            [
             0.5555555555555556,
             "#d8576b"
            ],
            [
             0.6666666666666666,
             "#ed7953"
            ],
            [
             0.7777777777777778,
             "#fb9f3a"
            ],
            [
             0.8888888888888888,
             "#fdca26"
            ],
            [
             1,
             "#f0f921"
            ]
           ]
          },
          "colorway": [
           "#636efa",
           "#EF553B",
           "#00cc96",
           "#ab63fa",
           "#FFA15A",
           "#19d3f3",
           "#FF6692",
           "#B6E880",
           "#FF97FF",
           "#FECB52"
          ],
          "font": {
           "color": "#2a3f5f"
          },
          "geo": {
           "bgcolor": "white",
           "lakecolor": "white",
           "landcolor": "#E5ECF6",
           "showlakes": true,
           "showland": true,
           "subunitcolor": "white"
          },
          "hoverlabel": {
           "align": "left"
          },
          "hovermode": "closest",
          "mapbox": {
           "style": "light"
          },
          "paper_bgcolor": "white",
          "plot_bgcolor": "#E5ECF6",
          "polar": {
           "angularaxis": {
            "gridcolor": "white",
            "linecolor": "white",
            "ticks": ""
           },
           "bgcolor": "#E5ECF6",
           "radialaxis": {
            "gridcolor": "white",
            "linecolor": "white",
            "ticks": ""
           }
          },
          "scene": {
           "xaxis": {
            "backgroundcolor": "#E5ECF6",
            "gridcolor": "white",
            "gridwidth": 2,
            "linecolor": "white",
            "showbackground": true,
            "ticks": "",
            "zerolinecolor": "white"
           },
           "yaxis": {
            "backgroundcolor": "#E5ECF6",
            "gridcolor": "white",
            "gridwidth": 2,
            "linecolor": "white",
            "showbackground": true,
            "ticks": "",
            "zerolinecolor": "white"
           },
           "zaxis": {
            "backgroundcolor": "#E5ECF6",
            "gridcolor": "white",
            "gridwidth": 2,
            "linecolor": "white",
            "showbackground": true,
            "ticks": "",
            "zerolinecolor": "white"
           }
          },
          "shapedefaults": {
           "line": {
            "color": "#2a3f5f"
           }
          },
          "ternary": {
           "aaxis": {
            "gridcolor": "white",
            "linecolor": "white",
            "ticks": ""
           },
           "baxis": {
            "gridcolor": "white",
            "linecolor": "white",
            "ticks": ""
           },
           "bgcolor": "#E5ECF6",
           "caxis": {
            "gridcolor": "white",
            "linecolor": "white",
            "ticks": ""
           }
          },
          "title": {
           "x": 0.05
          },
          "xaxis": {
           "automargin": true,
           "gridcolor": "white",
           "linecolor": "white",
           "ticks": "",
           "title": {
            "standoff": 15
           },
           "zerolinecolor": "white",
           "zerolinewidth": 2
          },
          "yaxis": {
           "automargin": true,
           "gridcolor": "white",
           "linecolor": "white",
           "ticks": "",
           "title": {
            "standoff": 15
           },
           "zerolinecolor": "white",
           "zerolinewidth": 2
          }
         }
        },
        "xaxis": {
         "anchor": "y",
         "domain": [
          0,
          1
         ],
         "title": {
          "text": "class"
         }
        },
        "yaxis": {
         "anchor": "x",
         "domain": [
          0,
          1
         ],
         "title": {
          "text": "count"
         }
        }
       }
      }
     },
     "metadata": {},
     "output_type": "display_data"
    }
   ],
   "source": [
    "counts=df.value_counts(['job','class']).reset_index()\n",
    "px.bar(counts, x='class', y='count', color='job', barmode='group')\n",
    "# px.bar(counts, x=)"
   ]
  },
  {
   "cell_type": "markdown",
   "metadata": {},
   "source": [
    "Looking at counts of good and bad credit ratings, split by employment type, there are similar proportions in each group. I would have expected unskilled people to be more classified as bad credit rating, but that's not really the case."
   ]
  },
  {
   "cell_type": "code",
   "execution_count": 30,
   "metadata": {},
   "outputs": [
    {
     "data": {
      "application/vnd.plotly.v1+json": {
       "config": {
        "plotlyServerURL": "https://plot.ly"
       },
       "data": [
        {
         "alignmentgroup": "True",
         "hovertemplate": "class=%{x}<br>age=%{y}<extra></extra>",
         "legendgroup": "",
         "marker": {
          "color": "#636efa"
         },
         "name": "",
         "notched": false,
         "offsetgroup": "",
         "orientation": "v",
         "showlegend": false,
         "type": "box",
         "x": [
          "good",
          "bad",
          "good",
          "good",
          "bad",
          "good",
          "good",
          "good",
          "good",
          "bad",
          "bad",
          "bad",
          "good",
          "bad",
          "good",
          "bad",
          "good",
          "good",
          "bad",
          "good",
          "good",
          "good",
          "good",
          "good",
          "good",
          "good",
          "good",
          "good",
          "good",
          "bad",
          "good",
          "good",
          "good",
          "good",
          "good",
          "bad",
          "good",
          "bad",
          "good",
          "good",
          "good",
          "good",
          "good",
          "good",
          "bad",
          "good",
          "good",
          "good",
          "good",
          "good",
          "good",
          "good",
          "good",
          "good",
          "bad",
          "good",
          "bad",
          "good",
          "good",
          "bad",
          "good",
          "good",
          "bad",
          "bad",
          "good",
          "good",
          "good",
          "good",
          "bad",
          "good",
          "good",
          "good",
          "good",
          "good",
          "bad",
          "good",
          "bad",
          "good",
          "good",
          "good",
          "bad",
          "good",
          "good",
          "good",
          "good",
          "good",
          "good",
          "bad",
          "good",
          "bad",
          "good",
          "good",
          "bad",
          "good",
          "good",
          "bad",
          "good",
          "good",
          "good",
          "good",
          "good",
          "good",
          "good",
          "good",
          "good",
          "bad",
          "bad",
          "good",
          "good",
          "good",
          "good",
          "good",
          "good",
          "bad",
          "good",
          "good",
          "bad",
          "good",
          "bad",
          "good",
          "bad",
          "good",
          "good",
          "good",
          "bad",
          "good",
          "good",
          "bad",
          "good",
          "bad",
          "good",
          "bad",
          "good",
          "good",
          "good",
          "good",
          "good",
          "bad",
          "good",
          "good",
          "good",
          "good",
          "good",
          "bad",
          "good",
          "good",
          "good",
          "good",
          "good",
          "good",
          "good",
          "good",
          "good",
          "good",
          "good",
          "bad",
          "good",
          "good",
          "good",
          "good",
          "good",
          "good",
          "good",
          "good",
          "good",
          "good",
          "bad",
          "good",
          "good",
          "bad",
          "bad",
          "good",
          "bad",
          "good",
          "bad",
          "bad",
          "good",
          "good",
          "good",
          "good",
          "bad",
          "bad",
          "bad",
          "good",
          "bad",
          "good",
          "bad",
          "good",
          "bad",
          "good",
          "bad",
          "bad",
          "bad",
          "good",
          "bad",
          "bad",
          "good",
          "bad",
          "good",
          "bad",
          "good",
          "good",
          "good",
          "bad",
          "good",
          "good",
          "good",
          "good",
          "good",
          "good",
          "good",
          "good",
          "bad",
          "bad",
          "good",
          "good",
          "good",
          "good",
          "good",
          "good",
          "good",
          "good",
          "good",
          "good",
          "good",
          "good",
          "bad",
          "bad",
          "bad",
          "good",
          "bad",
          "good",
          "good",
          "good",
          "good",
          "bad",
          "bad",
          "bad",
          "good",
          "good",
          "bad",
          "good",
          "bad",
          "good",
          "good",
          "good",
          "good",
          "good",
          "good",
          "bad",
          "good",
          "good",
          "bad",
          "good",
          "good",
          "good",
          "good",
          "bad",
          "good",
          "good",
          "good",
          "good",
          "good",
          "good",
          "good",
          "bad",
          "good",
          "good",
          "bad",
          "good",
          "good",
          "good",
          "good",
          "bad",
          "bad",
          "good",
          "good",
          "good",
          "bad",
          "good",
          "good",
          "good",
          "good",
          "good",
          "good",
          "good",
          "good",
          "good",
          "good",
          "bad",
          "good",
          "bad",
          "good",
          "good",
          "good",
          "bad",
          "good",
          "good",
          "good",
          "good",
          "good",
          "bad",
          "bad",
          "good",
          "bad",
          "good",
          "good",
          "bad",
          "bad",
          "good",
          "good",
          "good",
          "good",
          "bad",
          "good",
          "bad",
          "good",
          "good",
          "good",
          "good",
          "bad",
          "bad",
          "good",
          "good",
          "good",
          "good",
          "good",
          "good",
          "good",
          "good",
          "good",
          "bad",
          "bad",
          "bad",
          "bad",
          "bad",
          "good",
          "bad",
          "good",
          "good",
          "good",
          "good",
          "good",
          "good",
          "good",
          "good",
          "good",
          "good",
          "good",
          "bad",
          "good",
          "bad",
          "good",
          "bad",
          "good",
          "bad",
          "good",
          "bad",
          "good",
          "bad",
          "good",
          "good",
          "good",
          "good",
          "bad",
          "good",
          "good",
          "good",
          "bad",
          "good",
          "good",
          "good",
          "good",
          "good",
          "bad",
          "bad",
          "good",
          "good",
          "bad",
          "good",
          "good",
          "bad",
          "good",
          "good",
          "good",
          "good",
          "good",
          "good",
          "good",
          "good",
          "good",
          "good",
          "good",
          "good",
          "good",
          "good",
          "good",
          "good",
          "bad",
          "good",
          "good",
          "good",
          "bad",
          "good",
          "good",
          "bad",
          "good",
          "good",
          "good",
          "bad",
          "good",
          "good",
          "bad",
          "good",
          "bad",
          "good",
          "bad",
          "good",
          "good",
          "bad",
          "good",
          "good",
          "good",
          "good",
          "bad",
          "good",
          "good",
          "good",
          "good",
          "bad",
          "good",
          "bad",
          "good",
          "good",
          "good",
          "bad",
          "good",
          "good",
          "good",
          "bad",
          "good",
          "good",
          "good",
          "bad",
          "bad",
          "good",
          "bad",
          "good",
          "good",
          "bad",
          "good",
          "good",
          "good",
          "good",
          "bad",
          "good",
          "good",
          "bad",
          "good",
          "good",
          "good",
          "good",
          "good",
          "good",
          "good",
          "good",
          "bad",
          "good",
          "good",
          "good",
          "bad",
          "bad",
          "bad",
          "good",
          "bad",
          "bad",
          "good",
          "good",
          "good",
          "good",
          "good",
          "good",
          "good",
          "good",
          "good",
          "bad",
          "good",
          "good",
          "good",
          "good",
          "good",
          "bad",
          "good",
          "good",
          "good",
          "bad",
          "bad",
          "good",
          "good",
          "good",
          "bad",
          "good",
          "good",
          "bad",
          "bad",
          "bad",
          "good",
          "bad",
          "good",
          "good",
          "bad",
          "good",
          "good",
          "good",
          "good",
          "good",
          "good",
          "bad",
          "good",
          "good",
          "good",
          "bad",
          "bad",
          "good",
          "good",
          "good",
          "good",
          "good",
          "bad",
          "good",
          "good",
          "bad",
          "good",
          "good",
          "good",
          "bad",
          "good",
          "good",
          "bad",
          "good",
          "bad",
          "good",
          "bad",
          "bad",
          "good",
          "bad",
          "good",
          "good",
          "bad",
          "good",
          "good",
          "good",
          "bad",
          "good",
          "good",
          "bad",
          "bad",
          "bad",
          "bad",
          "bad",
          "good",
          "bad",
          "good",
          "bad",
          "good",
          "good",
          "bad",
          "good",
          "good",
          "bad",
          "bad",
          "good",
          "good",
          "good",
          "good",
          "good",
          "good",
          "good",
          "bad",
          "good",
          "bad",
          "good",
          "good",
          "bad",
          "good",
          "bad",
          "good",
          "good",
          "bad",
          "bad",
          "good",
          "good",
          "good",
          "bad",
          "bad",
          "bad",
          "bad",
          "bad",
          "bad",
          "good",
          "good",
          "bad",
          "bad",
          "bad",
          "good",
          "good",
          "good",
          "bad",
          "good",
          "good",
          "bad",
          "bad",
          "good",
          "good",
          "bad",
          "good",
          "good",
          "good",
          "bad",
          "good",
          "good",
          "bad",
          "bad",
          "good",
          "bad",
          "good",
          "good",
          "bad",
          "good",
          "good",
          "good",
          "bad",
          "good",
          "bad",
          "bad",
          "good",
          "good",
          "good",
          "good",
          "bad",
          "bad",
          "good",
          "bad",
          "good",
          "good",
          "bad",
          "good",
          "bad",
          "bad",
          "bad",
          "good",
          "bad",
          "bad",
          "bad",
          "good",
          "good",
          "bad",
          "good",
          "good",
          "good",
          "good",
          "bad",
          "good",
          "good",
          "good",
          "good",
          "good",
          "good",
          "bad",
          "good",
          "good",
          "good",
          "good",
          "good",
          "bad",
          "good",
          "good",
          "bad",
          "good",
          "good",
          "good",
          "good",
          "good",
          "good",
          "good",
          "good",
          "good",
          "good",
          "good",
          "good",
          "good",
          "good",
          "good",
          "good",
          "good",
          "good",
          "good",
          "good",
          "good",
          "good",
          "bad",
          "bad",
          "good",
          "good",
          "good",
          "good",
          "bad",
          "bad",
          "good",
          "good",
          "good",
          "bad",
          "good",
          "good",
          "bad",
          "good",
          "good",
          "good",
          "good",
          "good",
          "bad",
          "bad",
          "bad",
          "good",
          "bad",
          "good",
          "good",
          "bad",
          "bad",
          "good",
          "good",
          "bad",
          "good",
          "good",
          "good",
          "good",
          "bad",
          "good",
          "good",
          "bad",
          "good",
          "good",
          "good",
          "good",
          "good",
          "good",
          "good",
          "bad",
          "good",
          "good",
          "good",
          "bad",
          "good",
          "good",
          "bad",
          "bad",
          "good",
          "bad",
          "good",
          "bad",
          "good",
          "bad",
          "good",
          "bad",
          "good",
          "good",
          "bad",
          "good",
          "good",
          "good",
          "good",
          "bad",
          "good",
          "good",
          "good",
          "bad",
          "good",
          "good",
          "good",
          "good",
          "bad",
          "good",
          "good",
          "bad",
          "good",
          "good",
          "good",
          "good",
          "bad",
          "bad",
          "bad",
          "good",
          "good",
          "good",
          "good",
          "good",
          "bad",
          "good",
          "good",
          "good",
          "good",
          "good",
          "good",
          "good",
          "good",
          "bad",
          "good",
          "good",
          "good",
          "bad",
          "good",
          "good",
          "bad",
          "bad",
          "bad",
          "good",
          "good",
          "good",
          "good",
          "bad",
          "good",
          "good",
          "bad",
          "good",
          "good",
          "good",
          "bad",
          "bad",
          "bad",
          "good",
          "good",
          "bad",
          "bad",
          "good",
          "bad",
          "bad",
          "good",
          "good",
          "good",
          "good",
          "bad",
          "good",
          "bad",
          "good",
          "good",
          "good",
          "bad",
          "good",
          "good",
          "bad",
          "bad",
          "good",
          "good",
          "bad",
          "good",
          "good",
          "good",
          "good",
          "bad",
          "good",
          "good",
          "bad",
          "bad",
          "good",
          "bad",
          "good",
          "good",
          "good",
          "good",
          "good",
          "good",
          "good",
          "good",
          "good",
          "good",
          "good",
          "good",
          "good",
          "bad",
          "good",
          "good",
          "good",
          "good",
          "good",
          "bad",
          "bad",
          "good",
          "bad",
          "good",
          "good",
          "good",
          "good",
          "good",
          "good",
          "good",
          "good",
          "good",
          "good",
          "good",
          "bad",
          "bad",
          "good",
          "good",
          "good",
          "good",
          "good",
          "good",
          "good",
          "good",
          "good",
          "good",
          "bad",
          "good",
          "good",
          "bad",
          "bad",
          "good",
          "bad",
          "bad",
          "bad",
          "good",
          "good",
          "bad",
          "good",
          "bad",
          "bad",
          "good",
          "bad",
          "good",
          "good",
          "good",
          "bad",
          "good",
          "good",
          "good",
          "bad",
          "bad",
          "good",
          "bad",
          "good",
          "good",
          "good",
          "good",
          "good",
          "good",
          "good",
          "bad",
          "good",
          "bad",
          "bad",
          "good",
          "bad",
          "bad",
          "bad",
          "good",
          "good",
          "good",
          "good",
          "bad",
          "good",
          "good",
          "good",
          "good",
          "bad",
          "good",
          "good",
          "bad",
          "good",
          "good",
          "good",
          "good",
          "good",
          "bad",
          "bad",
          "good",
          "good",
          "good",
          "good",
          "bad",
          "bad",
          "bad",
          "bad",
          "good",
          "bad",
          "good",
          "good",
          "good",
          "good",
          "good",
          "good",
          "good",
          "good",
          "good",
          "good",
          "good",
          "good",
          "good",
          "good",
          "bad",
          "good"
         ],
         "x0": " ",
         "xaxis": "x",
         "y": [
          67,
          22,
          49,
          45,
          53,
          35,
          53,
          35,
          61,
          28,
          25,
          24,
          22,
          60,
          28,
          32,
          53,
          25,
          44,
          31,
          48,
          44,
          48,
          44,
          26,
          36,
          39,
          42,
          34,
          63,
          36,
          27,
          30,
          57,
          33,
          25,
          31,
          37,
          37,
          24,
          30,
          26,
          44,
          24,
          58,
          35,
          39,
          23,
          39,
          28,
          29,
          30,
          25,
          31,
          57,
          26,
          52,
          31,
          23,
          23,
          27,
          50,
          61,
          25,
          26,
          48,
          29,
          22,
          37,
          25,
          30,
          46,
          51,
          41,
          40,
          66,
          34,
          51,
          39,
          22,
          44,
          47,
          24,
          58,
          52,
          29,
          27,
          47,
          30,
          28,
          56,
          54,
          33,
          20,
          54,
          58,
          61,
          34,
          36,
          36,
          41,
          24,
          24,
          35,
          26,
          39,
          39,
          32,
          30,
          35,
          31,
          23,
          28,
          25,
          35,
          47,
          30,
          27,
          23,
          36,
          25,
          41,
          24,
          63,
          27,
          30,
          40,
          30,
          34,
          29,
          24,
          29,
          27,
          47,
          21,
          38,
          27,
          66,
          35,
          44,
          27,
          30,
          27,
          22,
          23,
          30,
          39,
          51,
          28,
          46,
          42,
          38,
          24,
          29,
          36,
          20,
          48,
          45,
          38,
          34,
          36,
          30,
          36,
          70,
          36,
          32,
          33,
          20,
          25,
          31,
          33,
          26,
          34,
          33,
          26,
          53,
          42,
          52,
          31,
          65,
          28,
          30,
          40,
          50,
          36,
          31,
          74,
          68,
          20,
          33,
          54,
          34,
          36,
          29,
          21,
          34,
          28,
          27,
          36,
          40,
          52,
          27,
          26,
          21,
          38,
          38,
          43,
          26,
          21,
          55,
          33,
          45,
          50,
          66,
          51,
          39,
          31,
          23,
          24,
          64,
          26,
          23,
          30,
          32,
          30,
          27,
          27,
          53,
          22,
          22,
          26,
          51,
          35,
          25,
          42,
          30,
          23,
          61,
          35,
          39,
          29,
          51,
          24,
          27,
          35,
          25,
          52,
          35,
          26,
          22,
          39,
          46,
          24,
          35,
          24,
          27,
          35,
          29,
          23,
          57,
          27,
          55,
          36,
          57,
          32,
          37,
          36,
          38,
          45,
          25,
          32,
          37,
          36,
          28,
          34,
          32,
          26,
          49,
          32,
          29,
          23,
          50,
          49,
          63,
          37,
          35,
          26,
          31,
          49,
          48,
          26,
          28,
          44,
          56,
          46,
          26,
          20,
          45,
          43,
          32,
          54,
          42,
          37,
          49,
          44,
          33,
          24,
          33,
          24,
          22,
          40,
          25,
          26,
          25,
          29,
          31,
          38,
          48,
          32,
          27,
          28,
          32,
          34,
          28,
          36,
          39,
          49,
          34,
          31,
          28,
          75,
          30,
          24,
          24,
          23,
          44,
          23,
          24,
          28,
          31,
          24,
          26,
          25,
          33,
          37,
          43,
          23,
          23,
          34,
          32,
          23,
          29,
          38,
          28,
          46,
          23,
          49,
          26,
          28,
          23,
          61,
          37,
          36,
          21,
          25,
          36,
          27,
          22,
          42,
          40,
          36,
          33,
          23,
          63,
          60,
          37,
          34,
          36,
          57,
          52,
          39,
          38,
          25,
          26,
          26,
          25,
          21,
          40,
          27,
          27,
          30,
          19,
          39,
          31,
          31,
          32,
          55,
          46,
          46,
          43,
          39,
          28,
          27,
          27,
          43,
          22,
          43,
          27,
          26,
          28,
          20,
          35,
          42,
          40,
          35,
          35,
          33,
          23,
          31,
          33,
          20,
          30,
          47,
          34,
          25,
          21,
          29,
          46,
          20,
          55,
          74,
          29,
          36,
          33,
          25,
          25,
          23,
          37,
          65,
          26,
          39,
          30,
          29,
          41,
          30,
          41,
          34,
          35,
          55,
          61,
          30,
          29,
          34,
          35,
          31,
          29,
          36,
          35,
          27,
          32,
          37,
          36,
          34,
          38,
          34,
          63,
          29,
          32,
          26,
          35,
          22,
          23,
          28,
          36,
          33,
          26,
          24,
          25,
          39,
          44,
          23,
          26,
          57,
          30,
          44,
          47,
          52,
          62,
          35,
          26,
          26,
          42,
          27,
          38,
          39,
          20,
          29,
          40,
          32,
          28,
          27,
          42,
          49,
          38,
          24,
          27,
          36,
          34,
          28,
          45,
          26,
          32,
          26,
          20,
          54,
          37,
          40,
          23,
          43,
          36,
          44,
          24,
          53,
          23,
          26,
          30,
          31,
          42,
          31,
          41,
          32,
          28,
          41,
          26,
          25,
          33,
          75,
          37,
          42,
          45,
          23,
          60,
          31,
          34,
          61,
          43,
          37,
          32,
          24,
          35,
          23,
          45,
          34,
          27,
          67,
          22,
          28,
          29,
          27,
          31,
          49,
          24,
          29,
          37,
          37,
          23,
          36,
          34,
          41,
          31,
          23,
          38,
          26,
          22,
          27,
          24,
          27,
          33,
          27,
          27,
          30,
          49,
          26,
          33,
          52,
          20,
          36,
          21,
          47,
          60,
          58,
          42,
          36,
          20,
          40,
          32,
          23,
          36,
          31,
          32,
          45,
          30,
          34,
          28,
          23,
          22,
          74,
          50,
          33,
          45,
          22,
          48,
          29,
          22,
          22,
          48,
          27,
          37,
          21,
          49,
          27,
          32,
          38,
          22,
          65,
          35,
          41,
          29,
          36,
          64,
          28,
          44,
          23,
          19,
          25,
          47,
          28,
          21,
          34,
          26,
          27,
          38,
          40,
          33,
          32,
          27,
          32,
          26,
          38,
          40,
          50,
          37,
          45,
          42,
          35,
          22,
          41,
          37,
          28,
          41,
          23,
          23,
          50,
          35,
          50,
          27,
          34,
          27,
          43,
          47,
          27,
          31,
          42,
          24,
          41,
          26,
          33,
          24,
          64,
          26,
          56,
          37,
          33,
          47,
          31,
          34,
          27,
          30,
          35,
          31,
          25,
          25,
          29,
          44,
          28,
          50,
          29,
          38,
          24,
          40,
          29,
          46,
          47,
          41,
          32,
          35,
          24,
          25,
          25,
          37,
          32,
          35,
          46,
          25,
          27,
          63,
          40,
          32,
          31,
          31,
          34,
          24,
          24,
          66,
          21,
          41,
          47,
          25,
          59,
          36,
          33,
          21,
          44,
          28,
          37,
          29,
          23,
          35,
          45,
          26,
          32,
          23,
          41,
          22,
          30,
          28,
          23,
          37,
          26,
          33,
          49,
          23,
          23,
          25,
          55,
          32,
          74,
          39,
          31,
          35,
          59,
          24,
          24,
          30,
          27,
          40,
          31,
          31,
          28,
          63,
          26,
          25,
          36,
          52,
          66,
          25,
          37,
          25,
          38,
          67,
          25,
          60,
          31,
          23,
          60,
          35,
          40,
          38,
          50,
          27,
          39,
          41,
          27,
          51,
          32,
          22,
          51,
          22,
          54,
          35,
          54,
          48,
          24,
          35,
          24,
          24,
          26,
          65,
          55,
          26,
          26,
          28,
          24,
          54,
          46,
          54,
          62,
          24,
          43,
          26,
          27,
          24,
          41,
          47,
          35,
          30,
          33,
          36,
          47,
          38,
          44,
          23,
          29,
          42,
          25,
          48,
          21,
          23,
          63,
          46,
          29,
          28,
          23,
          50,
          47,
          35,
          68,
          28,
          59,
          57,
          33,
          43,
          35,
          32,
          45,
          33,
          40,
          28,
          29,
          26,
          27,
          28,
          35,
          32,
          25,
          20,
          27,
          42,
          37,
          24,
          40,
          46,
          26,
          24,
          29,
          40,
          36,
          28,
          27,
          36,
          38,
          48,
          36,
          65,
          43,
          53,
          34,
          23,
          34,
          40,
          43,
          46,
          38,
          34,
          29,
          31,
          28,
          35,
          33,
          42,
          43,
          44,
          42,
          40,
          36,
          20,
          24,
          27,
          46,
          33,
          34,
          25,
          25,
          28,
          31,
          32,
          32,
          68,
          33,
          39,
          28,
          37,
          22,
          30,
          55,
          46,
          21,
          39,
          58,
          43,
          24,
          22,
          30,
          42,
          23,
          30,
          28,
          30,
          42,
          46,
          45,
          31,
          31,
          42,
          46,
          30,
          30,
          38,
          43,
          31,
          40,
          24,
          28,
          26,
          29,
          57,
          49,
          37,
          45,
          30,
          30,
          47,
          29,
          35,
          22,
          26,
          23,
          54,
          29,
          40,
          22,
          43,
          29,
          36,
          33,
          57,
          64,
          42,
          47,
          25,
          49,
          33,
          28,
          26,
          30,
          25,
          33,
          64,
          29,
          48,
          37,
          34,
          23,
          30,
          50,
          31,
          40,
          38,
          23,
          27
         ],
         "y0": " ",
         "yaxis": "y"
        }
       ],
       "layout": {
        "boxmode": "group",
        "legend": {
         "tracegroupgap": 0
        },
        "margin": {
         "t": 60
        },
        "template": {
         "data": {
          "bar": [
           {
            "error_x": {
             "color": "#2a3f5f"
            },
            "error_y": {
             "color": "#2a3f5f"
            },
            "marker": {
             "line": {
              "color": "#E5ECF6",
              "width": 0.5
             },
             "pattern": {
              "fillmode": "overlay",
              "size": 10,
              "solidity": 0.2
             }
            },
            "type": "bar"
           }
          ],
          "barpolar": [
           {
            "marker": {
             "line": {
              "color": "#E5ECF6",
              "width": 0.5
             },
             "pattern": {
              "fillmode": "overlay",
              "size": 10,
              "solidity": 0.2
             }
            },
            "type": "barpolar"
           }
          ],
          "carpet": [
           {
            "aaxis": {
             "endlinecolor": "#2a3f5f",
             "gridcolor": "white",
             "linecolor": "white",
             "minorgridcolor": "white",
             "startlinecolor": "#2a3f5f"
            },
            "baxis": {
             "endlinecolor": "#2a3f5f",
             "gridcolor": "white",
             "linecolor": "white",
             "minorgridcolor": "white",
             "startlinecolor": "#2a3f5f"
            },
            "type": "carpet"
           }
          ],
          "choropleth": [
           {
            "colorbar": {
             "outlinewidth": 0,
             "ticks": ""
            },
            "type": "choropleth"
           }
          ],
          "contour": [
           {
            "colorbar": {
             "outlinewidth": 0,
             "ticks": ""
            },
            "colorscale": [
             [
              0,
              "#0d0887"
             ],
             [
              0.1111111111111111,
              "#46039f"
             ],
             [
              0.2222222222222222,
              "#7201a8"
             ],
             [
              0.3333333333333333,
              "#9c179e"
             ],
             [
              0.4444444444444444,
              "#bd3786"
             ],
             [
              0.5555555555555556,
              "#d8576b"
             ],
             [
              0.6666666666666666,
              "#ed7953"
             ],
             [
              0.7777777777777778,
              "#fb9f3a"
             ],
             [
              0.8888888888888888,
              "#fdca26"
             ],
             [
              1,
              "#f0f921"
             ]
            ],
            "type": "contour"
           }
          ],
          "contourcarpet": [
           {
            "colorbar": {
             "outlinewidth": 0,
             "ticks": ""
            },
            "type": "contourcarpet"
           }
          ],
          "heatmap": [
           {
            "colorbar": {
             "outlinewidth": 0,
             "ticks": ""
            },
            "colorscale": [
             [
              0,
              "#0d0887"
             ],
             [
              0.1111111111111111,
              "#46039f"
             ],
             [
              0.2222222222222222,
              "#7201a8"
             ],
             [
              0.3333333333333333,
              "#9c179e"
             ],
             [
              0.4444444444444444,
              "#bd3786"
             ],
             [
              0.5555555555555556,
              "#d8576b"
             ],
             [
              0.6666666666666666,
              "#ed7953"
             ],
             [
              0.7777777777777778,
              "#fb9f3a"
             ],
             [
              0.8888888888888888,
              "#fdca26"
             ],
             [
              1,
              "#f0f921"
             ]
            ],
            "type": "heatmap"
           }
          ],
          "heatmapgl": [
           {
            "colorbar": {
             "outlinewidth": 0,
             "ticks": ""
            },
            "colorscale": [
             [
              0,
              "#0d0887"
             ],
             [
              0.1111111111111111,
              "#46039f"
             ],
             [
              0.2222222222222222,
              "#7201a8"
             ],
             [
              0.3333333333333333,
              "#9c179e"
             ],
             [
              0.4444444444444444,
              "#bd3786"
             ],
             [
              0.5555555555555556,
              "#d8576b"
             ],
             [
              0.6666666666666666,
              "#ed7953"
             ],
             [
              0.7777777777777778,
              "#fb9f3a"
             ],
             [
              0.8888888888888888,
              "#fdca26"
             ],
             [
              1,
              "#f0f921"
             ]
            ],
            "type": "heatmapgl"
           }
          ],
          "histogram": [
           {
            "marker": {
             "pattern": {
              "fillmode": "overlay",
              "size": 10,
              "solidity": 0.2
             }
            },
            "type": "histogram"
           }
          ],
          "histogram2d": [
           {
            "colorbar": {
             "outlinewidth": 0,
             "ticks": ""
            },
            "colorscale": [
             [
              0,
              "#0d0887"
             ],
             [
              0.1111111111111111,
              "#46039f"
             ],
             [
              0.2222222222222222,
              "#7201a8"
             ],
             [
              0.3333333333333333,
              "#9c179e"
             ],
             [
              0.4444444444444444,
              "#bd3786"
             ],
             [
              0.5555555555555556,
              "#d8576b"
             ],
             [
              0.6666666666666666,
              "#ed7953"
             ],
             [
              0.7777777777777778,
              "#fb9f3a"
             ],
             [
              0.8888888888888888,
              "#fdca26"
             ],
             [
              1,
              "#f0f921"
             ]
            ],
            "type": "histogram2d"
           }
          ],
          "histogram2dcontour": [
           {
            "colorbar": {
             "outlinewidth": 0,
             "ticks": ""
            },
            "colorscale": [
             [
              0,
              "#0d0887"
             ],
             [
              0.1111111111111111,
              "#46039f"
             ],
             [
              0.2222222222222222,
              "#7201a8"
             ],
             [
              0.3333333333333333,
              "#9c179e"
             ],
             [
              0.4444444444444444,
              "#bd3786"
             ],
             [
              0.5555555555555556,
              "#d8576b"
             ],
             [
              0.6666666666666666,
              "#ed7953"
             ],
             [
              0.7777777777777778,
              "#fb9f3a"
             ],
             [
              0.8888888888888888,
              "#fdca26"
             ],
             [
              1,
              "#f0f921"
             ]
            ],
            "type": "histogram2dcontour"
           }
          ],
          "mesh3d": [
           {
            "colorbar": {
             "outlinewidth": 0,
             "ticks": ""
            },
            "type": "mesh3d"
           }
          ],
          "parcoords": [
           {
            "line": {
             "colorbar": {
              "outlinewidth": 0,
              "ticks": ""
             }
            },
            "type": "parcoords"
           }
          ],
          "pie": [
           {
            "automargin": true,
            "type": "pie"
           }
          ],
          "scatter": [
           {
            "fillpattern": {
             "fillmode": "overlay",
             "size": 10,
             "solidity": 0.2
            },
            "type": "scatter"
           }
          ],
          "scatter3d": [
           {
            "line": {
             "colorbar": {
              "outlinewidth": 0,
              "ticks": ""
             }
            },
            "marker": {
             "colorbar": {
              "outlinewidth": 0,
              "ticks": ""
             }
            },
            "type": "scatter3d"
           }
          ],
          "scattercarpet": [
           {
            "marker": {
             "colorbar": {
              "outlinewidth": 0,
              "ticks": ""
             }
            },
            "type": "scattercarpet"
           }
          ],
          "scattergeo": [
           {
            "marker": {
             "colorbar": {
              "outlinewidth": 0,
              "ticks": ""
             }
            },
            "type": "scattergeo"
           }
          ],
          "scattergl": [
           {
            "marker": {
             "colorbar": {
              "outlinewidth": 0,
              "ticks": ""
             }
            },
            "type": "scattergl"
           }
          ],
          "scattermapbox": [
           {
            "marker": {
             "colorbar": {
              "outlinewidth": 0,
              "ticks": ""
             }
            },
            "type": "scattermapbox"
           }
          ],
          "scatterpolar": [
           {
            "marker": {
             "colorbar": {
              "outlinewidth": 0,
              "ticks": ""
             }
            },
            "type": "scatterpolar"
           }
          ],
          "scatterpolargl": [
           {
            "marker": {
             "colorbar": {
              "outlinewidth": 0,
              "ticks": ""
             }
            },
            "type": "scatterpolargl"
           }
          ],
          "scatterternary": [
           {
            "marker": {
             "colorbar": {
              "outlinewidth": 0,
              "ticks": ""
             }
            },
            "type": "scatterternary"
           }
          ],
          "surface": [
           {
            "colorbar": {
             "outlinewidth": 0,
             "ticks": ""
            },
            "colorscale": [
             [
              0,
              "#0d0887"
             ],
             [
              0.1111111111111111,
              "#46039f"
             ],
             [
              0.2222222222222222,
              "#7201a8"
             ],
             [
              0.3333333333333333,
              "#9c179e"
             ],
             [
              0.4444444444444444,
              "#bd3786"
             ],
             [
              0.5555555555555556,
              "#d8576b"
             ],
             [
              0.6666666666666666,
              "#ed7953"
             ],
             [
              0.7777777777777778,
              "#fb9f3a"
             ],
             [
              0.8888888888888888,
              "#fdca26"
             ],
             [
              1,
              "#f0f921"
             ]
            ],
            "type": "surface"
           }
          ],
          "table": [
           {
            "cells": {
             "fill": {
              "color": "#EBF0F8"
             },
             "line": {
              "color": "white"
             }
            },
            "header": {
             "fill": {
              "color": "#C8D4E3"
             },
             "line": {
              "color": "white"
             }
            },
            "type": "table"
           }
          ]
         },
         "layout": {
          "annotationdefaults": {
           "arrowcolor": "#2a3f5f",
           "arrowhead": 0,
           "arrowwidth": 1
          },
          "autotypenumbers": "strict",
          "coloraxis": {
           "colorbar": {
            "outlinewidth": 0,
            "ticks": ""
           }
          },
          "colorscale": {
           "diverging": [
            [
             0,
             "#8e0152"
            ],
            [
             0.1,
             "#c51b7d"
            ],
            [
             0.2,
             "#de77ae"
            ],
            [
             0.3,
             "#f1b6da"
            ],
            [
             0.4,
             "#fde0ef"
            ],
            [
             0.5,
             "#f7f7f7"
            ],
            [
             0.6,
             "#e6f5d0"
            ],
            [
             0.7,
             "#b8e186"
            ],
            [
             0.8,
             "#7fbc41"
            ],
            [
             0.9,
             "#4d9221"
            ],
            [
             1,
             "#276419"
            ]
           ],
           "sequential": [
            [
             0,
             "#0d0887"
            ],
            [
             0.1111111111111111,
             "#46039f"
            ],
            [
             0.2222222222222222,
             "#7201a8"
            ],
            [
             0.3333333333333333,
             "#9c179e"
            ],
            [
             0.4444444444444444,
             "#bd3786"
            ],
            [
             0.5555555555555556,
             "#d8576b"
            ],
            [
             0.6666666666666666,
             "#ed7953"
            ],
            [
             0.7777777777777778,
             "#fb9f3a"
            ],
            [
             0.8888888888888888,
             "#fdca26"
            ],
            [
             1,
             "#f0f921"
            ]
           ],
           "sequentialminus": [
            [
             0,
             "#0d0887"
            ],
            [
             0.1111111111111111,
             "#46039f"
            ],
            [
             0.2222222222222222,
             "#7201a8"
            ],
            [
             0.3333333333333333,
             "#9c179e"
            ],
            [
             0.4444444444444444,
             "#bd3786"
            ],
            [
             0.5555555555555556,
             "#d8576b"
            ],
            [
             0.6666666666666666,
             "#ed7953"
            ],
            [
             0.7777777777777778,
             "#fb9f3a"
            ],
            [
             0.8888888888888888,
             "#fdca26"
            ],
            [
             1,
             "#f0f921"
            ]
           ]
          },
          "colorway": [
           "#636efa",
           "#EF553B",
           "#00cc96",
           "#ab63fa",
           "#FFA15A",
           "#19d3f3",
           "#FF6692",
           "#B6E880",
           "#FF97FF",
           "#FECB52"
          ],
          "font": {
           "color": "#2a3f5f"
          },
          "geo": {
           "bgcolor": "white",
           "lakecolor": "white",
           "landcolor": "#E5ECF6",
           "showlakes": true,
           "showland": true,
           "subunitcolor": "white"
          },
          "hoverlabel": {
           "align": "left"
          },
          "hovermode": "closest",
          "mapbox": {
           "style": "light"
          },
          "paper_bgcolor": "white",
          "plot_bgcolor": "#E5ECF6",
          "polar": {
           "angularaxis": {
            "gridcolor": "white",
            "linecolor": "white",
            "ticks": ""
           },
           "bgcolor": "#E5ECF6",
           "radialaxis": {
            "gridcolor": "white",
            "linecolor": "white",
            "ticks": ""
           }
          },
          "scene": {
           "xaxis": {
            "backgroundcolor": "#E5ECF6",
            "gridcolor": "white",
            "gridwidth": 2,
            "linecolor": "white",
            "showbackground": true,
            "ticks": "",
            "zerolinecolor": "white"
           },
           "yaxis": {
            "backgroundcolor": "#E5ECF6",
            "gridcolor": "white",
            "gridwidth": 2,
            "linecolor": "white",
            "showbackground": true,
            "ticks": "",
            "zerolinecolor": "white"
           },
           "zaxis": {
            "backgroundcolor": "#E5ECF6",
            "gridcolor": "white",
            "gridwidth": 2,
            "linecolor": "white",
            "showbackground": true,
            "ticks": "",
            "zerolinecolor": "white"
           }
          },
          "shapedefaults": {
           "line": {
            "color": "#2a3f5f"
           }
          },
          "ternary": {
           "aaxis": {
            "gridcolor": "white",
            "linecolor": "white",
            "ticks": ""
           },
           "baxis": {
            "gridcolor": "white",
            "linecolor": "white",
            "ticks": ""
           },
           "bgcolor": "#E5ECF6",
           "caxis": {
            "gridcolor": "white",
            "linecolor": "white",
            "ticks": ""
           }
          },
          "title": {
           "x": 0.05
          },
          "xaxis": {
           "automargin": true,
           "gridcolor": "white",
           "linecolor": "white",
           "ticks": "",
           "title": {
            "standoff": 15
           },
           "zerolinecolor": "white",
           "zerolinewidth": 2
          },
          "yaxis": {
           "automargin": true,
           "gridcolor": "white",
           "linecolor": "white",
           "ticks": "",
           "title": {
            "standoff": 15
           },
           "zerolinecolor": "white",
           "zerolinewidth": 2
          }
         }
        },
        "xaxis": {
         "anchor": "y",
         "domain": [
          0,
          1
         ],
         "title": {
          "text": "class"
         }
        },
        "yaxis": {
         "anchor": "x",
         "domain": [
          0,
          1
         ],
         "title": {
          "text": "age"
         }
        }
       }
      }
     },
     "metadata": {},
     "output_type": "display_data"
    }
   ],
   "source": [
    "px.box(df, x='class', y='age')"
   ]
  },
  {
   "cell_type": "markdown",
   "metadata": {},
   "source": [
    "Looking at age vs credit rating, it seems \"good\" credit scores tend to be older people. The difference is quite small and each credit category has outliers in the 70+ range."
   ]
  },
  {
   "cell_type": "code",
   "execution_count": 32,
   "metadata": {},
   "outputs": [
    {
     "data": {
      "application/vnd.plotly.v1+json": {
       "config": {
        "plotlyServerURL": "https://plot.ly"
       },
       "data": [
        {
         "alignmentgroup": "True",
         "hovertemplate": "job=skilled<br>class=%{x}<br>age=%{y}<extra></extra>",
         "legendgroup": "skilled",
         "marker": {
          "color": "#636efa"
         },
         "name": "skilled",
         "notched": false,
         "offsetgroup": "skilled",
         "orientation": "v",
         "showlegend": true,
         "type": "box",
         "x": [
          "good",
          "bad",
          "good",
          "bad",
          "good",
          "bad",
          "bad",
          "good",
          "good",
          "good",
          "good",
          "good",
          "good",
          "good",
          "good",
          "good",
          "good",
          "good",
          "bad",
          "good",
          "good",
          "good",
          "good",
          "bad",
          "good",
          "good",
          "good",
          "good",
          "good",
          "good",
          "good",
          "good",
          "bad",
          "good",
          "good",
          "good",
          "bad",
          "good",
          "good",
          "good",
          "good",
          "bad",
          "good",
          "good",
          "bad",
          "good",
          "good",
          "bad",
          "good",
          "good",
          "bad",
          "bad",
          "good",
          "good",
          "good",
          "good",
          "bad",
          "good",
          "good",
          "good",
          "good",
          "good",
          "good",
          "good",
          "good",
          "good",
          "good",
          "good",
          "good",
          "bad",
          "good",
          "good",
          "good",
          "bad",
          "bad",
          "good",
          "bad",
          "good",
          "bad",
          "bad",
          "good",
          "bad",
          "good",
          "good",
          "good",
          "good",
          "good",
          "bad",
          "good",
          "good",
          "good",
          "good",
          "good",
          "good",
          "good",
          "good",
          "good",
          "good",
          "bad",
          "good",
          "good",
          "good",
          "good",
          "good",
          "good",
          "good",
          "bad",
          "good",
          "good",
          "bad",
          "bad",
          "good",
          "good",
          "bad",
          "good",
          "good",
          "good",
          "bad",
          "good",
          "bad",
          "good",
          "bad",
          "good",
          "bad",
          "good",
          "bad",
          "good",
          "bad",
          "good",
          "good",
          "good",
          "bad",
          "good",
          "good",
          "good",
          "good",
          "bad",
          "good",
          "good",
          "good",
          "good",
          "good",
          "good",
          "good",
          "good",
          "good",
          "bad",
          "bad",
          "good",
          "bad",
          "good",
          "good",
          "good",
          "bad",
          "good",
          "bad",
          "good",
          "good",
          "good",
          "good",
          "good",
          "bad",
          "bad",
          "good",
          "good",
          "bad",
          "good",
          "good",
          "good",
          "bad",
          "good",
          "good",
          "good",
          "good",
          "good",
          "bad",
          "good",
          "good",
          "bad",
          "good",
          "good",
          "good",
          "good",
          "good",
          "good",
          "bad",
          "good",
          "good",
          "bad",
          "good",
          "good",
          "good",
          "bad",
          "good",
          "bad",
          "good",
          "bad",
          "good",
          "good",
          "bad",
          "good",
          "bad",
          "good",
          "good",
          "good",
          "good",
          "good",
          "good",
          "bad",
          "bad",
          "bad",
          "good",
          "good",
          "good",
          "good",
          "bad",
          "good",
          "bad",
          "bad",
          "good",
          "good",
          "good",
          "bad",
          "good",
          "good",
          "good",
          "good",
          "good",
          "good",
          "bad",
          "good",
          "good",
          "good",
          "good",
          "bad",
          "good",
          "good",
          "good",
          "good",
          "good",
          "good",
          "good",
          "good",
          "good",
          "good",
          "good",
          "good",
          "bad",
          "good",
          "good",
          "bad",
          "good",
          "bad",
          "good",
          "good",
          "bad",
          "good",
          "bad",
          "good",
          "good",
          "bad",
          "good",
          "good",
          "bad",
          "good",
          "good",
          "good",
          "good",
          "good",
          "good",
          "bad",
          "good",
          "good",
          "good",
          "bad",
          "good",
          "bad",
          "good",
          "good",
          "bad",
          "good",
          "bad",
          "good",
          "good",
          "good",
          "good",
          "good",
          "good",
          "good",
          "good",
          "good",
          "bad",
          "bad",
          "bad",
          "bad",
          "good",
          "good",
          "good",
          "good",
          "good",
          "good",
          "good",
          "good",
          "good",
          "good",
          "good",
          "good",
          "good",
          "bad",
          "good",
          "good",
          "bad",
          "good",
          "good",
          "bad",
          "bad",
          "good",
          "good",
          "bad",
          "good",
          "good",
          "good",
          "good",
          "bad",
          "good",
          "good",
          "good",
          "bad",
          "bad",
          "good",
          "good",
          "good",
          "bad",
          "good",
          "bad",
          "good",
          "good",
          "good",
          "bad",
          "good",
          "bad",
          "good",
          "bad",
          "bad",
          "good",
          "good",
          "good",
          "good",
          "bad",
          "good",
          "bad",
          "bad",
          "bad",
          "bad",
          "good",
          "good",
          "bad",
          "good",
          "bad",
          "good",
          "good",
          "bad",
          "good",
          "good",
          "good",
          "good",
          "bad",
          "bad",
          "good",
          "bad",
          "good",
          "bad",
          "good",
          "bad",
          "bad",
          "good",
          "good",
          "bad",
          "good",
          "good",
          "bad",
          "good",
          "good",
          "bad",
          "good",
          "good",
          "bad",
          "good",
          "bad",
          "good",
          "bad",
          "bad",
          "good",
          "bad",
          "good",
          "good",
          "bad",
          "good",
          "good",
          "bad",
          "good",
          "bad",
          "good",
          "good",
          "good",
          "good",
          "bad",
          "good",
          "bad",
          "good",
          "bad",
          "bad",
          "bad",
          "good",
          "good",
          "good",
          "good",
          "good",
          "good",
          "bad",
          "good",
          "good",
          "good",
          "bad",
          "good",
          "good",
          "good",
          "good",
          "bad",
          "good",
          "good",
          "good",
          "good",
          "good",
          "good",
          "good",
          "good",
          "good",
          "good",
          "good",
          "good",
          "good",
          "good",
          "good",
          "good",
          "bad",
          "good",
          "good",
          "good",
          "good",
          "bad",
          "bad",
          "good",
          "bad",
          "good",
          "good",
          "good",
          "good",
          "bad",
          "bad",
          "bad",
          "bad",
          "good",
          "good",
          "good",
          "good",
          "good",
          "good",
          "good",
          "good",
          "good",
          "good",
          "good",
          "good",
          "bad",
          "bad",
          "bad",
          "good",
          "bad",
          "good",
          "bad",
          "good",
          "good",
          "good",
          "good",
          "good",
          "bad",
          "good",
          "good",
          "good",
          "bad",
          "good",
          "good",
          "good",
          "bad",
          "bad",
          "bad",
          "good",
          "good",
          "good",
          "good",
          "bad",
          "good",
          "good",
          "good",
          "good",
          "bad",
          "good",
          "good",
          "bad",
          "bad",
          "bad",
          "good",
          "good",
          "good",
          "bad",
          "good",
          "good",
          "bad",
          "good",
          "bad",
          "bad",
          "bad",
          "good",
          "good",
          "bad",
          "bad",
          "good",
          "bad",
          "good",
          "good",
          "good",
          "bad",
          "bad",
          "good",
          "good",
          "good",
          "bad",
          "good",
          "good",
          "bad",
          "good",
          "good",
          "good",
          "good",
          "good",
          "good",
          "bad",
          "good",
          "good",
          "bad",
          "bad",
          "good",
          "good",
          "good",
          "good",
          "good",
          "good",
          "good",
          "good",
          "good",
          "good",
          "good",
          "good",
          "good",
          "good",
          "bad",
          "bad",
          "good",
          "bad",
          "good",
          "good",
          "good",
          "good",
          "good",
          "bad",
          "bad",
          "good",
          "good",
          "good",
          "good",
          "good",
          "good",
          "good",
          "bad",
          "good",
          "bad",
          "good",
          "bad",
          "good",
          "bad",
          "bad",
          "good",
          "bad",
          "good",
          "bad",
          "good",
          "good",
          "good",
          "bad",
          "good",
          "good",
          "good",
          "bad",
          "bad",
          "bad",
          "bad",
          "good",
          "good",
          "good",
          "good",
          "good",
          "bad",
          "good",
          "good",
          "good",
          "bad",
          "good",
          "good",
          "good",
          "bad",
          "bad",
          "bad",
          "good",
          "good",
          "good",
          "good",
          "good",
          "bad",
          "good"
         ],
         "x0": " ",
         "xaxis": "x",
         "y": [
          67,
          22,
          45,
          53,
          53,
          25,
          24,
          22,
          28,
          53,
          25,
          31,
          48,
          44,
          44,
          26,
          42,
          34,
          63,
          36,
          27,
          30,
          31,
          37,
          37,
          24,
          26,
          24,
          39,
          28,
          25,
          31,
          57,
          31,
          27,
          50,
          25,
          26,
          48,
          29,
          22,
          37,
          25,
          30,
          34,
          51,
          22,
          44,
          47,
          27,
          47,
          28,
          56,
          54,
          20,
          54,
          58,
          61,
          34,
          36,
          24,
          24,
          35,
          26,
          32,
          30,
          35,
          31,
          23,
          25,
          35,
          47,
          27,
          23,
          25,
          63,
          27,
          30,
          30,
          29,
          24,
          29,
          47,
          21,
          38,
          27,
          35,
          22,
          23,
          30,
          39,
          51,
          28,
          46,
          42,
          38,
          24,
          29,
          20,
          48,
          38,
          36,
          30,
          36,
          36,
          32,
          33,
          20,
          25,
          31,
          33,
          26,
          33,
          26,
          42,
          52,
          65,
          28,
          50,
          36,
          31,
          20,
          33,
          36,
          29,
          21,
          28,
          27,
          36,
          52,
          26,
          21,
          43,
          26,
          55,
          33,
          50,
          51,
          31,
          23,
          64,
          23,
          30,
          32,
          30,
          27,
          27,
          22,
          22,
          26,
          35,
          35,
          39,
          29,
          51,
          24,
          27,
          25,
          52,
          35,
          26,
          22,
          24,
          35,
          24,
          29,
          23,
          27,
          55,
          37,
          36,
          38,
          25,
          32,
          37,
          28,
          32,
          26,
          32,
          23,
          50,
          63,
          37,
          26,
          49,
          48,
          26,
          56,
          26,
          20,
          43,
          32,
          42,
          49,
          44,
          33,
          24,
          25,
          26,
          31,
          32,
          32,
          28,
          36,
          49,
          34,
          31,
          28,
          30,
          23,
          24,
          28,
          24,
          25,
          23,
          32,
          23,
          29,
          28,
          46,
          49,
          28,
          23,
          61,
          36,
          21,
          36,
          27,
          22,
          42,
          40,
          36,
          33,
          23,
          37,
          34,
          36,
          39,
          25,
          26,
          25,
          21,
          27,
          27,
          31,
          32,
          46,
          46,
          39,
          28,
          27,
          43,
          22,
          43,
          27,
          28,
          20,
          35,
          35,
          23,
          33,
          20,
          30,
          25,
          21,
          29,
          46,
          20,
          33,
          25,
          25,
          37,
          30,
          29,
          34,
          35,
          61,
          29,
          34,
          31,
          36,
          35,
          27,
          32,
          37,
          36,
          38,
          34,
          63,
          32,
          26,
          22,
          23,
          33,
          26,
          24,
          25,
          44,
          26,
          57,
          30,
          44,
          52,
          62,
          26,
          26,
          27,
          38,
          20,
          40,
          28,
          27,
          42,
          49,
          38,
          24,
          36,
          28,
          26,
          26,
          20,
          54,
          37,
          23,
          43,
          36,
          44,
          24,
          53,
          23,
          30,
          31,
          31,
          32,
          28,
          41,
          26,
          25,
          33,
          37,
          23,
          60,
          31,
          43,
          37,
          32,
          35,
          23,
          34,
          27,
          22,
          28,
          29,
          27,
          49,
          29,
          37,
          23,
          36,
          34,
          41,
          31,
          38,
          24,
          27,
          33,
          27,
          30,
          26,
          20,
          36,
          60,
          42,
          23,
          31,
          32,
          45,
          30,
          23,
          22,
          50,
          33,
          45,
          22,
          29,
          22,
          22,
          37,
          21,
          27,
          32,
          38,
          22,
          65,
          35,
          41,
          29,
          36,
          28,
          44,
          23,
          19,
          47,
          28,
          21,
          34,
          26,
          33,
          27,
          32,
          26,
          38,
          45,
          35,
          22,
          37,
          28,
          41,
          23,
          23,
          50,
          34,
          27,
          43,
          47,
          31,
          24,
          33,
          24,
          26,
          56,
          37,
          33,
          47,
          34,
          27,
          30,
          35,
          31,
          25,
          29,
          28,
          50,
          29,
          24,
          46,
          47,
          41,
          32,
          35,
          24,
          25,
          25,
          35,
          63,
          40,
          31,
          31,
          24,
          21,
          25,
          59,
          36,
          33,
          28,
          37,
          32,
          41,
          22,
          23,
          26,
          33,
          49,
          25,
          55,
          32,
          39,
          31,
          35,
          59,
          24,
          27,
          31,
          28,
          26,
          52,
          25,
          37,
          25,
          67,
          25,
          60,
          40,
          38,
          50,
          27,
          39,
          27,
          51,
          32,
          22,
          51,
          54,
          54,
          24,
          35,
          24,
          65,
          26,
          24,
          54,
          46,
          54,
          62,
          24,
          26,
          27,
          24,
          41,
          30,
          33,
          36,
          47,
          38,
          44,
          23,
          29,
          42,
          48,
          21,
          63,
          46,
          29,
          23,
          50,
          47,
          35,
          68,
          28,
          59,
          33,
          43,
          35,
          45,
          33,
          40,
          28,
          29,
          26,
          27,
          28,
          35,
          20,
          27,
          42,
          37,
          24,
          40,
          46,
          26,
          24,
          40,
          28,
          36,
          48,
          36,
          43,
          53,
          34,
          23,
          40,
          46,
          34,
          29,
          35,
          42,
          43,
          44,
          42,
          40,
          27,
          34,
          25,
          28,
          31,
          32,
          33,
          28,
          22,
          30,
          55,
          46,
          21,
          39,
          58,
          22,
          30,
          42,
          23,
          42,
          31,
          46,
          30,
          30,
          31,
          24,
          28,
          29,
          30,
          30,
          47,
          29,
          35,
          26,
          29,
          22,
          36,
          33,
          64,
          42,
          25,
          49,
          26,
          25,
          33,
          64,
          50,
          38,
          23,
          27
         ],
         "y0": " ",
         "yaxis": "y"
        },
        {
         "alignmentgroup": "True",
         "hovertemplate": "job='unskilled'<br>class=%{x}<br>age=%{y}<extra></extra>",
         "legendgroup": "'unskilled'",
         "marker": {
          "color": "#EF553B"
         },
         "name": "'unskilled'",
         "notched": false,
         "offsetgroup": "'unskilled'",
         "orientation": "v",
         "showlegend": true,
         "type": "box",
         "x": [
          "good",
          "good",
          "good",
          "bad",
          "bad",
          "good",
          "good",
          "good",
          "good",
          "bad",
          "good",
          "bad",
          "good",
          "good",
          "good",
          "bad",
          "good",
          "good",
          "good",
          "good",
          "good",
          "good",
          "bad",
          "good",
          "good",
          "good",
          "good",
          "good",
          "bad",
          "good",
          "good",
          "good",
          "bad",
          "bad",
          "good",
          "good",
          "good",
          "good",
          "good",
          "good",
          "good",
          "good",
          "good",
          "good",
          "bad",
          "good",
          "good",
          "good",
          "good",
          "good",
          "good",
          "good",
          "good",
          "bad",
          "good",
          "good",
          "good",
          "good",
          "bad",
          "good",
          "bad",
          "good",
          "bad",
          "good",
          "good",
          "good",
          "good",
          "good",
          "bad",
          "good",
          "good",
          "good",
          "good",
          "good",
          "good",
          "bad",
          "good",
          "good",
          "good",
          "good",
          "good",
          "good",
          "bad",
          "good",
          "good",
          "good",
          "bad",
          "good",
          "bad",
          "good",
          "bad",
          "good",
          "good",
          "good",
          "good",
          "good",
          "bad",
          "good",
          "good",
          "good",
          "good",
          "good",
          "bad",
          "good",
          "bad",
          "good",
          "bad",
          "bad",
          "bad",
          "good",
          "good",
          "good",
          "good",
          "bad",
          "good",
          "bad",
          "good",
          "good",
          "bad",
          "bad",
          "bad",
          "bad",
          "bad",
          "good",
          "good",
          "bad",
          "good",
          "bad",
          "bad",
          "bad",
          "good",
          "good",
          "bad",
          "good",
          "good",
          "good",
          "good",
          "bad",
          "good",
          "good",
          "bad",
          "good",
          "good",
          "good",
          "bad",
          "good",
          "good",
          "bad",
          "good",
          "good",
          "bad",
          "bad",
          "good",
          "good",
          "good",
          "bad",
          "good",
          "good",
          "bad",
          "good",
          "good",
          "good",
          "good",
          "good",
          "good",
          "bad",
          "good",
          "good",
          "bad",
          "bad",
          "good",
          "bad",
          "good",
          "good",
          "good",
          "good",
          "good",
          "good",
          "bad",
          "good",
          "good",
          "bad",
          "good",
          "good",
          "bad",
          "good",
          "good",
          "bad",
          "good",
          "bad",
          "good",
          "good",
          "good",
          "bad",
          "good",
          "good",
          "good",
          "good",
          "good",
          "good"
         ],
         "x0": " ",
         "xaxis": "x",
         "y": [
          49,
          35,
          61,
          60,
          32,
          48,
          36,
          39,
          57,
          25,
          44,
          58,
          39,
          29,
          26,
          23,
          46,
          41,
          39,
          24,
          58,
          52,
          33,
          41,
          28,
          24,
          40,
          27,
          66,
          44,
          45,
          34,
          40,
          34,
          27,
          38,
          21,
          45,
          39,
          24,
          26,
          51,
          25,
          42,
          61,
          35,
          39,
          46,
          27,
          35,
          57,
          57,
          32,
          34,
          49,
          49,
          35,
          45,
          37,
          24,
          33,
          22,
          25,
          29,
          38,
          48,
          27,
          39,
          24,
          23,
          31,
          26,
          37,
          43,
          34,
          23,
          52,
          26,
          19,
          43,
          27,
          40,
          33,
          47,
          74,
          23,
          41,
          41,
          29,
          35,
          28,
          39,
          23,
          35,
          39,
          32,
          27,
          40,
          26,
          42,
          41,
          45,
          34,
          61,
          24,
          45,
          31,
          24,
          23,
          22,
          27,
          27,
          49,
          33,
          21,
          47,
          58,
          36,
          20,
          32,
          36,
          34,
          48,
          49,
          64,
          25,
          38,
          40,
          37,
          41,
          50,
          27,
          41,
          64,
          31,
          25,
          44,
          29,
          37,
          25,
          24,
          66,
          41,
          47,
          21,
          44,
          35,
          26,
          23,
          28,
          37,
          23,
          23,
          24,
          40,
          31,
          63,
          31,
          23,
          35,
          22,
          48,
          26,
          28,
          47,
          25,
          23,
          28,
          57,
          32,
          32,
          25,
          29,
          38,
          33,
          24,
          46,
          33,
          25,
          43,
          24,
          28,
          31,
          42,
          43,
          49,
          37,
          45,
          22,
          23,
          40,
          43,
          57,
          47,
          30,
          48,
          37,
          34,
          23,
          31
         ],
         "y0": " ",
         "yaxis": "y"
        },
        {
         "alignmentgroup": "True",
         "hovertemplate": "job='management'<br>class=%{x}<br>age=%{y}<extra></extra>",
         "legendgroup": "'management'",
         "marker": {
          "color": "#00cc96"
         },
         "name": "'management'",
         "notched": false,
         "offsetgroup": "'management'",
         "orientation": "v",
         "showlegend": true,
         "type": "box",
         "x": [
          "good",
          "bad",
          "bad",
          "good",
          "good",
          "good",
          "good",
          "bad",
          "good",
          "bad",
          "good",
          "bad",
          "good",
          "good",
          "good",
          "good",
          "bad",
          "bad",
          "bad",
          "good",
          "good",
          "good",
          "good",
          "good",
          "good",
          "good",
          "bad",
          "bad",
          "good",
          "bad",
          "bad",
          "bad",
          "bad",
          "bad",
          "good",
          "bad",
          "bad",
          "bad",
          "good",
          "bad",
          "good",
          "good",
          "good",
          "bad",
          "good",
          "good",
          "bad",
          "good",
          "good",
          "bad",
          "bad",
          "good",
          "good",
          "bad",
          "good",
          "good",
          "bad",
          "bad",
          "bad",
          "good",
          "good",
          "good",
          "good",
          "good",
          "good",
          "good",
          "bad",
          "good",
          "good",
          "bad",
          "good",
          "good",
          "bad",
          "good",
          "good",
          "good",
          "good",
          "good",
          "good",
          "bad",
          "bad",
          "bad",
          "bad",
          "good",
          "good",
          "good",
          "bad",
          "good",
          "good",
          "good",
          "good",
          "bad",
          "bad",
          "good",
          "good",
          "good",
          "bad",
          "good",
          "good",
          "bad",
          "good",
          "good",
          "good",
          "good",
          "good",
          "good",
          "good",
          "bad",
          "good",
          "bad",
          "bad",
          "good",
          "good",
          "bad",
          "bad",
          "good",
          "good",
          "good",
          "good",
          "good",
          "good",
          "good",
          "good",
          "bad",
          "good",
          "good",
          "good",
          "good",
          "good",
          "good",
          "good",
          "bad",
          "bad",
          "bad",
          "good",
          "bad",
          "good",
          "good",
          "good",
          "good",
          "bad",
          "good",
          "good",
          "bad",
          "good",
          "good",
          "good",
          "good"
         ],
         "x0": " ",
         "xaxis": "x",
         "y": [
          35,
          28,
          44,
          33,
          30,
          35,
          30,
          52,
          23,
          61,
          51,
          40,
          66,
          29,
          30,
          36,
          39,
          39,
          30,
          36,
          41,
          34,
          30,
          27,
          36,
          70,
          34,
          53,
          31,
          30,
          74,
          54,
          34,
          40,
          38,
          66,
          53,
          30,
          36,
          45,
          36,
          29,
          31,
          28,
          44,
          46,
          28,
          34,
          75,
          24,
          44,
          33,
          38,
          26,
          37,
          63,
          60,
          57,
          38,
          40,
          30,
          39,
          31,
          55,
          26,
          35,
          42,
          31,
          34,
          29,
          36,
          39,
          30,
          55,
          30,
          35,
          29,
          34,
          36,
          47,
          42,
          29,
          34,
          45,
          32,
          75,
          42,
          67,
          37,
          26,
          52,
          40,
          28,
          74,
          48,
          27,
          40,
          32,
          50,
          42,
          35,
          27,
          42,
          26,
          40,
          32,
          46,
          27,
          32,
          34,
          23,
          45,
          30,
          30,
          25,
          36,
          38,
          60,
          41,
          55,
          43,
          35,
          36,
          27,
          38,
          34,
          43,
          31,
          28,
          36,
          20,
          32,
          68,
          39,
          37,
          30,
          30,
          46,
          45,
          38,
          26,
          57,
          54,
          33,
          28,
          29,
          30,
          40
         ],
         "y0": " ",
         "yaxis": "y"
        },
        {
         "alignmentgroup": "True",
         "hovertemplate": "job='unemployed'<br>class=%{x}<br>age=%{y}<extra></extra>",
         "legendgroup": "'unemployed'",
         "marker": {
          "color": "#ab63fa"
         },
         "name": "'unemployed'",
         "notched": false,
         "offsetgroup": "'unemployed'",
         "orientation": "v",
         "showlegend": true,
         "type": "box",
         "x": [
          "good",
          "good",
          "good",
          "bad",
          "good",
          "good",
          "good",
          "bad",
          "bad",
          "good",
          "bad",
          "bad",
          "good",
          "good",
          "good",
          "good",
          "good",
          "good",
          "bad",
          "good",
          "good",
          "bad"
         ],
         "x0": " ",
         "xaxis": "x",
         "y": [
          23,
          27,
          68,
          23,
          54,
          40,
          23,
          25,
          55,
          65,
          26,
          27,
          38,
          29,
          74,
          66,
          35,
          24,
          26,
          65,
          40,
          29
         ],
         "y0": " ",
         "yaxis": "y"
        }
       ],
       "layout": {
        "boxmode": "group",
        "legend": {
         "title": {
          "text": "job"
         },
         "tracegroupgap": 0
        },
        "margin": {
         "t": 60
        },
        "template": {
         "data": {
          "bar": [
           {
            "error_x": {
             "color": "#2a3f5f"
            },
            "error_y": {
             "color": "#2a3f5f"
            },
            "marker": {
             "line": {
              "color": "#E5ECF6",
              "width": 0.5
             },
             "pattern": {
              "fillmode": "overlay",
              "size": 10,
              "solidity": 0.2
             }
            },
            "type": "bar"
           }
          ],
          "barpolar": [
           {
            "marker": {
             "line": {
              "color": "#E5ECF6",
              "width": 0.5
             },
             "pattern": {
              "fillmode": "overlay",
              "size": 10,
              "solidity": 0.2
             }
            },
            "type": "barpolar"
           }
          ],
          "carpet": [
           {
            "aaxis": {
             "endlinecolor": "#2a3f5f",
             "gridcolor": "white",
             "linecolor": "white",
             "minorgridcolor": "white",
             "startlinecolor": "#2a3f5f"
            },
            "baxis": {
             "endlinecolor": "#2a3f5f",
             "gridcolor": "white",
             "linecolor": "white",
             "minorgridcolor": "white",
             "startlinecolor": "#2a3f5f"
            },
            "type": "carpet"
           }
          ],
          "choropleth": [
           {
            "colorbar": {
             "outlinewidth": 0,
             "ticks": ""
            },
            "type": "choropleth"
           }
          ],
          "contour": [
           {
            "colorbar": {
             "outlinewidth": 0,
             "ticks": ""
            },
            "colorscale": [
             [
              0,
              "#0d0887"
             ],
             [
              0.1111111111111111,
              "#46039f"
             ],
             [
              0.2222222222222222,
              "#7201a8"
             ],
             [
              0.3333333333333333,
              "#9c179e"
             ],
             [
              0.4444444444444444,
              "#bd3786"
             ],
             [
              0.5555555555555556,
              "#d8576b"
             ],
             [
              0.6666666666666666,
              "#ed7953"
             ],
             [
              0.7777777777777778,
              "#fb9f3a"
             ],
             [
              0.8888888888888888,
              "#fdca26"
             ],
             [
              1,
              "#f0f921"
             ]
            ],
            "type": "contour"
           }
          ],
          "contourcarpet": [
           {
            "colorbar": {
             "outlinewidth": 0,
             "ticks": ""
            },
            "type": "contourcarpet"
           }
          ],
          "heatmap": [
           {
            "colorbar": {
             "outlinewidth": 0,
             "ticks": ""
            },
            "colorscale": [
             [
              0,
              "#0d0887"
             ],
             [
              0.1111111111111111,
              "#46039f"
             ],
             [
              0.2222222222222222,
              "#7201a8"
             ],
             [
              0.3333333333333333,
              "#9c179e"
             ],
             [
              0.4444444444444444,
              "#bd3786"
             ],
             [
              0.5555555555555556,
              "#d8576b"
             ],
             [
              0.6666666666666666,
              "#ed7953"
             ],
             [
              0.7777777777777778,
              "#fb9f3a"
             ],
             [
              0.8888888888888888,
              "#fdca26"
             ],
             [
              1,
              "#f0f921"
             ]
            ],
            "type": "heatmap"
           }
          ],
          "heatmapgl": [
           {
            "colorbar": {
             "outlinewidth": 0,
             "ticks": ""
            },
            "colorscale": [
             [
              0,
              "#0d0887"
             ],
             [
              0.1111111111111111,
              "#46039f"
             ],
             [
              0.2222222222222222,
              "#7201a8"
             ],
             [
              0.3333333333333333,
              "#9c179e"
             ],
             [
              0.4444444444444444,
              "#bd3786"
             ],
             [
              0.5555555555555556,
              "#d8576b"
             ],
             [
              0.6666666666666666,
              "#ed7953"
             ],
             [
              0.7777777777777778,
              "#fb9f3a"
             ],
             [
              0.8888888888888888,
              "#fdca26"
             ],
             [
              1,
              "#f0f921"
             ]
            ],
            "type": "heatmapgl"
           }
          ],
          "histogram": [
           {
            "marker": {
             "pattern": {
              "fillmode": "overlay",
              "size": 10,
              "solidity": 0.2
             }
            },
            "type": "histogram"
           }
          ],
          "histogram2d": [
           {
            "colorbar": {
             "outlinewidth": 0,
             "ticks": ""
            },
            "colorscale": [
             [
              0,
              "#0d0887"
             ],
             [
              0.1111111111111111,
              "#46039f"
             ],
             [
              0.2222222222222222,
              "#7201a8"
             ],
             [
              0.3333333333333333,
              "#9c179e"
             ],
             [
              0.4444444444444444,
              "#bd3786"
             ],
             [
              0.5555555555555556,
              "#d8576b"
             ],
             [
              0.6666666666666666,
              "#ed7953"
             ],
             [
              0.7777777777777778,
              "#fb9f3a"
             ],
             [
              0.8888888888888888,
              "#fdca26"
             ],
             [
              1,
              "#f0f921"
             ]
            ],
            "type": "histogram2d"
           }
          ],
          "histogram2dcontour": [
           {
            "colorbar": {
             "outlinewidth": 0,
             "ticks": ""
            },
            "colorscale": [
             [
              0,
              "#0d0887"
             ],
             [
              0.1111111111111111,
              "#46039f"
             ],
             [
              0.2222222222222222,
              "#7201a8"
             ],
             [
              0.3333333333333333,
              "#9c179e"
             ],
             [
              0.4444444444444444,
              "#bd3786"
             ],
             [
              0.5555555555555556,
              "#d8576b"
             ],
             [
              0.6666666666666666,
              "#ed7953"
             ],
             [
              0.7777777777777778,
              "#fb9f3a"
             ],
             [
              0.8888888888888888,
              "#fdca26"
             ],
             [
              1,
              "#f0f921"
             ]
            ],
            "type": "histogram2dcontour"
           }
          ],
          "mesh3d": [
           {
            "colorbar": {
             "outlinewidth": 0,
             "ticks": ""
            },
            "type": "mesh3d"
           }
          ],
          "parcoords": [
           {
            "line": {
             "colorbar": {
              "outlinewidth": 0,
              "ticks": ""
             }
            },
            "type": "parcoords"
           }
          ],
          "pie": [
           {
            "automargin": true,
            "type": "pie"
           }
          ],
          "scatter": [
           {
            "fillpattern": {
             "fillmode": "overlay",
             "size": 10,
             "solidity": 0.2
            },
            "type": "scatter"
           }
          ],
          "scatter3d": [
           {
            "line": {
             "colorbar": {
              "outlinewidth": 0,
              "ticks": ""
             }
            },
            "marker": {
             "colorbar": {
              "outlinewidth": 0,
              "ticks": ""
             }
            },
            "type": "scatter3d"
           }
          ],
          "scattercarpet": [
           {
            "marker": {
             "colorbar": {
              "outlinewidth": 0,
              "ticks": ""
             }
            },
            "type": "scattercarpet"
           }
          ],
          "scattergeo": [
           {
            "marker": {
             "colorbar": {
              "outlinewidth": 0,
              "ticks": ""
             }
            },
            "type": "scattergeo"
           }
          ],
          "scattergl": [
           {
            "marker": {
             "colorbar": {
              "outlinewidth": 0,
              "ticks": ""
             }
            },
            "type": "scattergl"
           }
          ],
          "scattermapbox": [
           {
            "marker": {
             "colorbar": {
              "outlinewidth": 0,
              "ticks": ""
             }
            },
            "type": "scattermapbox"
           }
          ],
          "scatterpolar": [
           {
            "marker": {
             "colorbar": {
              "outlinewidth": 0,
              "ticks": ""
             }
            },
            "type": "scatterpolar"
           }
          ],
          "scatterpolargl": [
           {
            "marker": {
             "colorbar": {
              "outlinewidth": 0,
              "ticks": ""
             }
            },
            "type": "scatterpolargl"
           }
          ],
          "scatterternary": [
           {
            "marker": {
             "colorbar": {
              "outlinewidth": 0,
              "ticks": ""
             }
            },
            "type": "scatterternary"
           }
          ],
          "surface": [
           {
            "colorbar": {
             "outlinewidth": 0,
             "ticks": ""
            },
            "colorscale": [
             [
              0,
              "#0d0887"
             ],
             [
              0.1111111111111111,
              "#46039f"
             ],
             [
              0.2222222222222222,
              "#7201a8"
             ],
             [
              0.3333333333333333,
              "#9c179e"
             ],
             [
              0.4444444444444444,
              "#bd3786"
             ],
             [
              0.5555555555555556,
              "#d8576b"
             ],
             [
              0.6666666666666666,
              "#ed7953"
             ],
             [
              0.7777777777777778,
              "#fb9f3a"
             ],
             [
              0.8888888888888888,
              "#fdca26"
             ],
             [
              1,
              "#f0f921"
             ]
            ],
            "type": "surface"
           }
          ],
          "table": [
           {
            "cells": {
             "fill": {
              "color": "#EBF0F8"
             },
             "line": {
              "color": "white"
             }
            },
            "header": {
             "fill": {
              "color": "#C8D4E3"
             },
             "line": {
              "color": "white"
             }
            },
            "type": "table"
           }
          ]
         },
         "layout": {
          "annotationdefaults": {
           "arrowcolor": "#2a3f5f",
           "arrowhead": 0,
           "arrowwidth": 1
          },
          "autotypenumbers": "strict",
          "coloraxis": {
           "colorbar": {
            "outlinewidth": 0,
            "ticks": ""
           }
          },
          "colorscale": {
           "diverging": [
            [
             0,
             "#8e0152"
            ],
            [
             0.1,
             "#c51b7d"
            ],
            [
             0.2,
             "#de77ae"
            ],
            [
             0.3,
             "#f1b6da"
            ],
            [
             0.4,
             "#fde0ef"
            ],
            [
             0.5,
             "#f7f7f7"
            ],
            [
             0.6,
             "#e6f5d0"
            ],
            [
             0.7,
             "#b8e186"
            ],
            [
             0.8,
             "#7fbc41"
            ],
            [
             0.9,
             "#4d9221"
            ],
            [
             1,
             "#276419"
            ]
           ],
           "sequential": [
            [
             0,
             "#0d0887"
            ],
            [
             0.1111111111111111,
             "#46039f"
            ],
            [
             0.2222222222222222,
             "#7201a8"
            ],
            [
             0.3333333333333333,
             "#9c179e"
            ],
            [
             0.4444444444444444,
             "#bd3786"
            ],
            [
             0.5555555555555556,
             "#d8576b"
            ],
            [
             0.6666666666666666,
             "#ed7953"
            ],
            [
             0.7777777777777778,
             "#fb9f3a"
            ],
            [
             0.8888888888888888,
             "#fdca26"
            ],
            [
             1,
             "#f0f921"
            ]
           ],
           "sequentialminus": [
            [
             0,
             "#0d0887"
            ],
            [
             0.1111111111111111,
             "#46039f"
            ],
            [
             0.2222222222222222,
             "#7201a8"
            ],
            [
             0.3333333333333333,
             "#9c179e"
            ],
            [
             0.4444444444444444,
             "#bd3786"
            ],
            [
             0.5555555555555556,
             "#d8576b"
            ],
            [
             0.6666666666666666,
             "#ed7953"
            ],
            [
             0.7777777777777778,
             "#fb9f3a"
            ],
            [
             0.8888888888888888,
             "#fdca26"
            ],
            [
             1,
             "#f0f921"
            ]
           ]
          },
          "colorway": [
           "#636efa",
           "#EF553B",
           "#00cc96",
           "#ab63fa",
           "#FFA15A",
           "#19d3f3",
           "#FF6692",
           "#B6E880",
           "#FF97FF",
           "#FECB52"
          ],
          "font": {
           "color": "#2a3f5f"
          },
          "geo": {
           "bgcolor": "white",
           "lakecolor": "white",
           "landcolor": "#E5ECF6",
           "showlakes": true,
           "showland": true,
           "subunitcolor": "white"
          },
          "hoverlabel": {
           "align": "left"
          },
          "hovermode": "closest",
          "mapbox": {
           "style": "light"
          },
          "paper_bgcolor": "white",
          "plot_bgcolor": "#E5ECF6",
          "polar": {
           "angularaxis": {
            "gridcolor": "white",
            "linecolor": "white",
            "ticks": ""
           },
           "bgcolor": "#E5ECF6",
           "radialaxis": {
            "gridcolor": "white",
            "linecolor": "white",
            "ticks": ""
           }
          },
          "scene": {
           "xaxis": {
            "backgroundcolor": "#E5ECF6",
            "gridcolor": "white",
            "gridwidth": 2,
            "linecolor": "white",
            "showbackground": true,
            "ticks": "",
            "zerolinecolor": "white"
           },
           "yaxis": {
            "backgroundcolor": "#E5ECF6",
            "gridcolor": "white",
            "gridwidth": 2,
            "linecolor": "white",
            "showbackground": true,
            "ticks": "",
            "zerolinecolor": "white"
           },
           "zaxis": {
            "backgroundcolor": "#E5ECF6",
            "gridcolor": "white",
            "gridwidth": 2,
            "linecolor": "white",
            "showbackground": true,
            "ticks": "",
            "zerolinecolor": "white"
           }
          },
          "shapedefaults": {
           "line": {
            "color": "#2a3f5f"
           }
          },
          "ternary": {
           "aaxis": {
            "gridcolor": "white",
            "linecolor": "white",
            "ticks": ""
           },
           "baxis": {
            "gridcolor": "white",
            "linecolor": "white",
            "ticks": ""
           },
           "bgcolor": "#E5ECF6",
           "caxis": {
            "gridcolor": "white",
            "linecolor": "white",
            "ticks": ""
           }
          },
          "title": {
           "x": 0.05
          },
          "xaxis": {
           "automargin": true,
           "gridcolor": "white",
           "linecolor": "white",
           "ticks": "",
           "title": {
            "standoff": 15
           },
           "zerolinecolor": "white",
           "zerolinewidth": 2
          },
          "yaxis": {
           "automargin": true,
           "gridcolor": "white",
           "linecolor": "white",
           "ticks": "",
           "title": {
            "standoff": 15
           },
           "zerolinecolor": "white",
           "zerolinewidth": 2
          }
         }
        },
        "xaxis": {
         "anchor": "y",
         "domain": [
          0,
          1
         ],
         "title": {
          "text": "class"
         }
        },
        "yaxis": {
         "anchor": "x",
         "domain": [
          0,
          1
         ],
         "title": {
          "text": "age"
         }
        }
       }
      }
     },
     "metadata": {},
     "output_type": "display_data"
    }
   ],
   "source": [
    "px.box(df, x='class', y='age', color='job')"
   ]
  },
  {
   "cell_type": "markdown",
   "metadata": {},
   "source": [
    "If we plot by job as well, see in both credit rating groups that skilled workers are slightly younger than unskilled workers. In the bad credit rating group, management also tends to be even older.\n",
    "\n",
    "The unemployed bars are strange due to low count, so we shouldn't read too much into that here."
   ]
  },
  {
   "cell_type": "markdown",
   "metadata": {},
   "source": [
    "### How does amount of savings relate to credit worthiness?"
   ]
  },
  {
   "cell_type": "code",
   "execution_count": 36,
   "metadata": {},
   "outputs": [
    {
     "data": {
      "text/html": [
       "<div>\n",
       "<style scoped>\n",
       "    .dataframe tbody tr th:only-of-type {\n",
       "        vertical-align: middle;\n",
       "    }\n",
       "\n",
       "    .dataframe tbody tr th {\n",
       "        vertical-align: top;\n",
       "    }\n",
       "\n",
       "    .dataframe thead th {\n",
       "        text-align: right;\n",
       "    }\n",
       "</style>\n",
       "<table border=\"1\" class=\"dataframe\">\n",
       "  <thead>\n",
       "    <tr style=\"text-align: right;\">\n",
       "      <th></th>\n",
       "      <th>class</th>\n",
       "      <th>savings_status</th>\n",
       "      <th>count</th>\n",
       "    </tr>\n",
       "  </thead>\n",
       "  <tbody>\n",
       "    <tr>\n",
       "      <th>0</th>\n",
       "      <td>good</td>\n",
       "      <td>'&lt;100'</td>\n",
       "      <td>386</td>\n",
       "    </tr>\n",
       "    <tr>\n",
       "      <th>1</th>\n",
       "      <td>bad</td>\n",
       "      <td>'&lt;100'</td>\n",
       "      <td>217</td>\n",
       "    </tr>\n",
       "    <tr>\n",
       "      <th>2</th>\n",
       "      <td>good</td>\n",
       "      <td>'no known savings'</td>\n",
       "      <td>151</td>\n",
       "    </tr>\n",
       "    <tr>\n",
       "      <th>3</th>\n",
       "      <td>good</td>\n",
       "      <td>'100&lt;=X&lt;500'</td>\n",
       "      <td>69</td>\n",
       "    </tr>\n",
       "    <tr>\n",
       "      <th>4</th>\n",
       "      <td>good</td>\n",
       "      <td>'500&lt;=X&lt;1000'</td>\n",
       "      <td>52</td>\n",
       "    </tr>\n",
       "    <tr>\n",
       "      <th>5</th>\n",
       "      <td>good</td>\n",
       "      <td>'&gt;=1000'</td>\n",
       "      <td>42</td>\n",
       "    </tr>\n",
       "    <tr>\n",
       "      <th>6</th>\n",
       "      <td>bad</td>\n",
       "      <td>'100&lt;=X&lt;500'</td>\n",
       "      <td>34</td>\n",
       "    </tr>\n",
       "    <tr>\n",
       "      <th>7</th>\n",
       "      <td>bad</td>\n",
       "      <td>'no known savings'</td>\n",
       "      <td>32</td>\n",
       "    </tr>\n",
       "    <tr>\n",
       "      <th>8</th>\n",
       "      <td>bad</td>\n",
       "      <td>'500&lt;=X&lt;1000'</td>\n",
       "      <td>11</td>\n",
       "    </tr>\n",
       "    <tr>\n",
       "      <th>9</th>\n",
       "      <td>bad</td>\n",
       "      <td>'&gt;=1000'</td>\n",
       "      <td>6</td>\n",
       "    </tr>\n",
       "  </tbody>\n",
       "</table>\n",
       "</div>"
      ],
      "text/plain": [
       "  class      savings_status  count\n",
       "0  good              '<100'    386\n",
       "1   bad              '<100'    217\n",
       "2  good  'no known savings'    151\n",
       "3  good        '100<=X<500'     69\n",
       "4  good       '500<=X<1000'     52\n",
       "5  good            '>=1000'     42\n",
       "6   bad        '100<=X<500'     34\n",
       "7   bad  'no known savings'     32\n",
       "8   bad       '500<=X<1000'     11\n",
       "9   bad            '>=1000'      6"
      ]
     },
     "execution_count": 36,
     "metadata": {},
     "output_type": "execute_result"
    }
   ],
   "source": [
    "counts=df.value_counts(['class','savings_status']).reset_index()\n",
    "counts"
   ]
  },
  {
   "cell_type": "code",
   "execution_count": 39,
   "metadata": {},
   "outputs": [
    {
     "data": {
      "application/vnd.plotly.v1+json": {
       "config": {
        "plotlyServerURL": "https://plot.ly"
       },
       "data": [
        {
         "alignmentgroup": "True",
         "hovertemplate": "class=good<br>savings_status=%{x}<br>count=%{y}<extra></extra>",
         "legendgroup": "good",
         "marker": {
          "color": "#636efa",
          "pattern": {
           "shape": ""
          }
         },
         "name": "good",
         "offsetgroup": "good",
         "orientation": "v",
         "showlegend": true,
         "textposition": "auto",
         "type": "bar",
         "x": [
          "'<100'",
          "'no known savings'",
          "'100<=X<500'",
          "'500<=X<1000'",
          "'>=1000'"
         ],
         "xaxis": "x",
         "y": [
          386,
          151,
          69,
          52,
          42
         ],
         "yaxis": "y"
        },
        {
         "alignmentgroup": "True",
         "hovertemplate": "class=bad<br>savings_status=%{x}<br>count=%{y}<extra></extra>",
         "legendgroup": "bad",
         "marker": {
          "color": "#EF553B",
          "pattern": {
           "shape": ""
          }
         },
         "name": "bad",
         "offsetgroup": "bad",
         "orientation": "v",
         "showlegend": true,
         "textposition": "auto",
         "type": "bar",
         "x": [
          "'<100'",
          "'100<=X<500'",
          "'no known savings'",
          "'500<=X<1000'",
          "'>=1000'"
         ],
         "xaxis": "x",
         "y": [
          217,
          34,
          32,
          11,
          6
         ],
         "yaxis": "y"
        }
       ],
       "layout": {
        "barmode": "group",
        "legend": {
         "title": {
          "text": "class"
         },
         "tracegroupgap": 0
        },
        "margin": {
         "t": 60
        },
        "template": {
         "data": {
          "bar": [
           {
            "error_x": {
             "color": "#2a3f5f"
            },
            "error_y": {
             "color": "#2a3f5f"
            },
            "marker": {
             "line": {
              "color": "#E5ECF6",
              "width": 0.5
             },
             "pattern": {
              "fillmode": "overlay",
              "size": 10,
              "solidity": 0.2
             }
            },
            "type": "bar"
           }
          ],
          "barpolar": [
           {
            "marker": {
             "line": {
              "color": "#E5ECF6",
              "width": 0.5
             },
             "pattern": {
              "fillmode": "overlay",
              "size": 10,
              "solidity": 0.2
             }
            },
            "type": "barpolar"
           }
          ],
          "carpet": [
           {
            "aaxis": {
             "endlinecolor": "#2a3f5f",
             "gridcolor": "white",
             "linecolor": "white",
             "minorgridcolor": "white",
             "startlinecolor": "#2a3f5f"
            },
            "baxis": {
             "endlinecolor": "#2a3f5f",
             "gridcolor": "white",
             "linecolor": "white",
             "minorgridcolor": "white",
             "startlinecolor": "#2a3f5f"
            },
            "type": "carpet"
           }
          ],
          "choropleth": [
           {
            "colorbar": {
             "outlinewidth": 0,
             "ticks": ""
            },
            "type": "choropleth"
           }
          ],
          "contour": [
           {
            "colorbar": {
             "outlinewidth": 0,
             "ticks": ""
            },
            "colorscale": [
             [
              0,
              "#0d0887"
             ],
             [
              0.1111111111111111,
              "#46039f"
             ],
             [
              0.2222222222222222,
              "#7201a8"
             ],
             [
              0.3333333333333333,
              "#9c179e"
             ],
             [
              0.4444444444444444,
              "#bd3786"
             ],
             [
              0.5555555555555556,
              "#d8576b"
             ],
             [
              0.6666666666666666,
              "#ed7953"
             ],
             [
              0.7777777777777778,
              "#fb9f3a"
             ],
             [
              0.8888888888888888,
              "#fdca26"
             ],
             [
              1,
              "#f0f921"
             ]
            ],
            "type": "contour"
           }
          ],
          "contourcarpet": [
           {
            "colorbar": {
             "outlinewidth": 0,
             "ticks": ""
            },
            "type": "contourcarpet"
           }
          ],
          "heatmap": [
           {
            "colorbar": {
             "outlinewidth": 0,
             "ticks": ""
            },
            "colorscale": [
             [
              0,
              "#0d0887"
             ],
             [
              0.1111111111111111,
              "#46039f"
             ],
             [
              0.2222222222222222,
              "#7201a8"
             ],
             [
              0.3333333333333333,
              "#9c179e"
             ],
             [
              0.4444444444444444,
              "#bd3786"
             ],
             [
              0.5555555555555556,
              "#d8576b"
             ],
             [
              0.6666666666666666,
              "#ed7953"
             ],
             [
              0.7777777777777778,
              "#fb9f3a"
             ],
             [
              0.8888888888888888,
              "#fdca26"
             ],
             [
              1,
              "#f0f921"
             ]
            ],
            "type": "heatmap"
           }
          ],
          "heatmapgl": [
           {
            "colorbar": {
             "outlinewidth": 0,
             "ticks": ""
            },
            "colorscale": [
             [
              0,
              "#0d0887"
             ],
             [
              0.1111111111111111,
              "#46039f"
             ],
             [
              0.2222222222222222,
              "#7201a8"
             ],
             [
              0.3333333333333333,
              "#9c179e"
             ],
             [
              0.4444444444444444,
              "#bd3786"
             ],
             [
              0.5555555555555556,
              "#d8576b"
             ],
             [
              0.6666666666666666,
              "#ed7953"
             ],
             [
              0.7777777777777778,
              "#fb9f3a"
             ],
             [
              0.8888888888888888,
              "#fdca26"
             ],
             [
              1,
              "#f0f921"
             ]
            ],
            "type": "heatmapgl"
           }
          ],
          "histogram": [
           {
            "marker": {
             "pattern": {
              "fillmode": "overlay",
              "size": 10,
              "solidity": 0.2
             }
            },
            "type": "histogram"
           }
          ],
          "histogram2d": [
           {
            "colorbar": {
             "outlinewidth": 0,
             "ticks": ""
            },
            "colorscale": [
             [
              0,
              "#0d0887"
             ],
             [
              0.1111111111111111,
              "#46039f"
             ],
             [
              0.2222222222222222,
              "#7201a8"
             ],
             [
              0.3333333333333333,
              "#9c179e"
             ],
             [
              0.4444444444444444,
              "#bd3786"
             ],
             [
              0.5555555555555556,
              "#d8576b"
             ],
             [
              0.6666666666666666,
              "#ed7953"
             ],
             [
              0.7777777777777778,
              "#fb9f3a"
             ],
             [
              0.8888888888888888,
              "#fdca26"
             ],
             [
              1,
              "#f0f921"
             ]
            ],
            "type": "histogram2d"
           }
          ],
          "histogram2dcontour": [
           {
            "colorbar": {
             "outlinewidth": 0,
             "ticks": ""
            },
            "colorscale": [
             [
              0,
              "#0d0887"
             ],
             [
              0.1111111111111111,
              "#46039f"
             ],
             [
              0.2222222222222222,
              "#7201a8"
             ],
             [
              0.3333333333333333,
              "#9c179e"
             ],
             [
              0.4444444444444444,
              "#bd3786"
             ],
             [
              0.5555555555555556,
              "#d8576b"
             ],
             [
              0.6666666666666666,
              "#ed7953"
             ],
             [
              0.7777777777777778,
              "#fb9f3a"
             ],
             [
              0.8888888888888888,
              "#fdca26"
             ],
             [
              1,
              "#f0f921"
             ]
            ],
            "type": "histogram2dcontour"
           }
          ],
          "mesh3d": [
           {
            "colorbar": {
             "outlinewidth": 0,
             "ticks": ""
            },
            "type": "mesh3d"
           }
          ],
          "parcoords": [
           {
            "line": {
             "colorbar": {
              "outlinewidth": 0,
              "ticks": ""
             }
            },
            "type": "parcoords"
           }
          ],
          "pie": [
           {
            "automargin": true,
            "type": "pie"
           }
          ],
          "scatter": [
           {
            "fillpattern": {
             "fillmode": "overlay",
             "size": 10,
             "solidity": 0.2
            },
            "type": "scatter"
           }
          ],
          "scatter3d": [
           {
            "line": {
             "colorbar": {
              "outlinewidth": 0,
              "ticks": ""
             }
            },
            "marker": {
             "colorbar": {
              "outlinewidth": 0,
              "ticks": ""
             }
            },
            "type": "scatter3d"
           }
          ],
          "scattercarpet": [
           {
            "marker": {
             "colorbar": {
              "outlinewidth": 0,
              "ticks": ""
             }
            },
            "type": "scattercarpet"
           }
          ],
          "scattergeo": [
           {
            "marker": {
             "colorbar": {
              "outlinewidth": 0,
              "ticks": ""
             }
            },
            "type": "scattergeo"
           }
          ],
          "scattergl": [
           {
            "marker": {
             "colorbar": {
              "outlinewidth": 0,
              "ticks": ""
             }
            },
            "type": "scattergl"
           }
          ],
          "scattermapbox": [
           {
            "marker": {
             "colorbar": {
              "outlinewidth": 0,
              "ticks": ""
             }
            },
            "type": "scattermapbox"
           }
          ],
          "scatterpolar": [
           {
            "marker": {
             "colorbar": {
              "outlinewidth": 0,
              "ticks": ""
             }
            },
            "type": "scatterpolar"
           }
          ],
          "scatterpolargl": [
           {
            "marker": {
             "colorbar": {
              "outlinewidth": 0,
              "ticks": ""
             }
            },
            "type": "scatterpolargl"
           }
          ],
          "scatterternary": [
           {
            "marker": {
             "colorbar": {
              "outlinewidth": 0,
              "ticks": ""
             }
            },
            "type": "scatterternary"
           }
          ],
          "surface": [
           {
            "colorbar": {
             "outlinewidth": 0,
             "ticks": ""
            },
            "colorscale": [
             [
              0,
              "#0d0887"
             ],
             [
              0.1111111111111111,
              "#46039f"
             ],
             [
              0.2222222222222222,
              "#7201a8"
             ],
             [
              0.3333333333333333,
              "#9c179e"
             ],
             [
              0.4444444444444444,
              "#bd3786"
             ],
             [
              0.5555555555555556,
              "#d8576b"
             ],
             [
              0.6666666666666666,
              "#ed7953"
             ],
             [
              0.7777777777777778,
              "#fb9f3a"
             ],
             [
              0.8888888888888888,
              "#fdca26"
             ],
             [
              1,
              "#f0f921"
             ]
            ],
            "type": "surface"
           }
          ],
          "table": [
           {
            "cells": {
             "fill": {
              "color": "#EBF0F8"
             },
             "line": {
              "color": "white"
             }
            },
            "header": {
             "fill": {
              "color": "#C8D4E3"
             },
             "line": {
              "color": "white"
             }
            },
            "type": "table"
           }
          ]
         },
         "layout": {
          "annotationdefaults": {
           "arrowcolor": "#2a3f5f",
           "arrowhead": 0,
           "arrowwidth": 1
          },
          "autotypenumbers": "strict",
          "coloraxis": {
           "colorbar": {
            "outlinewidth": 0,
            "ticks": ""
           }
          },
          "colorscale": {
           "diverging": [
            [
             0,
             "#8e0152"
            ],
            [
             0.1,
             "#c51b7d"
            ],
            [
             0.2,
             "#de77ae"
            ],
            [
             0.3,
             "#f1b6da"
            ],
            [
             0.4,
             "#fde0ef"
            ],
            [
             0.5,
             "#f7f7f7"
            ],
            [
             0.6,
             "#e6f5d0"
            ],
            [
             0.7,
             "#b8e186"
            ],
            [
             0.8,
             "#7fbc41"
            ],
            [
             0.9,
             "#4d9221"
            ],
            [
             1,
             "#276419"
            ]
           ],
           "sequential": [
            [
             0,
             "#0d0887"
            ],
            [
             0.1111111111111111,
             "#46039f"
            ],
            [
             0.2222222222222222,
             "#7201a8"
            ],
            [
             0.3333333333333333,
             "#9c179e"
            ],
            [
             0.4444444444444444,
             "#bd3786"
            ],
            [
             0.5555555555555556,
             "#d8576b"
            ],
            [
             0.6666666666666666,
             "#ed7953"
            ],
            [
             0.7777777777777778,
             "#fb9f3a"
            ],
            [
             0.8888888888888888,
             "#fdca26"
            ],
            [
             1,
             "#f0f921"
            ]
           ],
           "sequentialminus": [
            [
             0,
             "#0d0887"
            ],
            [
             0.1111111111111111,
             "#46039f"
            ],
            [
             0.2222222222222222,
             "#7201a8"
            ],
            [
             0.3333333333333333,
             "#9c179e"
            ],
            [
             0.4444444444444444,
             "#bd3786"
            ],
            [
             0.5555555555555556,
             "#d8576b"
            ],
            [
             0.6666666666666666,
             "#ed7953"
            ],
            [
             0.7777777777777778,
             "#fb9f3a"
            ],
            [
             0.8888888888888888,
             "#fdca26"
            ],
            [
             1,
             "#f0f921"
            ]
           ]
          },
          "colorway": [
           "#636efa",
           "#EF553B",
           "#00cc96",
           "#ab63fa",
           "#FFA15A",
           "#19d3f3",
           "#FF6692",
           "#B6E880",
           "#FF97FF",
           "#FECB52"
          ],
          "font": {
           "color": "#2a3f5f"
          },
          "geo": {
           "bgcolor": "white",
           "lakecolor": "white",
           "landcolor": "#E5ECF6",
           "showlakes": true,
           "showland": true,
           "subunitcolor": "white"
          },
          "hoverlabel": {
           "align": "left"
          },
          "hovermode": "closest",
          "mapbox": {
           "style": "light"
          },
          "paper_bgcolor": "white",
          "plot_bgcolor": "#E5ECF6",
          "polar": {
           "angularaxis": {
            "gridcolor": "white",
            "linecolor": "white",
            "ticks": ""
           },
           "bgcolor": "#E5ECF6",
           "radialaxis": {
            "gridcolor": "white",
            "linecolor": "white",
            "ticks": ""
           }
          },
          "scene": {
           "xaxis": {
            "backgroundcolor": "#E5ECF6",
            "gridcolor": "white",
            "gridwidth": 2,
            "linecolor": "white",
            "showbackground": true,
            "ticks": "",
            "zerolinecolor": "white"
           },
           "yaxis": {
            "backgroundcolor": "#E5ECF6",
            "gridcolor": "white",
            "gridwidth": 2,
            "linecolor": "white",
            "showbackground": true,
            "ticks": "",
            "zerolinecolor": "white"
           },
           "zaxis": {
            "backgroundcolor": "#E5ECF6",
            "gridcolor": "white",
            "gridwidth": 2,
            "linecolor": "white",
            "showbackground": true,
            "ticks": "",
            "zerolinecolor": "white"
           }
          },
          "shapedefaults": {
           "line": {
            "color": "#2a3f5f"
           }
          },
          "ternary": {
           "aaxis": {
            "gridcolor": "white",
            "linecolor": "white",
            "ticks": ""
           },
           "baxis": {
            "gridcolor": "white",
            "linecolor": "white",
            "ticks": ""
           },
           "bgcolor": "#E5ECF6",
           "caxis": {
            "gridcolor": "white",
            "linecolor": "white",
            "ticks": ""
           }
          },
          "title": {
           "x": 0.05
          },
          "xaxis": {
           "automargin": true,
           "gridcolor": "white",
           "linecolor": "white",
           "ticks": "",
           "title": {
            "standoff": 15
           },
           "zerolinecolor": "white",
           "zerolinewidth": 2
          },
          "yaxis": {
           "automargin": true,
           "gridcolor": "white",
           "linecolor": "white",
           "ticks": "",
           "title": {
            "standoff": 15
           },
           "zerolinecolor": "white",
           "zerolinewidth": 2
          }
         }
        },
        "xaxis": {
         "anchor": "y",
         "domain": [
          0,
          1
         ],
         "title": {
          "text": "savings_status"
         }
        },
        "yaxis": {
         "anchor": "x",
         "domain": [
          0,
          1
         ],
         "title": {
          "text": "count"
         }
        }
       }
      }
     },
     "metadata": {},
     "output_type": "display_data"
    }
   ],
   "source": [
    "px.bar(counts, color='class', y='count', x='savings_status', barmode='group')\n"
   ]
  },
  {
   "cell_type": "markdown",
   "metadata": {},
   "source": [
    "The most apparent thing here is that each savings bucket most people have good credit rating! I'm surprised to see for \"no known savings\", most are also of good credit rating.\n",
    "\n",
    "Once you look at savings of greater than 500, then a vast majority are of good credit rating."
   ]
  }
 ],
 "metadata": {
  "kernelspec": {
   "display_name": "Python 3",
   "language": "python",
   "name": "python3"
  },
  "language_info": {
   "codemirror_mode": {
    "name": "ipython",
    "version": 3
   },
   "file_extension": ".py",
   "mimetype": "text/x-python",
   "name": "python",
   "nbconvert_exporter": "python",
   "pygments_lexer": "ipython3",
   "version": "3.12.3"
  }
 },
 "nbformat": 4,
 "nbformat_minor": 4
}
