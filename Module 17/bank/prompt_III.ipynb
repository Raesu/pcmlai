{
 "cells": [
  {
   "cell_type": "markdown",
   "metadata": {},
   "source": [
    "# Practical Application III: Comparing Classifiers\n",
    "\n",
    "**Overview**: In this practical application, your goal is to compare the performance of the classifiers we encountered in this section, namely K Nearest Neighbor, Logistic Regression, Decision Trees, and Support Vector Machines.  We will utilize a dataset related to marketing bank products over the telephone.  \n",
    "\n"
   ]
  },
  {
   "cell_type": "markdown",
   "metadata": {},
   "source": [
    "### Getting Started\n",
    "\n",
    "Our dataset comes from the UCI Machine Learning repository [link](https://archive.ics.uci.edu/ml/datasets/bank+marketing).  The data is from a Portugese banking institution and is a collection of the results of multiple marketing campaigns.  We will make use of the article accompanying the dataset [here](CRISP-DM-BANK.pdf) for more information on the data and features.\n",
    "\n"
   ]
  },
  {
   "cell_type": "markdown",
   "metadata": {},
   "source": [
    "### Problem 1: Understanding the Data\n",
    "\n",
    "To gain a better understanding of the data, please read the information provided in the UCI link above, and examine the **Materials and Methods** section of the paper.  How many marketing campaigns does this data represent?"
   ]
  },
  {
   "cell_type": "code",
   "execution_count": 1,
   "metadata": {},
   "outputs": [],
   "source": [
    "#  Classification goal is to predict if a client will subscribe (yes/no) to a term deposit (y)\n",
    "# bank-additional-full has all examples 41188 and 20 inputs ordered by date May 2008 to November 2010)\n",
    "#   bank-additional.csv has 10% of the full set (for training SVM model if it is too slow)\n",
    "# bank.csv"
   ]
  },
  {
   "cell_type": "markdown",
   "metadata": {},
   "source": [
    "### Problem 2: Read in the Data\n",
    "\n",
    "Use pandas to read in the dataset `bank-additional-full.csv` and assign to a meaningful variable name."
   ]
  },
  {
   "cell_type": "code",
   "execution_count": 41,
   "metadata": {},
   "outputs": [],
   "source": [
    "import pandas as pd\n",
    "import seaborn as sns\n",
    "from sklearn.pipeline import Pipeline\n",
    "from sklearn.linear_model import LogisticRegression\n",
    "from sklearn.neighbors import KNeighborsClassifier\n",
    "from sklearn.svm import SVC\n",
    "from sklearn.preprocessing import OneHotEncoder, StandardScaler\n",
    "from sklearn.model_selection import train_test_split\n",
    "from sklearn.compose import ColumnTransformer\n",
    "from sklearn.dummy import DummyClassifier"
   ]
  },
  {
   "cell_type": "code",
   "execution_count": 3,
   "metadata": {},
   "outputs": [],
   "source": [
    "df = pd.read_csv('data/bank-additional-full.csv', sep = ';')"
   ]
  },
  {
   "cell_type": "code",
   "execution_count": 4,
   "metadata": {},
   "outputs": [
    {
     "data": {
      "text/html": [
       "<div>\n",
       "<style scoped>\n",
       "    .dataframe tbody tr th:only-of-type {\n",
       "        vertical-align: middle;\n",
       "    }\n",
       "\n",
       "    .dataframe tbody tr th {\n",
       "        vertical-align: top;\n",
       "    }\n",
       "\n",
       "    .dataframe thead th {\n",
       "        text-align: right;\n",
       "    }\n",
       "</style>\n",
       "<table border=\"1\" class=\"dataframe\">\n",
       "  <thead>\n",
       "    <tr style=\"text-align: right;\">\n",
       "      <th></th>\n",
       "      <th>age</th>\n",
       "      <th>job</th>\n",
       "      <th>marital</th>\n",
       "      <th>education</th>\n",
       "      <th>default</th>\n",
       "      <th>housing</th>\n",
       "      <th>loan</th>\n",
       "      <th>contact</th>\n",
       "      <th>month</th>\n",
       "      <th>day_of_week</th>\n",
       "      <th>...</th>\n",
       "      <th>campaign</th>\n",
       "      <th>pdays</th>\n",
       "      <th>previous</th>\n",
       "      <th>poutcome</th>\n",
       "      <th>emp.var.rate</th>\n",
       "      <th>cons.price.idx</th>\n",
       "      <th>cons.conf.idx</th>\n",
       "      <th>euribor3m</th>\n",
       "      <th>nr.employed</th>\n",
       "      <th>y</th>\n",
       "    </tr>\n",
       "  </thead>\n",
       "  <tbody>\n",
       "    <tr>\n",
       "      <th>0</th>\n",
       "      <td>56</td>\n",
       "      <td>housemaid</td>\n",
       "      <td>married</td>\n",
       "      <td>basic.4y</td>\n",
       "      <td>no</td>\n",
       "      <td>no</td>\n",
       "      <td>no</td>\n",
       "      <td>telephone</td>\n",
       "      <td>may</td>\n",
       "      <td>mon</td>\n",
       "      <td>...</td>\n",
       "      <td>1</td>\n",
       "      <td>999</td>\n",
       "      <td>0</td>\n",
       "      <td>nonexistent</td>\n",
       "      <td>1.1</td>\n",
       "      <td>93.994</td>\n",
       "      <td>-36.4</td>\n",
       "      <td>4.857</td>\n",
       "      <td>5191.0</td>\n",
       "      <td>no</td>\n",
       "    </tr>\n",
       "    <tr>\n",
       "      <th>1</th>\n",
       "      <td>57</td>\n",
       "      <td>services</td>\n",
       "      <td>married</td>\n",
       "      <td>high.school</td>\n",
       "      <td>unknown</td>\n",
       "      <td>no</td>\n",
       "      <td>no</td>\n",
       "      <td>telephone</td>\n",
       "      <td>may</td>\n",
       "      <td>mon</td>\n",
       "      <td>...</td>\n",
       "      <td>1</td>\n",
       "      <td>999</td>\n",
       "      <td>0</td>\n",
       "      <td>nonexistent</td>\n",
       "      <td>1.1</td>\n",
       "      <td>93.994</td>\n",
       "      <td>-36.4</td>\n",
       "      <td>4.857</td>\n",
       "      <td>5191.0</td>\n",
       "      <td>no</td>\n",
       "    </tr>\n",
       "    <tr>\n",
       "      <th>2</th>\n",
       "      <td>37</td>\n",
       "      <td>services</td>\n",
       "      <td>married</td>\n",
       "      <td>high.school</td>\n",
       "      <td>no</td>\n",
       "      <td>yes</td>\n",
       "      <td>no</td>\n",
       "      <td>telephone</td>\n",
       "      <td>may</td>\n",
       "      <td>mon</td>\n",
       "      <td>...</td>\n",
       "      <td>1</td>\n",
       "      <td>999</td>\n",
       "      <td>0</td>\n",
       "      <td>nonexistent</td>\n",
       "      <td>1.1</td>\n",
       "      <td>93.994</td>\n",
       "      <td>-36.4</td>\n",
       "      <td>4.857</td>\n",
       "      <td>5191.0</td>\n",
       "      <td>no</td>\n",
       "    </tr>\n",
       "    <tr>\n",
       "      <th>3</th>\n",
       "      <td>40</td>\n",
       "      <td>admin.</td>\n",
       "      <td>married</td>\n",
       "      <td>basic.6y</td>\n",
       "      <td>no</td>\n",
       "      <td>no</td>\n",
       "      <td>no</td>\n",
       "      <td>telephone</td>\n",
       "      <td>may</td>\n",
       "      <td>mon</td>\n",
       "      <td>...</td>\n",
       "      <td>1</td>\n",
       "      <td>999</td>\n",
       "      <td>0</td>\n",
       "      <td>nonexistent</td>\n",
       "      <td>1.1</td>\n",
       "      <td>93.994</td>\n",
       "      <td>-36.4</td>\n",
       "      <td>4.857</td>\n",
       "      <td>5191.0</td>\n",
       "      <td>no</td>\n",
       "    </tr>\n",
       "    <tr>\n",
       "      <th>4</th>\n",
       "      <td>56</td>\n",
       "      <td>services</td>\n",
       "      <td>married</td>\n",
       "      <td>high.school</td>\n",
       "      <td>no</td>\n",
       "      <td>no</td>\n",
       "      <td>yes</td>\n",
       "      <td>telephone</td>\n",
       "      <td>may</td>\n",
       "      <td>mon</td>\n",
       "      <td>...</td>\n",
       "      <td>1</td>\n",
       "      <td>999</td>\n",
       "      <td>0</td>\n",
       "      <td>nonexistent</td>\n",
       "      <td>1.1</td>\n",
       "      <td>93.994</td>\n",
       "      <td>-36.4</td>\n",
       "      <td>4.857</td>\n",
       "      <td>5191.0</td>\n",
       "      <td>no</td>\n",
       "    </tr>\n",
       "  </tbody>\n",
       "</table>\n",
       "<p>5 rows × 21 columns</p>\n",
       "</div>"
      ],
      "text/plain": [
       "   age        job  marital    education  default housing loan    contact  \\\n",
       "0   56  housemaid  married     basic.4y       no      no   no  telephone   \n",
       "1   57   services  married  high.school  unknown      no   no  telephone   \n",
       "2   37   services  married  high.school       no     yes   no  telephone   \n",
       "3   40     admin.  married     basic.6y       no      no   no  telephone   \n",
       "4   56   services  married  high.school       no      no  yes  telephone   \n",
       "\n",
       "  month day_of_week  ...  campaign  pdays  previous     poutcome emp.var.rate  \\\n",
       "0   may         mon  ...         1    999         0  nonexistent          1.1   \n",
       "1   may         mon  ...         1    999         0  nonexistent          1.1   \n",
       "2   may         mon  ...         1    999         0  nonexistent          1.1   \n",
       "3   may         mon  ...         1    999         0  nonexistent          1.1   \n",
       "4   may         mon  ...         1    999         0  nonexistent          1.1   \n",
       "\n",
       "   cons.price.idx  cons.conf.idx  euribor3m  nr.employed   y  \n",
       "0          93.994          -36.4      4.857       5191.0  no  \n",
       "1          93.994          -36.4      4.857       5191.0  no  \n",
       "2          93.994          -36.4      4.857       5191.0  no  \n",
       "3          93.994          -36.4      4.857       5191.0  no  \n",
       "4          93.994          -36.4      4.857       5191.0  no  \n",
       "\n",
       "[5 rows x 21 columns]"
      ]
     },
     "execution_count": 4,
     "metadata": {},
     "output_type": "execute_result"
    }
   ],
   "source": [
    "df.head()"
   ]
  },
  {
   "cell_type": "markdown",
   "metadata": {},
   "source": [
    "### Problem 3: Understanding the Features\n",
    "\n",
    "\n",
    "Examine the data description below, and determine if any of the features are missing values or need to be coerced to a different data type.\n",
    "\n",
    "\n",
    "```\n",
    "Input variables:\n",
    "# bank client data:\n",
    "1 - age (numeric)\n",
    "2 - job : type of job (categorical: 'admin.','blue-collar','entrepreneur','housemaid','management','retired','self-employed','services','student','technician','unemployed','unknown')\n",
    "3 - marital : marital status (categorical: 'divorced','married','single','unknown'; note: 'divorced' means divorced or widowed)\n",
    "4 - education (categorical: 'basic.4y','basic.6y','basic.9y','high.school','illiterate','professional.course','university.degree','unknown')\n",
    "5 - default: has credit in default? (categorical: 'no','yes','unknown')\n",
    "6 - housing: has housing loan? (categorical: 'no','yes','unknown')\n",
    "7 - loan: has personal loan? (categorical: 'no','yes','unknown')\n",
    "# related with the last contact of the current campaign:\n",
    "8 - contact: contact communication type (categorical: 'cellular','telephone')\n",
    "9 - month: last contact month of year (categorical: 'jan', 'feb', 'mar', ..., 'nov', 'dec')\n",
    "10 - day_of_week: last contact day of the week (categorical: 'mon','tue','wed','thu','fri')\n",
    "11 - duration: last contact duration, in seconds (numeric). Important note: this attribute highly affects the output target (e.g., if duration=0 then y='no'). Yet, the duration is not known before a call is performed. Also, after the end of the call y is obviously known. Thus, this input should only be included for benchmark purposes and should be discarded if the intention is to have a realistic predictive model.\n",
    "# other attributes:\n",
    "12 - campaign: number of contacts performed during this campaign and for this client (numeric, includes last contact)\n",
    "13 - pdays: number of days that passed by after the client was last contacted from a previous campaign (numeric; 999 means client was not previously contacted)\n",
    "14 - previous: number of contacts performed before this campaign and for this client (numeric)\n",
    "15 - poutcome: outcome of the previous marketing campaign (categorical: 'failure','nonexistent','success')\n",
    "# social and economic context attributes\n",
    "16 - emp.var.rate: employment variation rate - quarterly indicator (numeric)\n",
    "17 - cons.price.idx: consumer price index - monthly indicator (numeric)\n",
    "18 - cons.conf.idx: consumer confidence index - monthly indicator (numeric)\n",
    "19 - euribor3m: euribor 3 month rate - daily indicator (numeric)\n",
    "20 - nr.employed: number of employees - quarterly indicator (numeric)\n",
    "\n",
    "Output variable (desired target):\n",
    "21 - y - has the client subscribed a term deposit? (binary: 'yes','no')\n",
    "```\n",
    "\n"
   ]
  },
  {
   "cell_type": "code",
   "execution_count": 5,
   "metadata": {},
   "outputs": [
    {
     "name": "stdout",
     "output_type": "stream",
     "text": [
      "<class 'pandas.core.frame.DataFrame'>\n",
      "RangeIndex: 41188 entries, 0 to 41187\n",
      "Data columns (total 21 columns):\n",
      " #   Column          Non-Null Count  Dtype  \n",
      "---  ------          --------------  -----  \n",
      " 0   age             41188 non-null  int64  \n",
      " 1   job             41188 non-null  object \n",
      " 2   marital         41188 non-null  object \n",
      " 3   education       41188 non-null  object \n",
      " 4   default         41188 non-null  object \n",
      " 5   housing         41188 non-null  object \n",
      " 6   loan            41188 non-null  object \n",
      " 7   contact         41188 non-null  object \n",
      " 8   month           41188 non-null  object \n",
      " 9   day_of_week     41188 non-null  object \n",
      " 10  duration        41188 non-null  int64  \n",
      " 11  campaign        41188 non-null  int64  \n",
      " 12  pdays           41188 non-null  int64  \n",
      " 13  previous        41188 non-null  int64  \n",
      " 14  poutcome        41188 non-null  object \n",
      " 15  emp.var.rate    41188 non-null  float64\n",
      " 16  cons.price.idx  41188 non-null  float64\n",
      " 17  cons.conf.idx   41188 non-null  float64\n",
      " 18  euribor3m       41188 non-null  float64\n",
      " 19  nr.employed     41188 non-null  float64\n",
      " 20  y               41188 non-null  object \n",
      "dtypes: float64(5), int64(5), object(11)\n",
      "memory usage: 6.6+ MB\n"
     ]
    }
   ],
   "source": [
    "df.info()"
   ]
  },
  {
   "cell_type": "code",
   "execution_count": 6,
   "metadata": {},
   "outputs": [
    {
     "name": "stdout",
     "output_type": "stream",
     "text": [
      "y  \n",
      "no     36548\n",
      "yes     4640\n",
      "Name: count, dtype: int64\n"
     ]
    },
    {
     "data": {
      "text/plain": [
       "0.11265417111780131"
      ]
     },
     "execution_count": 6,
     "metadata": {},
     "output_type": "execute_result"
    }
   ],
   "source": [
    "# class balance is heavily weighted to no case (11%)\n",
    "print(df[['y']].value_counts())\n",
    "(df['y'] == 'yes').mean()"
   ]
  },
  {
   "cell_type": "code",
   "execution_count": 7,
   "metadata": {},
   "outputs": [
    {
     "data": {
      "text/plain": [
       "variable     value              \n",
       "contact      cellular               26144\n",
       "             telephone              15044\n",
       "day_of_week  fri                     7827\n",
       "             mon                     8514\n",
       "             thu                     8623\n",
       "             tue                     8090\n",
       "             wed                     8134\n",
       "default      no                     32588\n",
       "             unknown                 8597\n",
       "             yes                        3\n",
       "education    basic.4y                4176\n",
       "             basic.6y                2292\n",
       "             basic.9y                6045\n",
       "             high.school             9515\n",
       "             illiterate                18\n",
       "             professional.course     5243\n",
       "             university.degree      12168\n",
       "             unknown                 1731\n",
       "housing      no                     18622\n",
       "             unknown                  990\n",
       "             yes                    21576\n",
       "job          admin.                 10422\n",
       "             blue-collar             9254\n",
       "             entrepreneur            1456\n",
       "             housemaid               1060\n",
       "             management              2924\n",
       "             retired                 1720\n",
       "             self-employed           1421\n",
       "             services                3969\n",
       "             student                  875\n",
       "             technician              6743\n",
       "             unemployed              1014\n",
       "             unknown                  330\n",
       "loan         no                     33950\n",
       "             unknown                  990\n",
       "             yes                     6248\n",
       "marital      divorced                4612\n",
       "             married                24928\n",
       "             single                 11568\n",
       "             unknown                   80\n",
       "month        apr                     2632\n",
       "             aug                     6178\n",
       "             dec                      182\n",
       "             jul                     7174\n",
       "             jun                     5318\n",
       "             mar                      546\n",
       "             may                    13769\n",
       "             nov                     4101\n",
       "             oct                      718\n",
       "             sep                      570\n",
       "poutcome     failure                 4252\n",
       "             nonexistent            35563\n",
       "             success                 1373\n",
       "y            no                     36548\n",
       "             yes                     4640\n",
       "Name: count, dtype: int64"
      ]
     },
     "execution_count": 7,
     "metadata": {},
     "output_type": "execute_result"
    }
   ],
   "source": [
    "# Value counts look ok for non-numeric columns\n",
    "# rare values (default == yes 3, education == illiterate 18, marital == unknown 80)\n",
    "df.select_dtypes('object').melt().value_counts(dropna=False).sort_index()"
   ]
  },
  {
   "cell_type": "code",
   "execution_count": 8,
   "metadata": {},
   "outputs": [],
   "source": [
    "# Remove rare values - their predictive value will be very limited\n",
    "# Also removing marital == unknown which has n = 80. Even if this has predictive value,\n",
    "# it won't offer actionable insight for the business as it's really just missing data\n",
    "df = df.query('default != \"yes\" & education != \"illiterate\" & marital != \"unknown\"')"
   ]
  },
  {
   "cell_type": "code",
   "execution_count": 9,
   "metadata": {},
   "outputs": [
    {
     "data": {
      "text/plain": [
       "['job',\n",
       " 'marital',\n",
       " 'education',\n",
       " 'default',\n",
       " 'housing',\n",
       " 'loan',\n",
       " 'contact',\n",
       " 'month',\n",
       " 'day_of_week',\n",
       " 'poutcome']"
      ]
     },
     "execution_count": 9,
     "metadata": {},
     "output_type": "execute_result"
    }
   ],
   "source": [
    "# These columns need to be OneHotEncoded in the pipeline\n",
    "categoricalCols = df.select_dtypes('object').drop(columns='y').columns.to_list()\n",
    "categoricalCols"
   ]
  },
  {
   "cell_type": "markdown",
   "metadata": {},
   "source": [
    "### Problem 4: Understanding the Task\n",
    "\n",
    "After examining the description and data, your goal now is to clearly state the *Business Objective* of the task.  State the objective below."
   ]
  },
  {
   "cell_type": "code",
   "execution_count": 10,
   "metadata": {},
   "outputs": [],
   "source": [
    "# The business objective is to predict if a client will subscribe to a term deposit. This will likely be used by the bank's\n",
    "# phone center to improve revenue. I think the insights should have two goals, ranked by importance:\n",
    "#   1) Create a model that most accurately can maximize sales (the yes case). Interpretability is nice but is not required. This\n",
    "#      will help the phone center prioritize their calling time.\n",
    "#   2) If the model is interpretable, provide the business group with insights to help them find more marketing leads of\n",
    "#      a certain profile (likely purchasers). This will make their acquisition costs more efficient."
   ]
  },
  {
   "cell_type": "markdown",
   "metadata": {},
   "source": [
    "### Problem 5: Engineering Features\n",
    "\n",
    "Now that you understand your business objective, we will build a basic model to get started.  Before we can do this, we must work to encode the data.  Using just the bank information features, prepare the features and target column for modeling with appropriate encoding and transformations."
   ]
  },
  {
   "cell_type": "code",
   "execution_count": 24,
   "metadata": {},
   "outputs": [],
   "source": [
    "X = df.drop(columns='y')\n",
    "y = df['y']"
   ]
  },
  {
   "cell_type": "code",
   "execution_count": 25,
   "metadata": {},
   "outputs": [],
   "source": [
    "# This pipeline should cover the feature engineering, but needs to add an estimator\n",
    "# in the model creation phase\n",
    "\n",
    "columnTransformer = ColumnTransformer([\n",
    "  ('ohe', OneHotEncoder(drop = 'if_binary'), categoricalCols)\n",
    "], remainder='passthrough')\n",
    "\n",
    "pipeline = Pipeline([\n",
    "   ('ct', columnTransformer),\n",
    "   ('scale', StandardScaler())\n",
    " ])"
   ]
  },
  {
   "cell_type": "code",
   "execution_count": 30,
   "metadata": {},
   "outputs": [
    {
     "data": {
      "text/html": [
       "<div>\n",
       "<style scoped>\n",
       "    .dataframe tbody tr th:only-of-type {\n",
       "        vertical-align: middle;\n",
       "    }\n",
       "\n",
       "    .dataframe tbody tr th {\n",
       "        vertical-align: top;\n",
       "    }\n",
       "\n",
       "    .dataframe thead th {\n",
       "        text-align: right;\n",
       "    }\n",
       "</style>\n",
       "<table border=\"1\" class=\"dataframe\">\n",
       "  <thead>\n",
       "    <tr style=\"text-align: right;\">\n",
       "      <th></th>\n",
       "      <th>ohe__job_admin.</th>\n",
       "      <th>ohe__job_blue-collar</th>\n",
       "      <th>ohe__job_entrepreneur</th>\n",
       "      <th>ohe__job_housemaid</th>\n",
       "      <th>ohe__job_management</th>\n",
       "      <th>ohe__job_retired</th>\n",
       "      <th>ohe__job_self-employed</th>\n",
       "      <th>ohe__job_services</th>\n",
       "      <th>ohe__job_student</th>\n",
       "      <th>ohe__job_technician</th>\n",
       "      <th>...</th>\n",
       "      <th>remainder__age</th>\n",
       "      <th>remainder__duration</th>\n",
       "      <th>remainder__campaign</th>\n",
       "      <th>remainder__pdays</th>\n",
       "      <th>remainder__previous</th>\n",
       "      <th>remainder__emp.var.rate</th>\n",
       "      <th>remainder__cons.price.idx</th>\n",
       "      <th>remainder__cons.conf.idx</th>\n",
       "      <th>remainder__euribor3m</th>\n",
       "      <th>remainder__nr.employed</th>\n",
       "    </tr>\n",
       "  </thead>\n",
       "  <tbody>\n",
       "    <tr>\n",
       "      <th>0</th>\n",
       "      <td>-0.582418</td>\n",
       "      <td>-0.538343</td>\n",
       "      <td>-0.191333</td>\n",
       "      <td>6.156959</td>\n",
       "      <td>-0.276648</td>\n",
       "      <td>-0.208517</td>\n",
       "      <td>-0.18872</td>\n",
       "      <td>-0.326727</td>\n",
       "      <td>-0.147425</td>\n",
       "      <td>-0.442549</td>\n",
       "      <td>...</td>\n",
       "      <td>1.533757</td>\n",
       "      <td>0.010871</td>\n",
       "      <td>-0.565958</td>\n",
       "      <td>0.19526</td>\n",
       "      <td>-0.34917</td>\n",
       "      <td>0.647788</td>\n",
       "      <td>0.72232</td>\n",
       "      <td>0.886596</td>\n",
       "      <td>0.71219</td>\n",
       "      <td>0.331457</td>\n",
       "    </tr>\n",
       "    <tr>\n",
       "      <th>1</th>\n",
       "      <td>-0.582418</td>\n",
       "      <td>-0.538343</td>\n",
       "      <td>-0.191333</td>\n",
       "      <td>-0.162418</td>\n",
       "      <td>-0.276648</td>\n",
       "      <td>-0.208517</td>\n",
       "      <td>-0.18872</td>\n",
       "      <td>3.060662</td>\n",
       "      <td>-0.147425</td>\n",
       "      <td>-0.442549</td>\n",
       "      <td>...</td>\n",
       "      <td>1.629735</td>\n",
       "      <td>-0.421219</td>\n",
       "      <td>-0.565958</td>\n",
       "      <td>0.19526</td>\n",
       "      <td>-0.34917</td>\n",
       "      <td>0.647788</td>\n",
       "      <td>0.72232</td>\n",
       "      <td>0.886596</td>\n",
       "      <td>0.71219</td>\n",
       "      <td>0.331457</td>\n",
       "    </tr>\n",
       "    <tr>\n",
       "      <th>2</th>\n",
       "      <td>-0.582418</td>\n",
       "      <td>-0.538343</td>\n",
       "      <td>-0.191333</td>\n",
       "      <td>-0.162418</td>\n",
       "      <td>-0.276648</td>\n",
       "      <td>-0.208517</td>\n",
       "      <td>-0.18872</td>\n",
       "      <td>3.060662</td>\n",
       "      <td>-0.147425</td>\n",
       "      <td>-0.442549</td>\n",
       "      <td>...</td>\n",
       "      <td>-0.289824</td>\n",
       "      <td>-0.124157</td>\n",
       "      <td>-0.565958</td>\n",
       "      <td>0.19526</td>\n",
       "      <td>-0.34917</td>\n",
       "      <td>0.647788</td>\n",
       "      <td>0.72232</td>\n",
       "      <td>0.886596</td>\n",
       "      <td>0.71219</td>\n",
       "      <td>0.331457</td>\n",
       "    </tr>\n",
       "    <tr>\n",
       "      <th>3</th>\n",
       "      <td>1.716979</td>\n",
       "      <td>-0.538343</td>\n",
       "      <td>-0.191333</td>\n",
       "      <td>-0.162418</td>\n",
       "      <td>-0.276648</td>\n",
       "      <td>-0.208517</td>\n",
       "      <td>-0.18872</td>\n",
       "      <td>-0.326727</td>\n",
       "      <td>-0.147425</td>\n",
       "      <td>-0.442549</td>\n",
       "      <td>...</td>\n",
       "      <td>-0.001890</td>\n",
       "      <td>-0.413503</td>\n",
       "      <td>-0.565958</td>\n",
       "      <td>0.19526</td>\n",
       "      <td>-0.34917</td>\n",
       "      <td>0.647788</td>\n",
       "      <td>0.72232</td>\n",
       "      <td>0.886596</td>\n",
       "      <td>0.71219</td>\n",
       "      <td>0.331457</td>\n",
       "    </tr>\n",
       "    <tr>\n",
       "      <th>4</th>\n",
       "      <td>-0.582418</td>\n",
       "      <td>-0.538343</td>\n",
       "      <td>-0.191333</td>\n",
       "      <td>-0.162418</td>\n",
       "      <td>-0.276648</td>\n",
       "      <td>-0.208517</td>\n",
       "      <td>-0.18872</td>\n",
       "      <td>3.060662</td>\n",
       "      <td>-0.147425</td>\n",
       "      <td>-0.442549</td>\n",
       "      <td>...</td>\n",
       "      <td>1.533757</td>\n",
       "      <td>0.188336</td>\n",
       "      <td>-0.565958</td>\n",
       "      <td>0.19526</td>\n",
       "      <td>-0.34917</td>\n",
       "      <td>0.647788</td>\n",
       "      <td>0.72232</td>\n",
       "      <td>0.886596</td>\n",
       "      <td>0.71219</td>\n",
       "      <td>0.331457</td>\n",
       "    </tr>\n",
       "  </tbody>\n",
       "</table>\n",
       "<p>5 rows × 58 columns</p>\n",
       "</div>"
      ],
      "text/plain": [
       "   ohe__job_admin.  ohe__job_blue-collar  ohe__job_entrepreneur  \\\n",
       "0        -0.582418             -0.538343              -0.191333   \n",
       "1        -0.582418             -0.538343              -0.191333   \n",
       "2        -0.582418             -0.538343              -0.191333   \n",
       "3         1.716979             -0.538343              -0.191333   \n",
       "4        -0.582418             -0.538343              -0.191333   \n",
       "\n",
       "   ohe__job_housemaid  ohe__job_management  ohe__job_retired  \\\n",
       "0            6.156959            -0.276648         -0.208517   \n",
       "1           -0.162418            -0.276648         -0.208517   \n",
       "2           -0.162418            -0.276648         -0.208517   \n",
       "3           -0.162418            -0.276648         -0.208517   \n",
       "4           -0.162418            -0.276648         -0.208517   \n",
       "\n",
       "   ohe__job_self-employed  ohe__job_services  ohe__job_student  \\\n",
       "0                -0.18872          -0.326727         -0.147425   \n",
       "1                -0.18872           3.060662         -0.147425   \n",
       "2                -0.18872           3.060662         -0.147425   \n",
       "3                -0.18872          -0.326727         -0.147425   \n",
       "4                -0.18872           3.060662         -0.147425   \n",
       "\n",
       "   ohe__job_technician  ...  remainder__age  remainder__duration  \\\n",
       "0            -0.442549  ...        1.533757             0.010871   \n",
       "1            -0.442549  ...        1.629735            -0.421219   \n",
       "2            -0.442549  ...       -0.289824            -0.124157   \n",
       "3            -0.442549  ...       -0.001890            -0.413503   \n",
       "4            -0.442549  ...        1.533757             0.188336   \n",
       "\n",
       "   remainder__campaign  remainder__pdays  remainder__previous  \\\n",
       "0            -0.565958           0.19526             -0.34917   \n",
       "1            -0.565958           0.19526             -0.34917   \n",
       "2            -0.565958           0.19526             -0.34917   \n",
       "3            -0.565958           0.19526             -0.34917   \n",
       "4            -0.565958           0.19526             -0.34917   \n",
       "\n",
       "   remainder__emp.var.rate  remainder__cons.price.idx  \\\n",
       "0                 0.647788                    0.72232   \n",
       "1                 0.647788                    0.72232   \n",
       "2                 0.647788                    0.72232   \n",
       "3                 0.647788                    0.72232   \n",
       "4                 0.647788                    0.72232   \n",
       "\n",
       "   remainder__cons.conf.idx  remainder__euribor3m  remainder__nr.employed  \n",
       "0                  0.886596               0.71219                0.331457  \n",
       "1                  0.886596               0.71219                0.331457  \n",
       "2                  0.886596               0.71219                0.331457  \n",
       "3                  0.886596               0.71219                0.331457  \n",
       "4                  0.886596               0.71219                0.331457  \n",
       "\n",
       "[5 rows x 58 columns]"
      ]
     },
     "execution_count": 30,
     "metadata": {},
     "output_type": "execute_result"
    }
   ],
   "source": [
    "# Apply transformations to X\n",
    "X = pd.DataFrame(\n",
    "  pipeline.fit_transform(X),\n",
    "  columns=pipeline.get_feature_names_out())\n",
    "X.head()"
   ]
  },
  {
   "cell_type": "markdown",
   "metadata": {},
   "source": [
    "### Problem 6: Train/Test Split\n",
    "\n",
    "With your data prepared, split it into a train and test set."
   ]
  },
  {
   "cell_type": "code",
   "execution_count": 31,
   "metadata": {},
   "outputs": [],
   "source": [
    "xTrain, xTest, yTrain, yTest = train_test_split(X, y, stratify=y)"
   ]
  },
  {
   "cell_type": "markdown",
   "metadata": {},
   "source": [
    "### Problem 7: A Baseline Model\n",
    "\n",
    "Before we build our first model, we want to establish a baseline.  What is the baseline performance that our classifier should aim to beat?"
   ]
  },
  {
   "cell_type": "code",
   "execution_count": 40,
   "metadata": {},
   "outputs": [
    {
     "data": {
      "text/plain": [
       "0.8874610591900312"
      ]
     },
     "execution_count": 40,
     "metadata": {},
     "output_type": "execute_result"
    }
   ],
   "source": [
    "# This scores highly due to the class imbalance. This may\n",
    "# be hard to beat!\n",
    "baseline = DummyClassifier().fit(xTrain, yTrain)\n",
    "baseline.score(xTest, yTest)"
   ]
  },
  {
   "cell_type": "markdown",
   "metadata": {},
   "source": [
    "### Problem 8: A Simple Model\n",
    "\n",
    "Use Logistic Regression to build a basic model on your data.  "
   ]
  },
  {
   "cell_type": "code",
   "execution_count": 42,
   "metadata": {},
   "outputs": [],
   "source": [
    "logReg = LogisticRegression().fit(xTrain, yTrain)"
   ]
  },
  {
   "cell_type": "markdown",
   "metadata": {},
   "source": [
    "### Problem 9: Score the Model\n",
    "\n",
    "What is the accuracy of your model?"
   ]
  },
  {
   "cell_type": "code",
   "execution_count": 43,
   "metadata": {},
   "outputs": [
    {
     "data": {
      "text/plain": [
       "0.9122858255451713"
      ]
     },
     "execution_count": 43,
     "metadata": {},
     "output_type": "execute_result"
    }
   ],
   "source": [
    "# Better than baseline, great!\n",
    "logReg.score(xTest, yTest)"
   ]
  },
  {
   "cell_type": "markdown",
   "metadata": {},
   "source": [
    "### Problem 10: Model Comparisons\n",
    "\n",
    "Now, we aim to compare the performance of the Logistic Regression model to our KNN algorithm, Decision Tree, and SVM models.  Using the default settings for each of the models, fit and score each.  Also, be sure to compare the fit time of each of the models.  Present your findings in a `DataFrame` similar to that below:\n",
    "\n",
    "| Model | Train Time | Train Accuracy | Test Accuracy |\n",
    "| ----- | ---------- | -------------  | -----------   |\n",
    "|     |    |.     |.     |"
   ]
  },
  {
   "cell_type": "code",
   "execution_count": null,
   "metadata": {},
   "outputs": [],
   "source": []
  },
  {
   "cell_type": "markdown",
   "metadata": {},
   "source": [
    "### Problem 11: Improving the Model\n",
    "\n",
    "Now that we have some basic models on the board, we want to try to improve these.  Below, we list a few things to explore in this pursuit.\n",
    "\n",
    "- More feature engineering and exploration.  For example, should we keep the gender feature?  Why or why not?\n",
    "- Hyperparameter tuning and grid search.  All of our models have additional hyperparameters to tune and explore.  For example the number of neighbors in KNN or the maximum depth of a Decision Tree.  \n",
    "- Adjust your performance metric"
   ]
  },
  {
   "cell_type": "code",
   "execution_count": null,
   "metadata": {},
   "outputs": [],
   "source": []
  },
  {
   "cell_type": "code",
   "execution_count": null,
   "metadata": {},
   "outputs": [],
   "source": []
  },
  {
   "cell_type": "code",
   "execution_count": null,
   "metadata": {},
   "outputs": [],
   "source": []
  },
  {
   "cell_type": "markdown",
   "metadata": {},
   "source": [
    "##### Questions"
   ]
  }
 ],
 "metadata": {
  "kernelspec": {
   "display_name": "Python 3",
   "language": "python",
   "name": "python3"
  },
  "language_info": {
   "codemirror_mode": {
    "name": "ipython",
    "version": 3
   },
   "file_extension": ".py",
   "mimetype": "text/x-python",
   "name": "python",
   "nbconvert_exporter": "python",
   "pygments_lexer": "ipython3",
   "version": "3.12.3"
  },
  "widgets": {
   "application/vnd.jupyter.widget-state+json": {
    "state": {},
    "version_major": 2,
    "version_minor": 0
   }
  }
 },
 "nbformat": 4,
 "nbformat_minor": 4
}
