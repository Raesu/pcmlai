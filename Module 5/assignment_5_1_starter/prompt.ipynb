{
 "cells": [
  {
   "cell_type": "markdown",
   "metadata": {},
   "source": [
    "### Will a Customer Accept the Coupon?\n",
    "\n",
    "**Context**\n",
    "\n",
    "Imagine driving through town and a coupon is delivered to your cell phone for a restaraunt near where you are driving. Would you accept that coupon and take a short detour to the restaraunt? Would you accept the coupon but use it on a sunbsequent trip? Would you ignore the coupon entirely? What if the coupon was for a bar instead of a restaraunt? What about a coffee house? Would you accept a bar coupon with a minor passenger in the car? What about if it was just you and your partner in the car? Would weather impact the rate of acceptance? What about the time of day?\n",
    "\n",
    "Obviously, proximity to the business is a factor on whether the coupon is delivered to the driver or not, but what are the factors that determine whether a driver accepts the coupon once it is delivered to them? How would you determine whether a driver is likely to accept a coupon?\n",
    "\n",
    "**Overview**\n",
    "\n",
    "The goal of this project is to use what you know about visualizations and probability distributions to distinguish between customers who accepted a driving coupon versus those that did not.\n",
    "\n",
    "**Data**\n",
    "\n",
    "This data comes to us from the UCI Machine Learning repository and was collected via a survey on Amazon Mechanical Turk. The survey describes different driving scenarios including the destination, current time, weather, passenger, etc., and then ask the person whether he will accept the coupon if he is the driver. Answers that the user will drive there ‘right away’ or ‘later before the coupon expires’ are labeled as ‘Y = 1’ and answers ‘no, I do not want the coupon’ are labeled as ‘Y = 0’.  There are five different types of coupons -- less expensive restaurants (under \\\\$20), coffee houses, carry out & take away, bar, and more expensive restaurants (\\\\$20 - \\\\$50). "
   ]
  },
  {
   "cell_type": "markdown",
   "metadata": {},
   "source": [
    "**Deliverables**\n",
    "\n",
    "Your final product should be a brief report that highlights the differences between customers who did and did not accept the coupons.  To explore the data you will utilize your knowledge of plotting, statistical summaries, and visualization using Python. You will publish your findings in a public facing github repository as your first portfolio piece. \n",
    "\n",
    "\n",
    "\n"
   ]
  },
  {
   "cell_type": "markdown",
   "metadata": {},
   "source": [
    "### Data Description\n",
    "Keep in mind that these values mentioned below are average values.\n",
    "\n",
    "The attributes of this data set include:\n",
    "1. User attributes\n",
    "    -  Gender: male, female\n",
    "    -  Age: below 21, 21 to 25, 26 to 30, etc.\n",
    "    -  Marital Status: single, married partner, unmarried partner, or widowed\n",
    "    -  Number of children: 0, 1, or more than 1\n",
    "    -  Education: high school, bachelors degree, associates degree, or graduate degree\n",
    "    -  Occupation: architecture & engineering, business & financial, etc.\n",
    "    -  Annual income: less than \\\\$12500, \\\\$12500 - \\\\$24999, \\\\$25000 - \\\\$37499, etc.\n",
    "    -  Number of times that he/she goes to a bar: 0, less than 1, 1 to 3, 4 to 8 or greater than 8\n",
    "    -  Number of times that he/she buys takeaway food: 0, less than 1, 1 to 3, 4 to 8 or greater\n",
    "    than 8\n",
    "    -  Number of times that he/she goes to a coffee house: 0, less than 1, 1 to 3, 4 to 8 or\n",
    "    greater than 8\n",
    "    -  Number of times that he/she eats at a restaurant with average expense less than \\\\$20 per\n",
    "    person: 0, less than 1, 1 to 3, 4 to 8 or greater than 8\n",
    "    -  Number of times that he/she goes to a bar: 0, less than 1, 1 to 3, 4 to 8 or greater than 8\n",
    "    \n",
    "\n",
    "2. Contextual attributes\n",
    "    - Driving destination: home, work, or no urgent destination\n",
    "    - Location of user, coupon and destination: we provide a map to show the geographical\n",
    "    location of the user, destination, and the venue, and we mark the distance between each\n",
    "    two places with time of driving. The user can see whether the venue is in the same\n",
    "    direction as the destination.\n",
    "    - Weather: sunny, rainy, or snowy\n",
    "    - Temperature: 30F, 55F, or 80F\n",
    "    - Time: 10AM, 2PM, or 6PM\n",
    "    - Passenger: alone, partner, kid(s), or friend(s)\n",
    "\n",
    "\n",
    "3. Coupon attributes\n",
    "    - time before it expires: 2 hours or one day"
   ]
  },
  {
   "cell_type": "code",
   "execution_count": 1,
   "metadata": {},
   "outputs": [],
   "source": [
    "import matplotlib.pyplot as plt\n",
    "import seaborn as sns\n",
    "import pandas as pd\n",
    "import numpy as np\n",
    "\n",
    "# Fix for a copy on write issue I was having\n",
    "# pd.options.mode.copy_on_write = True"
   ]
  },
  {
   "cell_type": "markdown",
   "metadata": {},
   "source": [
    "### Problems\n",
    "\n",
    "Use the prompts below to get started with your data analysis.  \n",
    "\n",
    "1. Read in the `coupons.csv` file.\n",
    "\n",
    "\n"
   ]
  },
  {
   "cell_type": "code",
   "execution_count": 2,
   "metadata": {},
   "outputs": [],
   "source": [
    "data = pd.read_csv('data/coupons.csv')"
   ]
  },
  {
   "cell_type": "code",
   "execution_count": 3,
   "metadata": {},
   "outputs": [
    {
     "data": {
      "text/html": [
       "<div>\n",
       "<style scoped>\n",
       "    .dataframe tbody tr th:only-of-type {\n",
       "        vertical-align: middle;\n",
       "    }\n",
       "\n",
       "    .dataframe tbody tr th {\n",
       "        vertical-align: top;\n",
       "    }\n",
       "\n",
       "    .dataframe thead th {\n",
       "        text-align: right;\n",
       "    }\n",
       "</style>\n",
       "<table border=\"1\" class=\"dataframe\">\n",
       "  <thead>\n",
       "    <tr style=\"text-align: right;\">\n",
       "      <th></th>\n",
       "      <th>destination</th>\n",
       "      <th>passanger</th>\n",
       "      <th>weather</th>\n",
       "      <th>temperature</th>\n",
       "      <th>time</th>\n",
       "      <th>coupon</th>\n",
       "      <th>expiration</th>\n",
       "      <th>gender</th>\n",
       "      <th>age</th>\n",
       "      <th>maritalStatus</th>\n",
       "      <th>...</th>\n",
       "      <th>CoffeeHouse</th>\n",
       "      <th>CarryAway</th>\n",
       "      <th>RestaurantLessThan20</th>\n",
       "      <th>Restaurant20To50</th>\n",
       "      <th>toCoupon_GEQ5min</th>\n",
       "      <th>toCoupon_GEQ15min</th>\n",
       "      <th>toCoupon_GEQ25min</th>\n",
       "      <th>direction_same</th>\n",
       "      <th>direction_opp</th>\n",
       "      <th>Y</th>\n",
       "    </tr>\n",
       "  </thead>\n",
       "  <tbody>\n",
       "    <tr>\n",
       "      <th>0</th>\n",
       "      <td>No Urgent Place</td>\n",
       "      <td>Alone</td>\n",
       "      <td>Sunny</td>\n",
       "      <td>55</td>\n",
       "      <td>2PM</td>\n",
       "      <td>Restaurant(&lt;20)</td>\n",
       "      <td>1d</td>\n",
       "      <td>Female</td>\n",
       "      <td>21</td>\n",
       "      <td>Unmarried partner</td>\n",
       "      <td>...</td>\n",
       "      <td>never</td>\n",
       "      <td>NaN</td>\n",
       "      <td>4~8</td>\n",
       "      <td>1~3</td>\n",
       "      <td>1</td>\n",
       "      <td>0</td>\n",
       "      <td>0</td>\n",
       "      <td>0</td>\n",
       "      <td>1</td>\n",
       "      <td>1</td>\n",
       "    </tr>\n",
       "    <tr>\n",
       "      <th>1</th>\n",
       "      <td>No Urgent Place</td>\n",
       "      <td>Friend(s)</td>\n",
       "      <td>Sunny</td>\n",
       "      <td>80</td>\n",
       "      <td>10AM</td>\n",
       "      <td>Coffee House</td>\n",
       "      <td>2h</td>\n",
       "      <td>Female</td>\n",
       "      <td>21</td>\n",
       "      <td>Unmarried partner</td>\n",
       "      <td>...</td>\n",
       "      <td>never</td>\n",
       "      <td>NaN</td>\n",
       "      <td>4~8</td>\n",
       "      <td>1~3</td>\n",
       "      <td>1</td>\n",
       "      <td>0</td>\n",
       "      <td>0</td>\n",
       "      <td>0</td>\n",
       "      <td>1</td>\n",
       "      <td>0</td>\n",
       "    </tr>\n",
       "    <tr>\n",
       "      <th>2</th>\n",
       "      <td>No Urgent Place</td>\n",
       "      <td>Friend(s)</td>\n",
       "      <td>Sunny</td>\n",
       "      <td>80</td>\n",
       "      <td>10AM</td>\n",
       "      <td>Carry out &amp; Take away</td>\n",
       "      <td>2h</td>\n",
       "      <td>Female</td>\n",
       "      <td>21</td>\n",
       "      <td>Unmarried partner</td>\n",
       "      <td>...</td>\n",
       "      <td>never</td>\n",
       "      <td>NaN</td>\n",
       "      <td>4~8</td>\n",
       "      <td>1~3</td>\n",
       "      <td>1</td>\n",
       "      <td>1</td>\n",
       "      <td>0</td>\n",
       "      <td>0</td>\n",
       "      <td>1</td>\n",
       "      <td>1</td>\n",
       "    </tr>\n",
       "    <tr>\n",
       "      <th>3</th>\n",
       "      <td>No Urgent Place</td>\n",
       "      <td>Friend(s)</td>\n",
       "      <td>Sunny</td>\n",
       "      <td>80</td>\n",
       "      <td>2PM</td>\n",
       "      <td>Coffee House</td>\n",
       "      <td>2h</td>\n",
       "      <td>Female</td>\n",
       "      <td>21</td>\n",
       "      <td>Unmarried partner</td>\n",
       "      <td>...</td>\n",
       "      <td>never</td>\n",
       "      <td>NaN</td>\n",
       "      <td>4~8</td>\n",
       "      <td>1~3</td>\n",
       "      <td>1</td>\n",
       "      <td>1</td>\n",
       "      <td>0</td>\n",
       "      <td>0</td>\n",
       "      <td>1</td>\n",
       "      <td>0</td>\n",
       "    </tr>\n",
       "    <tr>\n",
       "      <th>4</th>\n",
       "      <td>No Urgent Place</td>\n",
       "      <td>Friend(s)</td>\n",
       "      <td>Sunny</td>\n",
       "      <td>80</td>\n",
       "      <td>2PM</td>\n",
       "      <td>Coffee House</td>\n",
       "      <td>1d</td>\n",
       "      <td>Female</td>\n",
       "      <td>21</td>\n",
       "      <td>Unmarried partner</td>\n",
       "      <td>...</td>\n",
       "      <td>never</td>\n",
       "      <td>NaN</td>\n",
       "      <td>4~8</td>\n",
       "      <td>1~3</td>\n",
       "      <td>1</td>\n",
       "      <td>1</td>\n",
       "      <td>0</td>\n",
       "      <td>0</td>\n",
       "      <td>1</td>\n",
       "      <td>0</td>\n",
       "    </tr>\n",
       "  </tbody>\n",
       "</table>\n",
       "<p>5 rows × 26 columns</p>\n",
       "</div>"
      ],
      "text/plain": [
       "       destination  passanger weather  temperature  time  \\\n",
       "0  No Urgent Place      Alone   Sunny           55   2PM   \n",
       "1  No Urgent Place  Friend(s)   Sunny           80  10AM   \n",
       "2  No Urgent Place  Friend(s)   Sunny           80  10AM   \n",
       "3  No Urgent Place  Friend(s)   Sunny           80   2PM   \n",
       "4  No Urgent Place  Friend(s)   Sunny           80   2PM   \n",
       "\n",
       "                  coupon expiration  gender age      maritalStatus  ...  \\\n",
       "0        Restaurant(<20)         1d  Female  21  Unmarried partner  ...   \n",
       "1           Coffee House         2h  Female  21  Unmarried partner  ...   \n",
       "2  Carry out & Take away         2h  Female  21  Unmarried partner  ...   \n",
       "3           Coffee House         2h  Female  21  Unmarried partner  ...   \n",
       "4           Coffee House         1d  Female  21  Unmarried partner  ...   \n",
       "\n",
       "   CoffeeHouse CarryAway RestaurantLessThan20 Restaurant20To50  \\\n",
       "0        never       NaN                  4~8              1~3   \n",
       "1        never       NaN                  4~8              1~3   \n",
       "2        never       NaN                  4~8              1~3   \n",
       "3        never       NaN                  4~8              1~3   \n",
       "4        never       NaN                  4~8              1~3   \n",
       "\n",
       "  toCoupon_GEQ5min toCoupon_GEQ15min toCoupon_GEQ25min direction_same  \\\n",
       "0                1                 0                 0              0   \n",
       "1                1                 0                 0              0   \n",
       "2                1                 1                 0              0   \n",
       "3                1                 1                 0              0   \n",
       "4                1                 1                 0              0   \n",
       "\n",
       "  direction_opp  Y  \n",
       "0             1  1  \n",
       "1             1  0  \n",
       "2             1  1  \n",
       "3             1  0  \n",
       "4             1  0  \n",
       "\n",
       "[5 rows x 26 columns]"
      ]
     },
     "execution_count": 3,
     "metadata": {},
     "output_type": "execute_result"
    }
   ],
   "source": [
    "data.head()"
   ]
  },
  {
   "cell_type": "markdown",
   "metadata": {},
   "source": [
    "2. Investigate the dataset for missing or problematic data."
   ]
  },
  {
   "cell_type": "code",
   "execution_count": 4,
   "metadata": {},
   "outputs": [
    {
     "data": {
      "text/html": [
       "<div>\n",
       "<style scoped>\n",
       "    .dataframe tbody tr th:only-of-type {\n",
       "        vertical-align: middle;\n",
       "    }\n",
       "\n",
       "    .dataframe tbody tr th {\n",
       "        vertical-align: top;\n",
       "    }\n",
       "\n",
       "    .dataframe thead th {\n",
       "        text-align: right;\n",
       "    }\n",
       "</style>\n",
       "<table border=\"1\" class=\"dataframe\">\n",
       "  <thead>\n",
       "    <tr style=\"text-align: right;\">\n",
       "      <th></th>\n",
       "      <th>index</th>\n",
       "      <th>count</th>\n",
       "      <th>pct</th>\n",
       "    </tr>\n",
       "  </thead>\n",
       "  <tbody>\n",
       "    <tr>\n",
       "      <th>14</th>\n",
       "      <td>car</td>\n",
       "      <td>12576</td>\n",
       "      <td>0.991485</td>\n",
       "    </tr>\n",
       "    <tr>\n",
       "      <th>16</th>\n",
       "      <td>CoffeeHouse</td>\n",
       "      <td>217</td>\n",
       "      <td>0.017108</td>\n",
       "    </tr>\n",
       "    <tr>\n",
       "      <th>19</th>\n",
       "      <td>Restaurant20To50</td>\n",
       "      <td>189</td>\n",
       "      <td>0.014901</td>\n",
       "    </tr>\n",
       "    <tr>\n",
       "      <th>17</th>\n",
       "      <td>CarryAway</td>\n",
       "      <td>151</td>\n",
       "      <td>0.011905</td>\n",
       "    </tr>\n",
       "    <tr>\n",
       "      <th>18</th>\n",
       "      <td>RestaurantLessThan20</td>\n",
       "      <td>130</td>\n",
       "      <td>0.010249</td>\n",
       "    </tr>\n",
       "    <tr>\n",
       "      <th>15</th>\n",
       "      <td>Bar</td>\n",
       "      <td>107</td>\n",
       "      <td>0.008436</td>\n",
       "    </tr>\n",
       "  </tbody>\n",
       "</table>\n",
       "</div>"
      ],
      "text/plain": [
       "                   index  count       pct\n",
       "14                   car  12576  0.991485\n",
       "16           CoffeeHouse    217  0.017108\n",
       "19      Restaurant20To50    189  0.014901\n",
       "17             CarryAway    151  0.011905\n",
       "18  RestaurantLessThan20    130  0.010249\n",
       "15                   Bar    107  0.008436"
      ]
     },
     "execution_count": 4,
     "metadata": {},
     "output_type": "execute_result"
    }
   ],
   "source": [
    "# Check percentage of NA rows per column. These are all the columns with # of NAs,\n",
    "# and percentage of row total that are NA\n",
    "naCounts = data.isna().sum().reset_index().rename(columns={0:'count'}).query('count > 0')\n",
    "naCounts['pct'] = naCounts['count']/data.shape[0]\n",
    "naCounts.sort_values('pct', ascending=False)"
   ]
  },
  {
   "cell_type": "code",
   "execution_count": 5,
   "metadata": {},
   "outputs": [
    {
     "name": "stdout",
     "output_type": "stream",
     "text": [
      "                   column                                      value  count\n",
      "122               weather                                      Sunny  10069\n",
      "121               weather                                      Snowy   1405\n",
      "120               weather                                      Rainy   1210\n",
      "119      toCoupon_GEQ5min                                          1  12684\n",
      "117     toCoupon_GEQ25min                                          0  11173\n",
      "118     toCoupon_GEQ25min                                          1   1511\n",
      "116     toCoupon_GEQ15min                                          1   7122\n",
      "115     toCoupon_GEQ15min                                          0   5562\n",
      "113                  time                                        6PM   3230\n",
      "114                  time                                        7AM   3164\n",
      "110                  time                                       10AM   2275\n",
      "112                  time                                        2PM   2009\n",
      "111                  time                                       10PM   2006\n",
      "109           temperature                                         80   6528\n",
      "108           temperature                                         55   3840\n",
      "107           temperature                                         30   2316\n",
      "103             passanger                                      Alone   7305\n",
      "104             passanger                                  Friend(s)   3298\n",
      "106             passanger                                    Partner   1075\n",
      "105             passanger                                     Kid(s)   1006\n",
      "102            occupation                                 Unemployed   1870\n",
      "100            occupation                                    Student   1584\n",
      "83             occupation                    Computer & Mathematical   1408\n",
      "99             occupation                            Sales & Related   1093\n",
      "85             occupation                 Education&Training&Library    943\n",
      "93             occupation                                 Management    838\n",
      "94             occupation            Office & Administrative Support    639\n",
      "79             occupation   Arts Design Entertainment Sports & Media    629\n",
      "81             occupation                       Business & Financial    544\n",
      "98             occupation                                    Retired    495\n",
      "87             occupation         Food Preparation & Serving Related    298\n",
      "88             occupation       Healthcare Practitioners & Technical    244\n",
      "89             occupation                         Healthcare Support    242\n",
      "82             occupation                Community & Social Services    241\n",
      "91             occupation                                      Legal    219\n",
      "101            occupation           Transportation & Material Moving    218\n",
      "78             occupation                 Architecture & Engineering    175\n",
      "95             occupation                    Personal Care & Service    175\n",
      "97             occupation                         Protective Service    175\n",
      "92             occupation               Life Physical Social Science    170\n",
      "84             occupation                  Construction & Extraction    154\n",
      "90             occupation          Installation Maintenance & Repair    133\n",
      "96             occupation                     Production Occupations    110\n",
      "80             occupation  Building & Grounds Cleaning & Maintenance     44\n",
      "86             occupation                 Farming Fishing & Forestry     43\n",
      "74          maritalStatus                            Married partner   5100\n",
      "75          maritalStatus                                     Single   4752\n",
      "76          maritalStatus                          Unmarried partner   2186\n",
      "73          maritalStatus                                   Divorced    516\n",
      "77          maritalStatus                                    Widowed    130\n",
      "66                 income                            $25000 - $37499   2013\n",
      "65                 income                            $12500 - $24999   1831\n",
      "67                 income                            $37500 - $49999   1805\n",
      "64                 income                            $100000 or More   1736\n",
      "68                 income                            $50000 - $62499   1659\n",
      "72                 income                           Less than $12500   1042\n",
      "71                 income                            $87500 - $99999    895\n",
      "70                 income                            $75000 - $87499    857\n",
      "69                 income                            $62500 - $74999    846\n",
      "62           has_children                                          0   7431\n",
      "63           has_children                                          1   5253\n",
      "60                 gender                                     Female   6511\n",
      "61                 gender                                       Male   6173\n",
      "58             expiration                                         1d   7091\n",
      "59             expiration                                         2h   5593\n",
      "57              education                   Some college - no degree   4351\n",
      "53              education                           Bachelors degree   4335\n",
      "54              education     Graduate degree (Masters or Doctorate)   1852\n",
      "52              education                          Associates degree   1153\n",
      "55              education                       High School Graduate    905\n",
      "56              education                           Some High School     88\n",
      "50         direction_same                                          0   9960\n",
      "51         direction_same                                          1   2724\n",
      "49          direction_opp                                          1   9960\n",
      "48          direction_opp                                          0   2724\n",
      "46            destination                            No Urgent Place   6283\n",
      "45            destination                                       Home   3237\n",
      "47            destination                                       Work   3164\n",
      "42                 coupon                               Coffee House   3996\n",
      "44                 coupon                            Restaurant(<20)   2786\n",
      "41                 coupon                      Carry out & Take away   2393\n",
      "40                 coupon                                        Bar   2017\n",
      "43                 coupon                          Restaurant(20-50)   1492\n",
      "36                    car                                     Mazda5     22\n",
      "37                    car                     Scooter and motorcycle     22\n",
      "39                    car                               do not drive     22\n",
      "35                    car   Car that is too old to install Onstar :D     21\n",
      "38                    car                                  crossover     21\n",
      "27                    age                                         21   2653\n",
      "28                    age                                         26   2559\n",
      "29                    age                                         31   2039\n",
      "33                    age                                     50plus   1788\n",
      "30                    age                                         36   1319\n",
      "31                    age                                         41   1093\n",
      "32                    age                                         46    686\n",
      "34                    age                                    below21    547\n",
      "26                      Y                                          1   7210\n",
      "25                      Y                                          0   5474\n",
      "20   RestaurantLessThan20                                        1~3   5376\n",
      "21   RestaurantLessThan20                                        4~8   3580\n",
      "23   RestaurantLessThan20                                      less1   2093\n",
      "22   RestaurantLessThan20                                        gt8   1285\n",
      "24   RestaurantLessThan20                                      never    220\n",
      "18       Restaurant20To50                                      less1   6077\n",
      "15       Restaurant20To50                                        1~3   3290\n",
      "19       Restaurant20To50                                      never   2136\n",
      "16       Restaurant20To50                                        4~8    728\n",
      "17       Restaurant20To50                                        gt8    264\n",
      "13            CoffeeHouse                                      less1   3385\n",
      "10            CoffeeHouse                                        1~3   3225\n",
      "14            CoffeeHouse                                      never   2962\n",
      "11            CoffeeHouse                                        4~8   1784\n",
      "12            CoffeeHouse                                        gt8   1111\n",
      "5               CarryAway                                        1~3   4672\n",
      "6               CarryAway                                        4~8   4258\n",
      "8               CarryAway                                      less1   1856\n",
      "7               CarryAway                                        gt8   1594\n",
      "9               CarryAway                                      never    153\n",
      "4                     Bar                                      never   5197\n",
      "3                     Bar                                      less1   3482\n",
      "0                     Bar                                        1~3   2473\n",
      "1                     Bar                                        4~8   1076\n",
      "2                     Bar                                        gt8    349\n"
     ]
    }
   ],
   "source": [
    "# Count value frequency for all columns\n",
    "# toCoupon_GEQ5min is entirely 1s\n",
    "# there are a lot of values for occupation, but they seem well distributed and tidy\n",
    "# Income is a string value, but is OK because they are ranges. If I need to do math on it later i can take the median value and cast as integer.\n",
    "# Car is mostly empty and has vague values as well\n",
    "# Age has a couple string values, '50plus' and 'below21'. If I need to use this column for calculations I may exclude those or replace with 51 and 20.\n",
    "colValueCounts=pd.melt(data, var_name='column', value_name='value').groupby(['column','value']).value_counts(dropna=False).reset_index().sort_values(['column','count'], ascending=False)\n",
    "print(colValueCounts.to_string())"
   ]
  },
  {
   "cell_type": "markdown",
   "metadata": {},
   "source": [
    "3. Decide what to do about your missing data -- drop, replace, other..."
   ]
  },
  {
   "cell_type": "code",
   "execution_count": 6,
   "metadata": {},
   "outputs": [
    {
     "name": "stdout",
     "output_type": "stream",
     "text": [
      "car\n",
      "NaN                                         12576\n",
      "Scooter and motorcycle                         22\n",
      "Mazda5                                         22\n",
      "do not drive                                   22\n",
      "crossover                                      21\n",
      "Car that is too old to install Onstar :D       21\n",
      "Name: count, dtype: int64\n"
     ]
    }
   ],
   "source": [
    "# Car is nearly entirely empty, confirming here. Seeing how it's almost entirely empty,\n",
    "# and the values it does have aren't helpful (do not drive, Car that is too old...), I'm going to\n",
    "# drop it from the df entirely.\n",
    "print(data['car'].value_counts(dropna=False))\n",
    "data = data.drop(columns='car')"
   ]
  },
  {
   "cell_type": "markdown",
   "metadata": {},
   "source": [
    "I also flagged occupation, income, and age as questionnable so here is a closer look"
   ]
  },
  {
   "cell_type": "code",
   "execution_count": 7,
   "metadata": {},
   "outputs": [
    {
     "data": {
      "text/plain": [
       "occupation\n",
       "Unemployed                                   1870\n",
       "Student                                      1584\n",
       "Computer & Mathematical                      1408\n",
       "Sales & Related                              1093\n",
       "Education&Training&Library                    943\n",
       "Management                                    838\n",
       "Office & Administrative Support               639\n",
       "Arts Design Entertainment Sports & Media      629\n",
       "Business & Financial                          544\n",
       "Retired                                       495\n",
       "Food Preparation & Serving Related            298\n",
       "Healthcare Practitioners & Technical          244\n",
       "Healthcare Support                            242\n",
       "Community & Social Services                   241\n",
       "Legal                                         219\n",
       "Transportation & Material Moving              218\n",
       "Architecture & Engineering                    175\n",
       "Personal Care & Service                       175\n",
       "Protective Service                            175\n",
       "Life Physical Social Science                  170\n",
       "Construction & Extraction                     154\n",
       "Installation Maintenance & Repair             133\n",
       "Production Occupations                        110\n",
       "Building & Grounds Cleaning & Maintenance      44\n",
       "Farming Fishing & Forestry                     43\n",
       "Name: count, dtype: int64"
      ]
     },
     "execution_count": 7,
     "metadata": {},
     "output_type": "execute_result"
    }
   ],
   "source": [
    "# Occupation looks fine. It could probably be grouped by type but will leave as-is\n",
    "data['occupation'].value_counts(dropna=False)"
   ]
  },
  {
   "cell_type": "code",
   "execution_count": 8,
   "metadata": {},
   "outputs": [
    {
     "data": {
      "text/plain": [
       "income\n",
       "$25000 - $37499     2013\n",
       "$12500 - $24999     1831\n",
       "$37500 - $49999     1805\n",
       "$100000 or More     1736\n",
       "$50000 - $62499     1659\n",
       "Less than $12500    1042\n",
       "$87500 - $99999      895\n",
       "$75000 - $87499      857\n",
       "$62500 - $74999      846\n",
       "Name: count, dtype: int64"
      ]
     },
     "execution_count": 8,
     "metadata": {},
     "output_type": "execute_result"
    }
   ],
   "source": [
    "# Depending on analysis needed, these categorical ranges may be fine\n",
    "data['income'].value_counts(dropna=False)"
   ]
  },
  {
   "cell_type": "code",
   "execution_count": 9,
   "metadata": {},
   "outputs": [
    {
     "data": {
      "text/plain": [
       "age\n",
       "21         2653\n",
       "26         2559\n",
       "31         2039\n",
       "50plus     1788\n",
       "36         1319\n",
       "41         1093\n",
       "46          686\n",
       "below21     547\n",
       "Name: count, dtype: int64"
      ]
     },
     "execution_count": 9,
     "metadata": {},
     "output_type": "execute_result"
    }
   ],
   "source": [
    "# For age I could replace the string values with 51 and 20. I'll come back here if\n",
    "# we need this for analysis.\n",
    "data['age'].value_counts(dropna=False)"
   ]
  },
  {
   "cell_type": "markdown",
   "metadata": {},
   "source": [
    "4. What proportion of the total observations chose to accept the coupon? \n",
    "\n"
   ]
  },
  {
   "cell_type": "code",
   "execution_count": 10,
   "metadata": {},
   "outputs": [
    {
     "data": {
      "text/plain": [
       "Y\n",
       "1    7210\n",
       "0    5474\n",
       "Name: count, dtype: int64"
      ]
     },
     "execution_count": 10,
     "metadata": {},
     "output_type": "execute_result"
    }
   ],
   "source": [
    "# The coupon column is Y, with 1 = accepted, 0 = not accepted\n",
    "# There aren't any missing values\n",
    "data['Y'].value_counts(dropna=False)"
   ]
  },
  {
   "cell_type": "code",
   "execution_count": 11,
   "metadata": {},
   "outputs": [
    {
     "data": {
      "text/plain": [
       "0.568"
      ]
     },
     "execution_count": 11,
     "metadata": {},
     "output_type": "execute_result"
    }
   ],
   "source": [
    "# The overall acceptance rate is 56.8%\n",
    "np.round(data['Y'].mean(),3)"
   ]
  },
  {
   "cell_type": "markdown",
   "metadata": {},
   "source": [
    "5. Use a bar plot to visualize the `coupon` column."
   ]
  },
  {
   "cell_type": "code",
   "execution_count": 12,
   "metadata": {},
   "outputs": [
    {
     "data": {
      "text/plain": [
       "Text(0, 0.5, 'Count')"
      ]
     },
     "execution_count": 12,
     "metadata": {},
     "output_type": "execute_result"
    },
    {
     "data": {
      "image/png": "[encoded data removed]",
      "text/plain": [
       "<Figure size 640x480 with 1 Axes>"
      ]
     },
     "metadata": {},
     "output_type": "display_data"
    }
   ],
   "source": [
    "couponCounts = data['Y'].value_counts().reset_index().rename(columns={'Y':'Coupon Accepted'})\n",
    "# NOTE On my primary computer I did not need this line, the chart also renders differently (but still correct)\n",
    "couponCounts['Coupon Accepted'] = couponCounts['Coupon Accepted'].astype(str)\n",
    "sns.barplot(couponCounts, x='Coupon Accepted', y='count', hue='Coupon Accepted')\n",
    "plt.title('Counts of Coupon Acceptance')\n",
    "plt.xlabel('Coupon Acceptance')\n",
    "plt.ylabel('Count')"
   ]
  },
  {
   "cell_type": "markdown",
   "metadata": {},
   "source": [
    "6. Use a histogram to visualize the temperature column."
   ]
  },
  {
   "cell_type": "code",
   "execution_count": 57,
   "metadata": {},
   "outputs": [
    {
     "data": {
      "text/plain": [
       "temperature\n",
       "80    6528\n",
       "55    3840\n",
       "30    2316\n",
       "Name: count, dtype: int64"
      ]
     },
     "execution_count": 57,
     "metadata": {},
     "output_type": "execute_result"
    }
   ],
   "source": [
    "data['temperature'].value_counts()"
   ]
  },
  {
   "cell_type": "code",
   "execution_count": 13,
   "metadata": {},
   "outputs": [
    {
     "name": "stderr",
     "output_type": "stream",
     "text": [
      "/opt/anaconda3/lib/python3.11/site-packages/seaborn/_oldcore.py:1119: FutureWarning: use_inf_as_na option is deprecated and will be removed in a future version. Convert inf values to NaN before operating instead.\n",
      "  with pd.option_context('mode.use_inf_as_na', True):\n"
     ]
    },
    {
     "data": {
      "text/plain": [
       "Text(0, 0.5, 'Count')"
      ]
     },
     "execution_count": 13,
     "metadata": {},
     "output_type": "execute_result"
    },
    {
     "data": {
      "image/png": "[encoded data removed]",
      "text/plain": [
       "<Figure size 640x480 with 1 Axes>"
      ]
     },
     "metadata": {},
     "output_type": "display_data"
    }
   ],
   "source": [
    "# Only 3 values for temperature\n",
    "sns.histplot(data, x='temperature', hue='temperature')\n",
    "plt.title('Temperature Distribution')\n",
    "plt.xlabel('Temperature')\n",
    "plt.ylabel('Count')"
   ]
  },
  {
   "cell_type": "markdown",
   "metadata": {},
   "source": [
    "**Investigating the Bar Coupons**\n",
    "\n",
    "Now, we will lead you through an exploration of just the bar related coupons.  \n",
    "\n",
    "1. Create a new `DataFrame` that contains just the bar coupons.\n"
   ]
  },
  {
   "cell_type": "code",
   "execution_count": 14,
   "metadata": {},
   "outputs": [],
   "source": [
    "barCoupons = data.query('coupon == \"Bar\"')"
   ]
  },
  {
   "cell_type": "markdown",
   "metadata": {},
   "source": [
    "2. What proportion of bar coupons were accepted?\n"
   ]
  },
  {
   "cell_type": "code",
   "execution_count": 15,
   "metadata": {},
   "outputs": [
    {
     "data": {
      "text/plain": [
       "0.41001487357461575"
      ]
     },
     "execution_count": 15,
     "metadata": {},
     "output_type": "execute_result"
    }
   ],
   "source": [
    "# 41% of bar coupons were accepted\n",
    "barCoupons['Y'].mean()"
   ]
  },
  {
   "cell_type": "markdown",
   "metadata": {},
   "source": [
    "3. Compare the acceptance rate between those who went to a bar 3 or fewer times a month to those who went more.\n"
   ]
  },
  {
   "cell_type": "code",
   "execution_count": 16,
   "metadata": {},
   "outputs": [
    {
     "name": "stdout",
     "output_type": "stream",
     "text": [
      "Bar\n",
      "never    830\n",
      "less1    570\n",
      "1~3      397\n",
      "4~8      150\n",
      "gt8       49\n",
      "Name: count, dtype: int64\n",
      "barGrouped\n",
      "3 or fewer     1797\n",
      "More than 3     220\n",
      "Name: count, dtype: int64\n",
      "    barGrouped         Y\n",
      "0   3 or fewer  0.370618\n",
      "1  More than 3  0.731818\n"
     ]
    },
    {
     "name": "stderr",
     "output_type": "stream",
     "text": [
      "/var/folders/83/256y9r4s4033nfv6c65pdpyh00hb_8/T/ipykernel_84087/790742093.py:4: SettingWithCopyWarning: \n",
      "A value is trying to be set on a copy of a slice from a DataFrame.\n",
      "Try using .loc[row_indexer,col_indexer] = value instead\n",
      "\n",
      "See the caveats in the documentation: https://pandas.pydata.org/pandas-docs/stable/user_guide/indexing.html#returning-a-view-versus-a-copy\n",
      "  barCoupons['barGrouped'] = 'Other'\n"
     ]
    },
    {
     "data": {
      "text/plain": [
       "Text(0, 0.5, 'Average Acceptance Rate')"
      ]
     },
     "execution_count": 16,
     "metadata": {},
     "output_type": "execute_result"
    },
    {
     "data": {
      "image/png": "[encoded data removed]",
      "text/plain": [
       "<Figure size 640x480 with 1 Axes>"
      ]
     },
     "metadata": {},
     "output_type": "display_data"
    }
   ],
   "source": [
    "# Current bar values. Needs to be grouped for this plot\n",
    "print(barCoupons.value_counts('Bar'))\n",
    "\n",
    "barCoupons['barGrouped'] = 'Other'\n",
    "barCoupons.loc[barCoupons['Bar'].isin(['never','less1','1~3']), 'barGrouped'] = '3 or fewer'\n",
    "barCoupons.loc[barCoupons['barGrouped'] == 'Other', 'barGrouped'] = 'More than 3'\n",
    "\n",
    "# Make sure grouping works\n",
    "print(barCoupons['barGrouped'].value_counts())\n",
    "\n",
    "means = barCoupons.groupby('barGrouped')['Y'].mean().reset_index()\n",
    "print(means)\n",
    "\n",
    "sns.barplot(means, x='barGrouped', y='Y', hue='barGrouped')\n",
    "plt.title('Average acceptance rate by Bar Habit')\n",
    "plt.xlabel('# of Times going to a bar per month')\n",
    "plt.ylabel('Average Acceptance Rate')"
   ]
  },
  {
   "cell_type": "markdown",
   "metadata": {},
   "source": [
    "4. Compare the acceptance rate between drivers who go to a bar more than once a month and are over the age of 25 to the all others.  Is there a difference?\n"
   ]
  },
  {
   "cell_type": "markdown",
   "metadata": {},
   "source": [
    "- Yes, the bar > 1 a month and over 25 have nearly a 70% acceptance rate. The other group is down at 34%."
   ]
  },
  {
   "cell_type": "code",
   "execution_count": 17,
   "metadata": {},
   "outputs": [
    {
     "name": "stdout",
     "output_type": "stream",
     "text": [
      "Bar\n",
      "never    830\n",
      "less1    570\n",
      "1~3      397\n",
      "4~8      150\n",
      "gt8       49\n",
      "Name: count, dtype: int64 \n",
      "\n",
      "age\n",
      "21         417\n",
      "26         395\n",
      "31         339\n",
      "50plus     283\n",
      "36         209\n",
      "41         178\n",
      "46         109\n",
      "below21     87\n",
      "Name: count, dtype: int64 \n",
      "\n",
      "barGrouped4\n",
      "Other              1597\n",
      "Over 25, >1 Bar     420\n",
      "Name: count, dtype: int64 \n",
      "\n",
      "       barGrouped4         Y\n",
      "0            Other  0.335003\n",
      "1  Over 25, >1 Bar  0.695238\n"
     ]
    },
    {
     "name": "stderr",
     "output_type": "stream",
     "text": [
      "/var/folders/83/256y9r4s4033nfv6c65pdpyh00hb_8/T/ipykernel_84087/1979377311.py:6: SettingWithCopyWarning: \n",
      "A value is trying to be set on a copy of a slice from a DataFrame.\n",
      "Try using .loc[row_indexer,col_indexer] = value instead\n",
      "\n",
      "See the caveats in the documentation: https://pandas.pydata.org/pandas-docs/stable/user_guide/indexing.html#returning-a-view-versus-a-copy\n",
      "  barCoupons['barGrouped4'] = 'Other'\n"
     ]
    },
    {
     "data": {
      "text/plain": [
       "Text(0, 0.5, 'Average Acceptance Rate')"
      ]
     },
     "execution_count": 17,
     "metadata": {},
     "output_type": "execute_result"
    },
    {
     "data": {
      "image/png": "[encoded data removed]",
      "text/plain": [
       "<Figure size 640x480 with 1 Axes>"
      ]
     },
     "metadata": {},
     "output_type": "display_data"
    }
   ],
   "source": [
    "# Print current bar and age values\n",
    "print(barCoupons.value_counts('Bar'),'\\n')\n",
    "print(barCoupons.value_counts('age'), '\\n')\n",
    "\n",
    "# Age is not numeric, but there aren't many values so I will leave as string\n",
    "barCoupons['barGrouped4'] = 'Other'\n",
    "barCoupons.loc[(barCoupons['Bar'].isin(['1~3','4~8','gt8']) &\n",
    "                barCoupons['age'].isin(['26','31','50plus','36','41','46'])), 'barGrouped4'] = 'Over 25, >1 Bar'\n",
    "\n",
    "# Make sure grouping works\n",
    "print(barCoupons['barGrouped4'].value_counts(), '\\n')\n",
    "\n",
    "means = barCoupons.groupby('barGrouped4')['Y'].mean().reset_index()\n",
    "print(means)\n",
    "\n",
    "sns.barplot(means, x='barGrouped4', y='Y', hue='barGrouped4')\n",
    "plt.title('Average acceptance rate by Demographic')\n",
    "plt.xlabel('Demographic')\n",
    "plt.ylabel('Average Acceptance Rate')"
   ]
  },
  {
   "cell_type": "markdown",
   "metadata": {},
   "source": [
    "5. Use the same process to compare the acceptance rate between drivers who go to bars more than once a month and had passengers that were not a kid and had occupations other than farming, fishing, or forestry. \n"
   ]
  },
  {
   "cell_type": "markdown",
   "metadata": {},
   "source": [
    "- This demographic also has a much higher acceptance rate, also near 70%."
   ]
  },
  {
   "cell_type": "code",
   "execution_count": 18,
   "metadata": {},
   "outputs": [
    {
     "name": "stdout",
     "output_type": "stream",
     "text": [
      "Bar\n",
      "never    830\n",
      "less1    570\n",
      "1~3      397\n",
      "4~8      150\n",
      "gt8       49\n",
      "Name: count, dtype: int64 \n",
      "\n",
      "passanger\n",
      "Alone        1200\n",
      "Friend(s)     337\n",
      "Partner       274\n",
      "Kid(s)        206\n",
      "Name: count, dtype: int64 \n",
      "\n",
      "False    1466\n",
      "True      551\n",
      "Name: count, dtype: int64 \n",
      "\n",
      "barGrouped5\n",
      "Other                       1466\n",
      "Bars, No Kid, NoForestry     551\n",
      "Name: count, dtype: int64\n",
      "                barGrouped5         Y\n",
      "0  Bars, No Kid, NoForestry  0.713249\n",
      "1                     Other  0.296044\n"
     ]
    },
    {
     "name": "stderr",
     "output_type": "stream",
     "text": [
      "/var/folders/83/256y9r4s4033nfv6c65pdpyh00hb_8/T/ipykernel_84087/2874595029.py:17: SettingWithCopyWarning: \n",
      "A value is trying to be set on a copy of a slice from a DataFrame.\n",
      "Try using .loc[row_indexer,col_indexer] = value instead\n",
      "\n",
      "See the caveats in the documentation: https://pandas.pydata.org/pandas-docs/stable/user_guide/indexing.html#returning-a-view-versus-a-copy\n",
      "  barCoupons['barGrouped5'] = 'Other'\n"
     ]
    },
    {
     "data": {
      "text/plain": [
       "Text(0, 0.5, 'Average Acceptance Rate')"
      ]
     },
     "execution_count": 18,
     "metadata": {},
     "output_type": "execute_result"
    },
    {
     "data": {
      "image/png": "[encoded data removed]",
      "text/plain": [
       "<Figure size 640x480 with 1 Axes>"
      ]
     },
     "metadata": {},
     "output_type": "display_data"
    }
   ],
   "source": [
    "# Check current values for bar, passanger, occupation\n",
    "print(barCoupons.value_counts('Bar'),'\\n')\n",
    "print(barCoupons.value_counts('passanger'), '\\n')\n",
    "#print(barCoupons.value_counts('occupation'), '\\n')\n",
    "\n",
    "# Make boolean masks for better readability\n",
    "moreThanOnce = barCoupons['Bar'].isin(['1~3','4~8','gt8'])\n",
    "noKid = barCoupons['passanger'] != 'Kid(s)'\n",
    "noForestry = barCoupons['occupation'] != 'Farming Fishing & Forestry'\n",
    "\n",
    "# Only 551 people meet this criteria\n",
    "print((moreThanOnce & noKid & noForestry).value_counts(), '\\n')\n",
    "\n",
    "# It won't let me do this for some reason\n",
    "# barCoupons['barGrouped5'].loc[(moreThanOnce & noKid & noForestry), 'barGrouped5'] = 'Bars, No Kid, NoForestry'\n",
    "\n",
    "barCoupons['barGrouped5'] = 'Other'\n",
    "barCoupons.loc[(barCoupons['Bar'].isin(['1~3','4~8','gt8'])) &\n",
    "               (barCoupons['passanger'] != 'Kid(s)') &\n",
    "               (barCoupons['occupation'] != 'Farming Fishing & Forestry'),'barGrouped5'] = 'Bars, No Kid, NoForestry'\n",
    "\n",
    "# Make sure grouping works\n",
    "print(barCoupons['barGrouped5'].value_counts())\n",
    "\n",
    "means = barCoupons.groupby('barGrouped5')['Y'].mean().reset_index()\n",
    "print(means)\n",
    "\n",
    "sns.barplot(means, x='barGrouped5', y='Y', hue='barGrouped5')\n",
    "plt.title('Average acceptance rate by Demographic')\n",
    "plt.xlabel('Demographic')\n",
    "plt.ylabel('Average Acceptance Rate')"
   ]
  },
  {
   "cell_type": "markdown",
   "metadata": {},
   "source": [
    "6. Compare the acceptance rates between those drivers who:\n",
    "\n",
    "- A: go to bars more than once a month, had passengers that were not a kid, and were not widowed *OR*\n",
    "- B: go to bars more than once a month and are under the age of 30 *OR*\n",
    "- C: go to cheap restaurants more than 4 times a month and income is less than 50K. \n",
    "\n"
   ]
  },
  {
   "cell_type": "markdown",
   "metadata": {},
   "source": [
    "- It looks like group B has the highest acceptance rate (bar goers under the age of 30)"
   ]
  },
  {
   "cell_type": "code",
   "execution_count": 19,
   "metadata": {},
   "outputs": [
    {
     "name": "stdout",
     "output_type": "stream",
     "text": [
      "  barGrouped6         Y\n",
      "0           A  0.668449\n",
      "1           B  0.718367\n",
      "2           C  0.453488\n",
      "3       Other  0.298147\n"
     ]
    },
    {
     "name": "stderr",
     "output_type": "stream",
     "text": [
      "/var/folders/83/256y9r4s4033nfv6c65pdpyh00hb_8/T/ipykernel_84087/3868600982.py:5: SettingWithCopyWarning: \n",
      "A value is trying to be set on a copy of a slice from a DataFrame.\n",
      "Try using .loc[row_indexer,col_indexer] = value instead\n",
      "\n",
      "See the caveats in the documentation: https://pandas.pydata.org/pandas-docs/stable/user_guide/indexing.html#returning-a-view-versus-a-copy\n",
      "  barCoupons['barGrouped6'] = 'Other'\n"
     ]
    },
    {
     "data": {
      "text/plain": [
       "Text(0, 0.5, 'Average Acceptance Rate')"
      ]
     },
     "execution_count": 19,
     "metadata": {},
     "output_type": "execute_result"
    },
    {
     "data": {
      "image/png": "[encoded data removed]",
      "text/plain": [
       "<Figure size 640x480 with 1 Axes>"
      ]
     },
     "metadata": {},
     "output_type": "display_data"
    }
   ],
   "source": [
    "# Check current values for bar, passanger, occupation\n",
    "# print(barCoupons.value_counts('income'), '\\n')\n",
    "# print(barCoupons.value_counts('RestaurantLessThan20'), '\\n')\n",
    "\n",
    "barCoupons['barGrouped6'] = 'Other'\n",
    "barCoupons.loc[# A\n",
    "               (barCoupons['Bar'].isin(['1~3','4~8','gt8']) &\n",
    "               (barCoupons['passanger'] != 'Kid(s)') &\n",
    "               (barCoupons['maritalStatus'] != 'Widowed')),\n",
    "               'barGrouped6'] = 'A'\n",
    "\n",
    "barCoupons.loc[# B\n",
    "               (barCoupons['Bar'].isin(['1~3','4~8','gt8']) & barCoupons['age'].isin(['21','26'])),\n",
    "               'barGrouped6'] = 'B'\n",
    "\n",
    "barCoupons.loc[# C\n",
    "               (barCoupons['RestaurantLessThan20'].isin(['4~8','gt8']) &\n",
    "                barCoupons['income'].isin(['$25000 - $37499','$12500 - $24999','$37500 - $49999','Less than $12500'])),\n",
    "               'barGrouped6'] = 'C'\n",
    "\n",
    "means = barCoupons.groupby('barGrouped6')['Y'].mean().reset_index()\n",
    "print(means)\n",
    "\n",
    "sns.barplot(means, x='barGrouped6', y='Y', hue='barGrouped6')\n",
    "plt.title('Average acceptance rate by Demographic')\n",
    "plt.xlabel('Demographic')\n",
    "plt.ylabel('Average Acceptance Rate')"
   ]
  },
  {
   "cell_type": "markdown",
   "metadata": {},
   "source": [
    "7.  Based on these observations, what do you hypothesize about drivers who accepted the bar coupons?"
   ]
  },
  {
   "cell_type": "markdown",
   "metadata": {},
   "source": [
    "- As expected, people who frequent bars are more likely to accept the bar coupon! Especially if they are in their 20s or 30s, and especially if they do not have children.\n",
    "- People who go to cheap restaurants are not likely to accept bar coupons."
   ]
  },
  {
   "cell_type": "markdown",
   "metadata": {},
   "source": [
    "### Independent Investigation\n",
    "\n",
    "Using the bar coupon example as motivation, you are to explore one of the other coupon groups and try to determine the characteristics of passengers who accept the coupons.  "
   ]
  },
  {
   "cell_type": "code",
   "execution_count": 25,
   "metadata": {},
   "outputs": [
    {
     "data": {
      "text/html": [
       "<div>\n",
       "<style scoped>\n",
       "    .dataframe tbody tr th:only-of-type {\n",
       "        vertical-align: middle;\n",
       "    }\n",
       "\n",
       "    .dataframe tbody tr th {\n",
       "        vertical-align: top;\n",
       "    }\n",
       "\n",
       "    .dataframe thead th {\n",
       "        text-align: right;\n",
       "    }\n",
       "</style>\n",
       "<table border=\"1\" class=\"dataframe\">\n",
       "  <thead>\n",
       "    <tr style=\"text-align: right;\">\n",
       "      <th></th>\n",
       "      <th>destination</th>\n",
       "      <th>passanger</th>\n",
       "      <th>weather</th>\n",
       "      <th>temperature</th>\n",
       "      <th>time</th>\n",
       "      <th>coupon</th>\n",
       "      <th>expiration</th>\n",
       "      <th>gender</th>\n",
       "      <th>age</th>\n",
       "      <th>maritalStatus</th>\n",
       "      <th>...</th>\n",
       "      <th>CoffeeHouse</th>\n",
       "      <th>CarryAway</th>\n",
       "      <th>RestaurantLessThan20</th>\n",
       "      <th>Restaurant20To50</th>\n",
       "      <th>toCoupon_GEQ5min</th>\n",
       "      <th>toCoupon_GEQ15min</th>\n",
       "      <th>toCoupon_GEQ25min</th>\n",
       "      <th>direction_same</th>\n",
       "      <th>direction_opp</th>\n",
       "      <th>Y</th>\n",
       "    </tr>\n",
       "  </thead>\n",
       "  <tbody>\n",
       "    <tr>\n",
       "      <th>2</th>\n",
       "      <td>No Urgent Place</td>\n",
       "      <td>Friend(s)</td>\n",
       "      <td>Sunny</td>\n",
       "      <td>80</td>\n",
       "      <td>10AM</td>\n",
       "      <td>Carry out &amp; Take away</td>\n",
       "      <td>2h</td>\n",
       "      <td>Female</td>\n",
       "      <td>21</td>\n",
       "      <td>Unmarried partner</td>\n",
       "      <td>...</td>\n",
       "      <td>never</td>\n",
       "      <td>NaN</td>\n",
       "      <td>4~8</td>\n",
       "      <td>1~3</td>\n",
       "      <td>1</td>\n",
       "      <td>1</td>\n",
       "      <td>0</td>\n",
       "      <td>0</td>\n",
       "      <td>1</td>\n",
       "      <td>1</td>\n",
       "    </tr>\n",
       "    <tr>\n",
       "      <th>6</th>\n",
       "      <td>No Urgent Place</td>\n",
       "      <td>Friend(s)</td>\n",
       "      <td>Sunny</td>\n",
       "      <td>55</td>\n",
       "      <td>2PM</td>\n",
       "      <td>Carry out &amp; Take away</td>\n",
       "      <td>1d</td>\n",
       "      <td>Female</td>\n",
       "      <td>21</td>\n",
       "      <td>Unmarried partner</td>\n",
       "      <td>...</td>\n",
       "      <td>never</td>\n",
       "      <td>NaN</td>\n",
       "      <td>4~8</td>\n",
       "      <td>1~3</td>\n",
       "      <td>1</td>\n",
       "      <td>1</td>\n",
       "      <td>0</td>\n",
       "      <td>0</td>\n",
       "      <td>1</td>\n",
       "      <td>1</td>\n",
       "    </tr>\n",
       "    <tr>\n",
       "      <th>8</th>\n",
       "      <td>No Urgent Place</td>\n",
       "      <td>Kid(s)</td>\n",
       "      <td>Sunny</td>\n",
       "      <td>80</td>\n",
       "      <td>10AM</td>\n",
       "      <td>Carry out &amp; Take away</td>\n",
       "      <td>2h</td>\n",
       "      <td>Female</td>\n",
       "      <td>21</td>\n",
       "      <td>Unmarried partner</td>\n",
       "      <td>...</td>\n",
       "      <td>never</td>\n",
       "      <td>NaN</td>\n",
       "      <td>4~8</td>\n",
       "      <td>1~3</td>\n",
       "      <td>1</td>\n",
       "      <td>1</td>\n",
       "      <td>0</td>\n",
       "      <td>0</td>\n",
       "      <td>1</td>\n",
       "      <td>1</td>\n",
       "    </tr>\n",
       "    <tr>\n",
       "      <th>19</th>\n",
       "      <td>Work</td>\n",
       "      <td>Alone</td>\n",
       "      <td>Sunny</td>\n",
       "      <td>80</td>\n",
       "      <td>7AM</td>\n",
       "      <td>Carry out &amp; Take away</td>\n",
       "      <td>2h</td>\n",
       "      <td>Female</td>\n",
       "      <td>21</td>\n",
       "      <td>Unmarried partner</td>\n",
       "      <td>...</td>\n",
       "      <td>never</td>\n",
       "      <td>NaN</td>\n",
       "      <td>4~8</td>\n",
       "      <td>1~3</td>\n",
       "      <td>1</td>\n",
       "      <td>0</td>\n",
       "      <td>0</td>\n",
       "      <td>1</td>\n",
       "      <td>0</td>\n",
       "      <td>1</td>\n",
       "    </tr>\n",
       "    <tr>\n",
       "      <th>25</th>\n",
       "      <td>No Urgent Place</td>\n",
       "      <td>Friend(s)</td>\n",
       "      <td>Sunny</td>\n",
       "      <td>80</td>\n",
       "      <td>10AM</td>\n",
       "      <td>Carry out &amp; Take away</td>\n",
       "      <td>2h</td>\n",
       "      <td>Male</td>\n",
       "      <td>21</td>\n",
       "      <td>Single</td>\n",
       "      <td>...</td>\n",
       "      <td>less1</td>\n",
       "      <td>4~8</td>\n",
       "      <td>4~8</td>\n",
       "      <td>less1</td>\n",
       "      <td>1</td>\n",
       "      <td>1</td>\n",
       "      <td>0</td>\n",
       "      <td>0</td>\n",
       "      <td>1</td>\n",
       "      <td>0</td>\n",
       "    </tr>\n",
       "  </tbody>\n",
       "</table>\n",
       "<p>5 rows × 25 columns</p>\n",
       "</div>"
      ],
      "text/plain": [
       "        destination  passanger weather  temperature  time  \\\n",
       "2   No Urgent Place  Friend(s)   Sunny           80  10AM   \n",
       "6   No Urgent Place  Friend(s)   Sunny           55   2PM   \n",
       "8   No Urgent Place     Kid(s)   Sunny           80  10AM   \n",
       "19             Work      Alone   Sunny           80   7AM   \n",
       "25  No Urgent Place  Friend(s)   Sunny           80  10AM   \n",
       "\n",
       "                   coupon expiration  gender age      maritalStatus  ...  \\\n",
       "2   Carry out & Take away         2h  Female  21  Unmarried partner  ...   \n",
       "6   Carry out & Take away         1d  Female  21  Unmarried partner  ...   \n",
       "8   Carry out & Take away         2h  Female  21  Unmarried partner  ...   \n",
       "19  Carry out & Take away         2h  Female  21  Unmarried partner  ...   \n",
       "25  Carry out & Take away         2h    Male  21             Single  ...   \n",
       "\n",
       "    CoffeeHouse CarryAway RestaurantLessThan20 Restaurant20To50  \\\n",
       "2         never       NaN                  4~8              1~3   \n",
       "6         never       NaN                  4~8              1~3   \n",
       "8         never       NaN                  4~8              1~3   \n",
       "19        never       NaN                  4~8              1~3   \n",
       "25        less1       4~8                  4~8            less1   \n",
       "\n",
       "   toCoupon_GEQ5min toCoupon_GEQ15min toCoupon_GEQ25min direction_same  \\\n",
       "2                 1                 1                 0              0   \n",
       "6                 1                 1                 0              0   \n",
       "8                 1                 1                 0              0   \n",
       "19                1                 0                 0              1   \n",
       "25                1                 1                 0              0   \n",
       "\n",
       "   direction_opp  Y  \n",
       "2              1  1  \n",
       "6              1  1  \n",
       "8              1  1  \n",
       "19             0  1  \n",
       "25             1  0  \n",
       "\n",
       "[5 rows x 25 columns]"
      ]
     },
     "execution_count": 25,
     "metadata": {},
     "output_type": "execute_result"
    }
   ],
   "source": [
    "data['coupon'].value_counts()\n",
    "\n",
    "# Carry out & take away sounds interesting and has plenty of N, will investigate that\n",
    "carryOutCoupons = data.query(\"coupon == 'Carry out & Take away'\")\n",
    "carryOutCoupons.head()"
   ]
  },
  {
   "cell_type": "code",
   "execution_count": 31,
   "metadata": {},
   "outputs": [
    {
     "name": "stdout",
     "output_type": "stream",
     "text": [
      "0.7354784788967823\n"
     ]
    },
    {
     "name": "stderr",
     "output_type": "stream",
     "text": [
      "/opt/anaconda3/lib/python3.11/site-packages/seaborn/_oldcore.py:1119: FutureWarning: use_inf_as_na option is deprecated and will be removed in a future version. Convert inf values to NaN before operating instead.\n",
      "  with pd.option_context('mode.use_inf_as_na', True):\n"
     ]
    },
    {
     "data": {
      "text/plain": [
       "<Axes: xlabel='Y', ylabel='Count'>"
      ]
     },
     "execution_count": 31,
     "metadata": {},
     "output_type": "execute_result"
    },
    {
     "data": {
      "image/png": "[encoded data removed]",
      "text/plain": [
       "<Figure size 640x480 with 1 Axes>"
      ]
     },
     "metadata": {},
     "output_type": "display_data"
    }
   ],
   "source": [
    "# Overall acceptance is 73.5%, quite high\n",
    "print(carryOutCoupons['Y'].mean())\n",
    "sns.histplot(carryOutCoupons, x='Y')"
   ]
  },
  {
   "cell_type": "code",
   "execution_count": 41,
   "metadata": {},
   "outputs": [
    {
     "name": "stdout",
     "output_type": "stream",
     "text": [
      "   temperature         Y\n",
      "0           30  0.756325\n",
      "1           55  0.718750\n",
      "2           80  0.729831\n"
     ]
    },
    {
     "data": {
      "text/plain": [
       "Text(0, 0.5, 'Acceptance Rate')"
      ]
     },
     "execution_count": 41,
     "metadata": {},
     "output_type": "execute_result"
    },
    {
     "data": {
      "image/png": "[encoded data removed]",
      "text/plain": [
       "<Figure size 640x480 with 1 Axes>"
      ]
     },
     "metadata": {},
     "output_type": "display_data"
    }
   ],
   "source": [
    "# Does temperature impact acceptance rate?\n",
    "acceptanceByTemp = carryOutCoupons.groupby('temperature')['Y'].mean().reset_index()\n",
    "print(acceptanceByTemp)\n",
    "sns.barplot(acceptanceByTemp, x='temperature',y='Y')\n",
    "plt.title('Coupon Acceptance by Temperature')\n",
    "plt.ylabel('Acceptance Rate')"
   ]
  },
  {
   "cell_type": "markdown",
   "metadata": {},
   "source": [
    "- There is not much difference, but it is interesting to note that (as expected), take out increases in the extreme temperatures. Acceptance is highest when it is cold out!"
   ]
  },
  {
   "cell_type": "code",
   "execution_count": 40,
   "metadata": {},
   "outputs": [
    {
     "name": "stdout",
     "output_type": "stream",
     "text": [
      "       destination         Y\n",
      "0             Home  0.788668\n",
      "1  No Urgent Place  0.762781\n",
      "2             Work  0.654856\n"
     ]
    },
    {
     "data": {
      "text/plain": [
       "Text(0, 0.5, 'Acceptance Rate')"
      ]
     },
     "execution_count": 40,
     "metadata": {},
     "output_type": "execute_result"
    },
    {
     "data": {
      "image/png": "[encoded data removed]",
      "text/plain": [
       "<Figure size 640x480 with 1 Axes>"
      ]
     },
     "metadata": {},
     "output_type": "display_data"
    }
   ],
   "source": [
    "# Does destination type impact coupon acceptance rate?\n",
    "destination = carryOutCoupons.groupby('destination')['Y'].mean().reset_index()\n",
    "print(destination)\n",
    "sns.barplot(destination, x='destination', y='Y')\n",
    "plt.title('Coupon Acceptance by Destination')\n",
    "plt.ylabel('Acceptance Rate')"
   ]
  },
  {
   "cell_type": "markdown",
   "metadata": {},
   "source": [
    "- Interesting that people going home are most likely to accept a carryout coupon. Maybe they don't want to cook when they get home.\n",
    "- The least likely to accept the coupon are those going to work. It probably is not appropriate to come in with take out, furthermore, the office likely has food already!"
   ]
  },
  {
   "cell_type": "markdown",
   "metadata": {},
   "source": [
    "### Next Steps\n",
    "- As next steps, I would suggest aligning on the objective of this analysis. Is this purely exploratory, or is there a business case that will be using this data? Once we have a clearer objective, we can slice the data across other dimensions to find sharper insights to impact business decisions.\n",
    "- Given high dimensionality, we could also use PCA to determine a few number of features that explains the greatest amount of variance in coupon acceptance."
   ]
  }
 ],
 "metadata": {
  "kernelspec": {
   "display_name": "Python 3",
   "language": "python",
   "name": "python3"
  },
  "language_info": {
   "codemirror_mode": {
    "name": "ipython",
    "version": 3
   },
   "file_extension": ".py",
   "mimetype": "text/x-python",
   "name": "python",
   "nbconvert_exporter": "python",
   "pygments_lexer": "ipython3",
   "version": "3.11.7"
  },
  "widgets": {
   "application/vnd.jupyter.widget-state+json": {
    "state": {},
    "version_major": 2,
    "version_minor": 0
   }
  }
 },
 "nbformat": 4,
 "nbformat_minor": 4
}
