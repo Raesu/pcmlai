{
  "cells": [
    {
      "cell_type": "markdown",
      "metadata": {
        "id": "oUtDT1a5SoU-"
      },
      "source": [
        "### Comparing Models and Vectorization Strategies for Text Classification\n",
        "\n",
        "This try-it focuses on weighing the positives and negatives of different estimators and vectorization strategies for a text classification problem.  In order to consider each of these components, you should make use of the `Pipeline` and `GridSearchCV` objects in scikitlearn to try different combinations of vectorizers with different estimators.  For each of these, you also want to use the `.cv_results_` to examine the time for the estimator to fit the data."
      ]
    },
    {
      "cell_type": "markdown",
      "metadata": {
        "id": "1wFB55RtSoVH"
      },
      "source": [
        "### The Data\n",
        "\n",
        "The dataset below is from [kaggle]() and contains a dataset named the \"ColBert Dataset\" created for this [paper](https://arxiv.org/pdf/2004.12765.pdf).  You are to use the text column to classify whether or not the text was humorous.  It is loaded and displayed below.\n",
        "\n",
        "**Note:** The original dataset contains 200K rows of data. It is best to try to use the full dtaset. If the original dataset is too large for your computer, please use the 'dataset-minimal.csv', which has been reduced to 100K."
      ]
    },
    {
      "cell_type": "code",
      "execution_count": 1,
      "metadata": {
        "id": "8aKWoqtnSoVJ",
        "colab": {
          "base_uri": "https://localhost:8080/"
        },
        "outputId": "96c305df-3b3d-4f0d-a0ba-80da832890ce"
      },
      "outputs": [
        {
          "output_type": "stream",
          "name": "stderr",
          "text": [
            "[nltk_data] Downloading package punkt to /root/nltk_data...\n",
            "[nltk_data]   Unzipping tokenizers/punkt.zip.\n",
            "[nltk_data] Downloading package wordnet to /root/nltk_data...\n",
            "[nltk_data] Downloading package stopwords to /root/nltk_data...\n",
            "[nltk_data]   Unzipping corpora/stopwords.zip.\n"
          ]
        },
        {
          "output_type": "execute_result",
          "data": {
            "text/plain": [
              "True"
            ]
          },
          "metadata": {},
          "execution_count": 1
        }
      ],
      "source": [
        "import pandas as pd\n",
        "import nltk\n",
        "from nltk import word_tokenize\n",
        "from nltk.stem import PorterStemmer, WordNetLemmatizer\n",
        "from nltk.corpus import stopwords\n",
        "from sklearn.linear_model import LogisticRegression\n",
        "from sklearn.feature_extraction.text import CountVectorizer, TfidfVectorizer\n",
        "from sklearn.pipeline import Pipeline\n",
        "from sklearn.model_selection import GridSearchCV\n",
        "from sklearn.tree import DecisionTreeClassifier\n",
        "from sklearn.naive_bayes import MultinomialNB\n",
        "from sklearn.model_selection import train_test_split\n",
        "nltk.download('punkt')\n",
        "nltk.download('wordnet')\n",
        "nltk.download('stopwords')"
      ]
    },
    {
      "cell_type": "code",
      "execution_count": 2,
      "metadata": {
        "id": "55zL24O2SoVO"
      },
      "outputs": [],
      "source": [
        "df = pd.read_csv('dataset.csv')"
      ]
    },
    {
      "cell_type": "code",
      "execution_count": 3,
      "metadata": {
        "colab": {
          "base_uri": "https://localhost:8080/",
          "height": 206
        },
        "id": "zAaPs6_kSoVQ",
        "outputId": "9c30c120-299f-44b8-a637-463e517a906e"
      },
      "outputs": [
        {
          "output_type": "execute_result",
          "data": {
            "text/plain": [
              "                                                text  humor\n",
              "0  Joe biden rules out 2020 bid: 'guys, i'm not r...  False\n",
              "1  Watch: darvish gave hitter whiplash with slow ...  False\n",
              "2  What do you call a turtle without its shell? d...   True\n",
              "3      5 reasons the 2016 election feels so personal  False\n",
              "4  Pasco police shot mexican migrant from behind,...  False"
            ],
            "text/html": [
              "\n",
              "  <div id=\"df-8dce13c1-e2df-43d8-83ee-911fca242a9f\" class=\"colab-df-container\">\n",
              "    <div>\n",
              "<style scoped>\n",
              "    .dataframe tbody tr th:only-of-type {\n",
              "        vertical-align: middle;\n",
              "    }\n",
              "\n",
              "    .dataframe tbody tr th {\n",
              "        vertical-align: top;\n",
              "    }\n",
              "\n",
              "    .dataframe thead th {\n",
              "        text-align: right;\n",
              "    }\n",
              "</style>\n",
              "<table border=\"1\" class=\"dataframe\">\n",
              "  <thead>\n",
              "    <tr style=\"text-align: right;\">\n",
              "      <th></th>\n",
              "      <th>text</th>\n",
              "      <th>humor</th>\n",
              "    </tr>\n",
              "  </thead>\n",
              "  <tbody>\n",
              "    <tr>\n",
              "      <th>0</th>\n",
              "      <td>Joe biden rules out 2020 bid: 'guys, i'm not r...</td>\n",
              "      <td>False</td>\n",
              "    </tr>\n",
              "    <tr>\n",
              "      <th>1</th>\n",
              "      <td>Watch: darvish gave hitter whiplash with slow ...</td>\n",
              "      <td>False</td>\n",
              "    </tr>\n",
              "    <tr>\n",
              "      <th>2</th>\n",
              "      <td>What do you call a turtle without its shell? d...</td>\n",
              "      <td>True</td>\n",
              "    </tr>\n",
              "    <tr>\n",
              "      <th>3</th>\n",
              "      <td>5 reasons the 2016 election feels so personal</td>\n",
              "      <td>False</td>\n",
              "    </tr>\n",
              "    <tr>\n",
              "      <th>4</th>\n",
              "      <td>Pasco police shot mexican migrant from behind,...</td>\n",
              "      <td>False</td>\n",
              "    </tr>\n",
              "  </tbody>\n",
              "</table>\n",
              "</div>\n",
              "    <div class=\"colab-df-buttons\">\n",
              "\n",
              "  <div class=\"colab-df-container\">\n",
              "    <button class=\"colab-df-convert\" onclick=\"convertToInteractive('df-8dce13c1-e2df-43d8-83ee-911fca242a9f')\"\n",
              "            title=\"Convert this dataframe to an interactive table.\"\n",
              "            style=\"display:none;\">\n",
              "\n",
              "  <svg xmlns=\"http://www.w3.org/2000/svg\" height=\"24px\" viewBox=\"0 -960 960 960\">\n",
              "    <path d=\"M120-120v-720h720v720H120Zm60-500h600v-160H180v160Zm220 220h160v-160H400v160Zm0 220h160v-160H400v160ZM180-400h160v-160H180v160Zm440 0h160v-160H620v160ZM180-180h160v-160H180v160Zm440 0h160v-160H620v160Z\"/>\n",
              "  </svg>\n",
              "    </button>\n",
              "\n",
              "  <style>\n",
              "    .colab-df-container {\n",
              "      display:flex;\n",
              "      gap: 12px;\n",
              "    }\n",
              "\n",
              "    .colab-df-convert {\n",
              "      background-color: #E8F0FE;\n",
              "      border: none;\n",
              "      border-radius: 50%;\n",
              "      cursor: pointer;\n",
              "      display: none;\n",
              "      fill: #1967D2;\n",
              "      height: 32px;\n",
              "      padding: 0 0 0 0;\n",
              "      width: 32px;\n",
              "    }\n",
              "\n",
              "    .colab-df-convert:hover {\n",
              "      background-color: #E2EBFA;\n",
              "      box-shadow: 0px 1px 2px rgba(60, 64, 67, 0.3), 0px 1px 3px 1px rgba(60, 64, 67, 0.15);\n",
              "      fill: #174EA6;\n",
              "    }\n",
              "\n",
              "    .colab-df-buttons div {\n",
              "      margin-bottom: 4px;\n",
              "    }\n",
              "\n",
              "    [theme=dark] .colab-df-convert {\n",
              "      background-color: #3B4455;\n",
              "      fill: #D2E3FC;\n",
              "    }\n",
              "\n",
              "    [theme=dark] .colab-df-convert:hover {\n",
              "      background-color: #434B5C;\n",
              "      box-shadow: 0px 1px 3px 1px rgba(0, 0, 0, 0.15);\n",
              "      filter: drop-shadow(0px 1px 2px rgba(0, 0, 0, 0.3));\n",
              "      fill: #FFFFFF;\n",
              "    }\n",
              "  </style>\n",
              "\n",
              "    <script>\n",
              "      const buttonEl =\n",
              "        document.querySelector('#df-8dce13c1-e2df-43d8-83ee-911fca242a9f button.colab-df-convert');\n",
              "      buttonEl.style.display =\n",
              "        google.colab.kernel.accessAllowed ? 'block' : 'none';\n",
              "\n",
              "      async function convertToInteractive(key) {\n",
              "        const element = document.querySelector('#df-8dce13c1-e2df-43d8-83ee-911fca242a9f');\n",
              "        const dataTable =\n",
              "          await google.colab.kernel.invokeFunction('convertToInteractive',\n",
              "                                                    [key], {});\n",
              "        if (!dataTable) return;\n",
              "\n",
              "        const docLinkHtml = 'Like what you see? Visit the ' +\n",
              "          '<a target=\"_blank\" href=https://colab.research.google.com/notebooks/data_table.ipynb>data table notebook</a>'\n",
              "          + ' to learn more about interactive tables.';\n",
              "        element.innerHTML = '';\n",
              "        dataTable['output_type'] = 'display_data';\n",
              "        await google.colab.output.renderOutput(dataTable, element);\n",
              "        const docLink = document.createElement('div');\n",
              "        docLink.innerHTML = docLinkHtml;\n",
              "        element.appendChild(docLink);\n",
              "      }\n",
              "    </script>\n",
              "  </div>\n",
              "\n",
              "\n",
              "<div id=\"df-8c552984-5306-497e-a302-aa8c94dc647e\">\n",
              "  <button class=\"colab-df-quickchart\" onclick=\"quickchart('df-8c552984-5306-497e-a302-aa8c94dc647e')\"\n",
              "            title=\"Suggest charts\"\n",
              "            style=\"display:none;\">\n",
              "\n",
              "<svg xmlns=\"http://www.w3.org/2000/svg\" height=\"24px\"viewBox=\"0 0 24 24\"\n",
              "     width=\"24px\">\n",
              "    <g>\n",
              "        <path d=\"M19 3H5c-1.1 0-2 .9-2 2v14c0 1.1.9 2 2 2h14c1.1 0 2-.9 2-2V5c0-1.1-.9-2-2-2zM9 17H7v-7h2v7zm4 0h-2V7h2v10zm4 0h-2v-4h2v4z\"/>\n",
              "    </g>\n",
              "</svg>\n",
              "  </button>\n",
              "\n",
              "<style>\n",
              "  .colab-df-quickchart {\n",
              "      --bg-color: #E8F0FE;\n",
              "      --fill-color: #1967D2;\n",
              "      --hover-bg-color: #E2EBFA;\n",
              "      --hover-fill-color: #174EA6;\n",
              "      --disabled-fill-color: #AAA;\n",
              "      --disabled-bg-color: #DDD;\n",
              "  }\n",
              "\n",
              "  [theme=dark] .colab-df-quickchart {\n",
              "      --bg-color: #3B4455;\n",
              "      --fill-color: #D2E3FC;\n",
              "      --hover-bg-color: #434B5C;\n",
              "      --hover-fill-color: #FFFFFF;\n",
              "      --disabled-bg-color: #3B4455;\n",
              "      --disabled-fill-color: #666;\n",
              "  }\n",
              "\n",
              "  .colab-df-quickchart {\n",
              "    background-color: var(--bg-color);\n",
              "    border: none;\n",
              "    border-radius: 50%;\n",
              "    cursor: pointer;\n",
              "    display: none;\n",
              "    fill: var(--fill-color);\n",
              "    height: 32px;\n",
              "    padding: 0;\n",
              "    width: 32px;\n",
              "  }\n",
              "\n",
              "  .colab-df-quickchart:hover {\n",
              "    background-color: var(--hover-bg-color);\n",
              "    box-shadow: 0 1px 2px rgba(60, 64, 67, 0.3), 0 1px 3px 1px rgba(60, 64, 67, 0.15);\n",
              "    fill: var(--button-hover-fill-color);\n",
              "  }\n",
              "\n",
              "  .colab-df-quickchart-complete:disabled,\n",
              "  .colab-df-quickchart-complete:disabled:hover {\n",
              "    background-color: var(--disabled-bg-color);\n",
              "    fill: var(--disabled-fill-color);\n",
              "    box-shadow: none;\n",
              "  }\n",
              "\n",
              "  .colab-df-spinner {\n",
              "    border: 2px solid var(--fill-color);\n",
              "    border-color: transparent;\n",
              "    border-bottom-color: var(--fill-color);\n",
              "    animation:\n",
              "      spin 1s steps(1) infinite;\n",
              "  }\n",
              "\n",
              "  @keyframes spin {\n",
              "    0% {\n",
              "      border-color: transparent;\n",
              "      border-bottom-color: var(--fill-color);\n",
              "      border-left-color: var(--fill-color);\n",
              "    }\n",
              "    20% {\n",
              "      border-color: transparent;\n",
              "      border-left-color: var(--fill-color);\n",
              "      border-top-color: var(--fill-color);\n",
              "    }\n",
              "    30% {\n",
              "      border-color: transparent;\n",
              "      border-left-color: var(--fill-color);\n",
              "      border-top-color: var(--fill-color);\n",
              "      border-right-color: var(--fill-color);\n",
              "    }\n",
              "    40% {\n",
              "      border-color: transparent;\n",
              "      border-right-color: var(--fill-color);\n",
              "      border-top-color: var(--fill-color);\n",
              "    }\n",
              "    60% {\n",
              "      border-color: transparent;\n",
              "      border-right-color: var(--fill-color);\n",
              "    }\n",
              "    80% {\n",
              "      border-color: transparent;\n",
              "      border-right-color: var(--fill-color);\n",
              "      border-bottom-color: var(--fill-color);\n",
              "    }\n",
              "    90% {\n",
              "      border-color: transparent;\n",
              "      border-bottom-color: var(--fill-color);\n",
              "    }\n",
              "  }\n",
              "</style>\n",
              "\n",
              "  <script>\n",
              "    async function quickchart(key) {\n",
              "      const quickchartButtonEl =\n",
              "        document.querySelector('#' + key + ' button');\n",
              "      quickchartButtonEl.disabled = true;  // To prevent multiple clicks.\n",
              "      quickchartButtonEl.classList.add('colab-df-spinner');\n",
              "      try {\n",
              "        const charts = await google.colab.kernel.invokeFunction(\n",
              "            'suggestCharts', [key], {});\n",
              "      } catch (error) {\n",
              "        console.error('Error during call to suggestCharts:', error);\n",
              "      }\n",
              "      quickchartButtonEl.classList.remove('colab-df-spinner');\n",
              "      quickchartButtonEl.classList.add('colab-df-quickchart-complete');\n",
              "    }\n",
              "    (() => {\n",
              "      let quickchartButtonEl =\n",
              "        document.querySelector('#df-8c552984-5306-497e-a302-aa8c94dc647e button');\n",
              "      quickchartButtonEl.style.display =\n",
              "        google.colab.kernel.accessAllowed ? 'block' : 'none';\n",
              "    })();\n",
              "  </script>\n",
              "</div>\n",
              "\n",
              "    </div>\n",
              "  </div>\n"
            ],
            "application/vnd.google.colaboratory.intrinsic+json": {
              "type": "dataframe",
              "variable_name": "df"
            }
          },
          "metadata": {},
          "execution_count": 3
        }
      ],
      "source": [
        "df.head()"
      ]
    },
    {
      "cell_type": "markdown",
      "source": [
        "### Data Split"
      ],
      "metadata": {
        "id": "cEFupsZIdk8G"
      }
    },
    {
      "cell_type": "code",
      "source": [
        "df.shape"
      ],
      "metadata": {
        "colab": {
          "base_uri": "https://localhost:8080/"
        },
        "id": "ykIGEFv_duqg",
        "outputId": "3df0c832-2bcd-4a01-a9df-8b632bbd3188"
      },
      "execution_count": 4,
      "outputs": [
        {
          "output_type": "execute_result",
          "data": {
            "text/plain": [
              "(200000, 2)"
            ]
          },
          "metadata": {},
          "execution_count": 4
        }
      ]
    },
    {
      "cell_type": "code",
      "source": [
        "X = df.drop('humor', axis = 1)\n",
        "y = df['humor']"
      ],
      "metadata": {
        "id": "md0agAlRd57H"
      },
      "execution_count": 5,
      "outputs": []
    },
    {
      "cell_type": "code",
      "source": [
        "X_train, X_test, y_train, y_test = train_test_split(X['text'], y,test_size=0.25, random_state=24)\n",
        "\n",
        "len(X_train), len(X_test), len(y_train), len(y_test)"
      ],
      "metadata": {
        "colab": {
          "base_uri": "https://localhost:8080/"
        },
        "id": "YRWyBoWkd0h4",
        "outputId": "84f52dba-6fc5-49da-a14e-0d43e1067c7e"
      },
      "execution_count": 6,
      "outputs": [
        {
          "output_type": "execute_result",
          "data": {
            "text/plain": [
              "(150000, 50000, 150000, 50000)"
            ]
          },
          "metadata": {},
          "execution_count": 6
        }
      ]
    },
    {
      "cell_type": "markdown",
      "metadata": {
        "id": "yOiAcTQhSoVT"
      },
      "source": [
        "#### Task\n",
        "\n",
        "\n",
        "**Text preprocessing:** As a pre-processing step, perform both `stemming` and `lemmatizing` to normalize your text before classifying. For each technique use both the `CountVectorize`r and `TfidifVectorizer` and use options for stop words and max features to prepare the text data for your estimator.\n",
        "\n",
        "**Classification:** Once you have prepared the text data with stemming lemmatizing techniques, consider `LogisticRegression`, `DecisionTreeClassifier`, and `MultinomialNB` as classification algorithms for the data. Compare their performance in terms of accuracy and speed.\n",
        "\n",
        "Share the results of your best classifier in the form of a table with the best version of each estimator, a dictionary of the best parameters and the best score."
      ]
    },
    {
      "cell_type": "markdown",
      "source": [
        "### Preprocessing"
      ],
      "metadata": {
        "id": "iPH5Q8qCR-k0"
      }
    },
    {
      "cell_type": "code",
      "source": [
        "def stemmer(text):\n",
        "    stem = PorterStemmer()\n",
        "    return ' '.join([stem.stem(word) for word in word_tokenize(text)])"
      ],
      "metadata": {
        "id": "GSCQ-yLomvzr"
      },
      "execution_count": 7,
      "outputs": []
    },
    {
      "cell_type": "code",
      "source": [
        "def lemmatize(text):\n",
        "    lemma = WordNetLemmatizer()\n",
        "    return ' '.join([lemma.lemmatize(word) for word in word_tokenize(text)])"
      ],
      "metadata": {
        "id": "AtOhZGSmmw-f"
      },
      "execution_count": 8,
      "outputs": []
    },
    {
      "cell_type": "code",
      "source": [
        "#df['text_stem'] = df['text'].apply(stemmer)\n",
        "#df['text_lemma'] = df['text'].apply(lemmatize)"
      ],
      "metadata": {
        "id": "YJX8dRWEgh2_"
      },
      "execution_count": 9,
      "outputs": []
    },
    {
      "cell_type": "code",
      "source": [
        "X_train_pp_stem = X_train.apply(stemmer)\n",
        "X_train_pp_lemma = X_train.apply(lemmatize)\n",
        "X_test_pp_stem = X_test.apply(stemmer)\n",
        "X_test_pp_lemma = X_test.apply(lemmatize)"
      ],
      "metadata": {
        "id": "yv4G6kD1hOWJ"
      },
      "execution_count": 10,
      "outputs": []
    },
    {
      "cell_type": "code",
      "source": [
        "X_train.head(5)"
      ],
      "metadata": {
        "colab": {
          "base_uri": "https://localhost:8080/",
          "height": 241
        },
        "id": "axqpa8kSqtzc",
        "outputId": "69bf5a60-868b-413a-e45f-64087ff30b20"
      },
      "execution_count": 11,
      "outputs": [
        {
          "output_type": "execute_result",
          "data": {
            "text/plain": [
              "198244    I knew i was in trouble when the lady doing my...\n",
              "111046    How do gingers make friends? no seriously, im ...\n",
              "31297     What's the difference between 9/11 and a cow? ...\n",
              "106857    Did at&t commit perjury? does at&t have 100 pe...\n",
              "192741    Donald trump to meet with editors of new yorke...\n",
              "Name: text, dtype: object"
            ],
            "text/html": [
              "<div>\n",
              "<style scoped>\n",
              "    .dataframe tbody tr th:only-of-type {\n",
              "        vertical-align: middle;\n",
              "    }\n",
              "\n",
              "    .dataframe tbody tr th {\n",
              "        vertical-align: top;\n",
              "    }\n",
              "\n",
              "    .dataframe thead th {\n",
              "        text-align: right;\n",
              "    }\n",
              "</style>\n",
              "<table border=\"1\" class=\"dataframe\">\n",
              "  <thead>\n",
              "    <tr style=\"text-align: right;\">\n",
              "      <th></th>\n",
              "      <th>text</th>\n",
              "    </tr>\n",
              "  </thead>\n",
              "  <tbody>\n",
              "    <tr>\n",
              "      <th>198244</th>\n",
              "      <td>I knew i was in trouble when the lady doing my...</td>\n",
              "    </tr>\n",
              "    <tr>\n",
              "      <th>111046</th>\n",
              "      <td>How do gingers make friends? no seriously, im ...</td>\n",
              "    </tr>\n",
              "    <tr>\n",
              "      <th>31297</th>\n",
              "      <td>What's the difference between 9/11 and a cow? ...</td>\n",
              "    </tr>\n",
              "    <tr>\n",
              "      <th>106857</th>\n",
              "      <td>Did at&amp;t commit perjury? does at&amp;t have 100 pe...</td>\n",
              "    </tr>\n",
              "    <tr>\n",
              "      <th>192741</th>\n",
              "      <td>Donald trump to meet with editors of new yorke...</td>\n",
              "    </tr>\n",
              "  </tbody>\n",
              "</table>\n",
              "</div><br><label><b>dtype:</b> object</label>"
            ]
          },
          "metadata": {},
          "execution_count": 11
        }
      ]
    },
    {
      "cell_type": "code",
      "source": [
        "X_train_pp_stem.head(5)"
      ],
      "metadata": {
        "colab": {
          "base_uri": "https://localhost:8080/",
          "height": 241
        },
        "id": "WbAevQdlqdD-",
        "outputId": "8a3521e4-407e-4596-b973-fb40be1daf3b"
      },
      "execution_count": 12,
      "outputs": [
        {
          "output_type": "execute_result",
          "data": {
            "text/plain": [
              "198244    i knew i wa in troubl when the ladi do my nail...\n",
              "111046    how do ginger make friend ? no serious , im ge...\n",
              "31297     what 's the differ between 9/11 and a cow ? yo...\n",
              "106857    did at & t commit perjuri ? doe at & t have 10...\n",
              "192741    donald trump to meet with editor of new yorker...\n",
              "Name: text, dtype: object"
            ],
            "text/html": [
              "<div>\n",
              "<style scoped>\n",
              "    .dataframe tbody tr th:only-of-type {\n",
              "        vertical-align: middle;\n",
              "    }\n",
              "\n",
              "    .dataframe tbody tr th {\n",
              "        vertical-align: top;\n",
              "    }\n",
              "\n",
              "    .dataframe thead th {\n",
              "        text-align: right;\n",
              "    }\n",
              "</style>\n",
              "<table border=\"1\" class=\"dataframe\">\n",
              "  <thead>\n",
              "    <tr style=\"text-align: right;\">\n",
              "      <th></th>\n",
              "      <th>text</th>\n",
              "    </tr>\n",
              "  </thead>\n",
              "  <tbody>\n",
              "    <tr>\n",
              "      <th>198244</th>\n",
              "      <td>i knew i wa in troubl when the ladi do my nail...</td>\n",
              "    </tr>\n",
              "    <tr>\n",
              "      <th>111046</th>\n",
              "      <td>how do ginger make friend ? no serious , im ge...</td>\n",
              "    </tr>\n",
              "    <tr>\n",
              "      <th>31297</th>\n",
              "      <td>what 's the differ between 9/11 and a cow ? yo...</td>\n",
              "    </tr>\n",
              "    <tr>\n",
              "      <th>106857</th>\n",
              "      <td>did at &amp; t commit perjuri ? doe at &amp; t have 10...</td>\n",
              "    </tr>\n",
              "    <tr>\n",
              "      <th>192741</th>\n",
              "      <td>donald trump to meet with editor of new yorker...</td>\n",
              "    </tr>\n",
              "  </tbody>\n",
              "</table>\n",
              "</div><br><label><b>dtype:</b> object</label>"
            ]
          },
          "metadata": {},
          "execution_count": 12
        }
      ]
    },
    {
      "cell_type": "code",
      "source": [
        "X_train_pp_lemma.head(5)"
      ],
      "metadata": {
        "colab": {
          "base_uri": "https://localhost:8080/",
          "height": 241
        },
        "id": "KIH9T6y0rArq",
        "outputId": "645c0c8d-9539-4922-9901-9edf99e7eac3"
      },
      "execution_count": 13,
      "outputs": [
        {
          "output_type": "execute_result",
          "data": {
            "text/plain": [
              "198244    I knew i wa in trouble when the lady doing my ...\n",
              "111046    How do ginger make friend ? no seriously , im ...\n",
              "31297     What 's the difference between 9/11 and a cow ...\n",
              "106857    Did at & t commit perjury ? doe at & t have 10...\n",
              "192741    Donald trump to meet with editor of new yorker...\n",
              "Name: text, dtype: object"
            ],
            "text/html": [
              "<div>\n",
              "<style scoped>\n",
              "    .dataframe tbody tr th:only-of-type {\n",
              "        vertical-align: middle;\n",
              "    }\n",
              "\n",
              "    .dataframe tbody tr th {\n",
              "        vertical-align: top;\n",
              "    }\n",
              "\n",
              "    .dataframe thead th {\n",
              "        text-align: right;\n",
              "    }\n",
              "</style>\n",
              "<table border=\"1\" class=\"dataframe\">\n",
              "  <thead>\n",
              "    <tr style=\"text-align: right;\">\n",
              "      <th></th>\n",
              "      <th>text</th>\n",
              "    </tr>\n",
              "  </thead>\n",
              "  <tbody>\n",
              "    <tr>\n",
              "      <th>198244</th>\n",
              "      <td>I knew i wa in trouble when the lady doing my ...</td>\n",
              "    </tr>\n",
              "    <tr>\n",
              "      <th>111046</th>\n",
              "      <td>How do ginger make friend ? no seriously , im ...</td>\n",
              "    </tr>\n",
              "    <tr>\n",
              "      <th>31297</th>\n",
              "      <td>What 's the difference between 9/11 and a cow ...</td>\n",
              "    </tr>\n",
              "    <tr>\n",
              "      <th>106857</th>\n",
              "      <td>Did at &amp; t commit perjury ? doe at &amp; t have 10...</td>\n",
              "    </tr>\n",
              "    <tr>\n",
              "      <th>192741</th>\n",
              "      <td>Donald trump to meet with editor of new yorker...</td>\n",
              "    </tr>\n",
              "  </tbody>\n",
              "</table>\n",
              "</div><br><label><b>dtype:</b> object</label>"
            ]
          },
          "metadata": {},
          "execution_count": 13
        }
      ]
    },
    {
      "cell_type": "markdown",
      "source": [
        "### Classification"
      ],
      "metadata": {
        "id": "g9ij6xCXv9yD"
      }
    },
    {
      "cell_type": "markdown",
      "source": [
        "#### Logistic Regression"
      ],
      "metadata": {
        "id": "TADOR1sxZraa"
      }
    },
    {
      "cell_type": "code",
      "source": [
        "params = {'cvect__max_features': [100, 500, 1000, 2000],'cvect__stop_words': ['english', None]}\n",
        "\n",
        "cv_lr_stem_pipe = Pipeline([('cvect', CountVectorizer()),('lgr', LogisticRegression(max_iter=1000))])\n",
        "cv_lr_stem_grid = GridSearchCV(cv_lr_stem_pipe, param_grid=params)\n",
        "cv_lr_stem_grid.fit(X_train_pp_stem, y_train)\n",
        "cv_lr_stem_acc = cv_lr_stem_grid.score(X_test_pp_stem, y_test)"
      ],
      "metadata": {
        "id": "jtel0iXjwAGP"
      },
      "execution_count": 16,
      "outputs": []
    },
    {
      "cell_type": "code",
      "source": [
        "print(f\"Logistic Regression With Bag Of Words Model (Stemming) : Best_Score {cv_lr_stem_acc:.3f}, Best_Params { cv_lr_stem_grid.best_params_}\")"
      ],
      "metadata": {
        "colab": {
          "base_uri": "https://localhost:8080/"
        },
        "id": "5SlxNsWAT0nx",
        "outputId": "2cc1581b-ad2c-42f9-ada4-cc063b627a8f"
      },
      "execution_count": 29,
      "outputs": [
        {
          "output_type": "stream",
          "name": "stdout",
          "text": [
            "Logistic Regression With Bag Of Words Model (Stemming) : Best_Score 0.913, Best_Params {'cvect__max_features': 2000, 'cvect__stop_words': None}\n"
          ]
        }
      ]
    },
    {
      "cell_type": "code",
      "source": [
        "params = {'cvect__max_features': [100, 500, 1000, 2000],'cvect__stop_words': ['english', None]}\n",
        "\n",
        "cv_lr_lemma_pipe = Pipeline([('cvect', CountVectorizer()),('lgr', LogisticRegression(max_iter=1000))])\n",
        "cv_lr_lemma_grid = GridSearchCV(cv_lr_lemma_pipe, param_grid=params)\n",
        "cv_lr_lemma_grid.fit(X_train_pp_lemma, y_train)\n",
        "cv_lr_lemma_acc = cv_lr_stem_grid.score(X_test_pp_lemma, y_test)"
      ],
      "metadata": {
        "id": "w6v89ZheUzsn"
      },
      "execution_count": 18,
      "outputs": []
    },
    {
      "cell_type": "code",
      "source": [
        "print(f\"Logistic Regression With Bag Of Words Model (Lemmatizing) : Best_Score {cv_lr_lemma_acc:.3f}, Best_Params { cv_lr_lemma_grid.best_params_}\")"
      ],
      "metadata": {
        "colab": {
          "base_uri": "https://localhost:8080/"
        },
        "outputId": "27f4de66-8d82-4b6d-9f63-1a7b0331e9ee",
        "id": "joMCWjJmUzso"
      },
      "execution_count": 28,
      "outputs": [
        {
          "output_type": "stream",
          "name": "stdout",
          "text": [
            "Logistic Regression With Bag Of Words Model (Lemmatizing) : Best_Score 0.891, Best_Params {'cvect__max_features': 2000, 'cvect__stop_words': None}\n"
          ]
        }
      ]
    },
    {
      "cell_type": "code",
      "source": [
        "params = {'tfidf__max_features': [100, 500, 1000, 2000],'tfidf__stop_words': ['english', None]}\n",
        "\n",
        "tf_lr_stem_pipe = Pipeline([('tfidf', TfidfVectorizer()),('lgr', LogisticRegression(max_iter=1000))])\n",
        "tf_lr_stem_grid = GridSearchCV(tf_lr_stem_pipe, param_grid=params)\n",
        "tf_lr_stem_grid.fit(X_train_pp_stem, y_train)\n",
        "tf_lr_stem_acc = tf_lr_stem_grid.score(X_test_pp_stem, y_test)"
      ],
      "metadata": {
        "id": "crU9d4ohWdC0"
      },
      "execution_count": 21,
      "outputs": []
    },
    {
      "cell_type": "code",
      "source": [
        "print(f\"Logistic Regression With TF-IDF Model (Stemming) : Best_Score {tf_lr_stem_acc:.3f}, Best_Params { tf_lr_stem_grid.best_params_}\")"
      ],
      "metadata": {
        "colab": {
          "base_uri": "https://localhost:8080/"
        },
        "outputId": "98289c9a-6dd0-40a7-d869-bf303cc018d2",
        "id": "OyW-0NzYWdC2"
      },
      "execution_count": 26,
      "outputs": [
        {
          "output_type": "stream",
          "name": "stdout",
          "text": [
            "Logistic Regression With TF-IDF Model (Stemming) : Best_Score 0.910, Best_Params {'tfidf__max_features': 2000, 'tfidf__stop_words': None}\n"
          ]
        }
      ]
    },
    {
      "cell_type": "code",
      "source": [
        "params = {'tfidf__max_features': [100, 500, 1000, 2000],'tfidf__stop_words': ['english', None]}\n",
        "\n",
        "tf_lr_lemma_pipe = Pipeline([('tfidf', TfidfVectorizer()),('lgr', LogisticRegression(max_iter=1000))])\n",
        "tf_lr_lemma_grid = GridSearchCV(tf_lr_lemma_pipe, param_grid=params)\n",
        "tf_lr_lemma_grid.fit(X_train_pp_lemma, y_train)\n",
        "tf_lr_lemma_acc = tf_lr_lemma_grid.score(X_test_pp_lemma, y_test)"
      ],
      "metadata": {
        "id": "ar7psn6UWdC2"
      },
      "execution_count": 23,
      "outputs": []
    },
    {
      "cell_type": "code",
      "source": [
        "print(f\"Logistic Regression With TF-IDF Model (Lemmatizing) : Best_Score {tf_lr_lemma_acc:.3f}, Best_Params { tf_lr_lemma_grid.best_params_}\")"
      ],
      "metadata": {
        "colab": {
          "base_uri": "https://localhost:8080/"
        },
        "id": "F9ICVNHNWdC3",
        "outputId": "35ded0e5-13da-424b-80d8-1a5d3bff32fb"
      },
      "execution_count": 27,
      "outputs": [
        {
          "output_type": "stream",
          "name": "stdout",
          "text": [
            "Logistic Regression With TF-IDF Model (Lemmatizing) : Best_Score 0.910, Best_Params {'tfidf__max_features': 2000, 'tfidf__stop_words': None}\n"
          ]
        }
      ]
    },
    {
      "cell_type": "markdown",
      "source": [
        "#### Decision Tree"
      ],
      "metadata": {
        "id": "UX6b24L7YoId"
      }
    },
    {
      "cell_type": "code",
      "source": [
        "params = {'cvect__max_features': [100, 500, 1000, 2000],'cvect__stop_words': ['english', None]}\n",
        "\n",
        "cv_dt_stem_pipe = Pipeline([('cvect', CountVectorizer()),('dt', DecisionTreeClassifier())])\n",
        "cv_dt_stem_grid = GridSearchCV(cv_dt_stem_pipe, param_grid=params)\n",
        "cv_dt_stem_grid.fit(X_train_pp_stem, y_train)\n",
        "cv_dt_stem_acc = cv_lr_stem_grid.score(X_test_pp_stem, y_test)"
      ],
      "metadata": {
        "id": "UIDi7A-zZoaT"
      },
      "execution_count": 33,
      "outputs": []
    },
    {
      "cell_type": "code",
      "source": [
        "print(f\"Decision Tree With Bag Of Words Model (Stemming) : Best_Score {cv_dt_stem_acc:.3f}, Best_Params { cv_dt_stem_grid.best_params_}\")"
      ],
      "metadata": {
        "colab": {
          "base_uri": "https://localhost:8080/"
        },
        "outputId": "58d2fcae-af4b-4cbc-e8c3-db9a5bcda088",
        "id": "sSBUeS8MZoaU"
      },
      "execution_count": 34,
      "outputs": [
        {
          "output_type": "stream",
          "name": "stdout",
          "text": [
            "Decision Tree With Bag Of Words Model (Stemming) : Best_Score 0.913, Best_Params {'cvect__max_features': 2000, 'cvect__stop_words': None}\n"
          ]
        }
      ]
    },
    {
      "cell_type": "code",
      "source": [
        "params = {'cvect__max_features': [100, 2000],'cvect__stop_words': ['english', None]}\n",
        "\n",
        "cv_dt_lemma_pipe = Pipeline([('cvect', CountVectorizer()),('dt', DecisionTreeClassifier())])\n",
        "cv_dt_lemma_grid = GridSearchCV(cv_dt_lemma_pipe, param_grid=params)\n",
        "cv_dt_lemma_grid.fit(X_train_pp_lemma, y_train)\n",
        "cv_dt_lemma_acc = cv_lr_stem_grid.score(X_test_pp_lemma, y_test)"
      ],
      "metadata": {
        "id": "LKzfZ3exZoaV"
      },
      "execution_count": 35,
      "outputs": []
    },
    {
      "cell_type": "code",
      "source": [
        "print(f\"Decision Tree With Bag Of Words Model (Lemmatizing) : Best_Score {cv_dt_lemma_acc:.3f}, Best_Params { cv_dt_lemma_grid.best_params_}\")"
      ],
      "metadata": {
        "colab": {
          "base_uri": "https://localhost:8080/"
        },
        "outputId": "f82fdf53-43b2-4128-d0e2-e6ead43c45d1",
        "id": "u9ILQ7GCZoa3"
      },
      "execution_count": 37,
      "outputs": [
        {
          "output_type": "stream",
          "name": "stdout",
          "text": [
            "Decision Tree With Bag Of Words Model (Lemmatizing) : Best_Score 0.891, Best_Params {'cvect__max_features': 2000, 'cvect__stop_words': None}\n"
          ]
        }
      ]
    },
    {
      "cell_type": "code",
      "source": [
        "params = {'tfidf__max_features': [2000],'tfidf__stop_words': ['english', None]}\n",
        "\n",
        "tf_dt_stem_pipe = Pipeline([('tfidf', TfidfVectorizer()),('dt', DecisionTreeClassifier())])\n",
        "tf_dt_stem_grid = GridSearchCV(tf_dt_stem_pipe, param_grid=params)\n",
        "tf_dt_stem_grid.fit(X_train_pp_stem, y_train)\n",
        "tf_lr_stem_acc = tf_dt_stem_grid.score(X_test_pp_stem, y_test)"
      ],
      "metadata": {
        "id": "_eLmN8auZoa4"
      },
      "execution_count": 38,
      "outputs": []
    },
    {
      "cell_type": "code",
      "source": [
        "print(f\"Decision Tree With TF-IDF Model (Stemming) : Best_Score {tf_lr_stem_acc:.3f}, Best_Params { tf_dt_stem_grid.best_params_}\")"
      ],
      "metadata": {
        "colab": {
          "base_uri": "https://localhost:8080/"
        },
        "outputId": "31effcd7-cbda-4cc6-fd7f-51b3dde7cbcf",
        "id": "LFfQi2rdZoa5"
      },
      "execution_count": 39,
      "outputs": [
        {
          "output_type": "stream",
          "name": "stdout",
          "text": [
            "Decision Tree With TF-IDF Model (Stemming) : Best_Score 0.859, Best_Params {'tfidf__max_features': 2000, 'tfidf__stop_words': None}\n"
          ]
        }
      ]
    },
    {
      "cell_type": "code",
      "source": [
        "params = {'tfidf__max_features': [2000],'tfidf__stop_words': ['english', None]}\n",
        "\n",
        "tf_dt_lemma_pipe = Pipeline([('tfidf', TfidfVectorizer()),('dt', DecisionTreeClassifier())])\n",
        "tf_dt_lemma_grid = GridSearchCV(tf_dt_lemma_pipe, param_grid=params)\n",
        "tf_dt_lemma_grid.fit(X_train_pp_lemma, y_train)\n",
        "tf_lr_lemma_acc = tf_dt_lemma_grid.score(X_test_pp_lemma, y_test)"
      ],
      "metadata": {
        "id": "xSNdHKkwZoa6"
      },
      "execution_count": null,
      "outputs": []
    },
    {
      "cell_type": "code",
      "source": [
        "print(f\"Decision Tree With TF-IDF Model (Lemmatizing) : Best_Score {tf_lr_lemma_acc:.3f}, Best_Params { tf_dt_lemma_grid.best_params_}\")"
      ],
      "metadata": {
        "colab": {
          "base_uri": "https://localhost:8080/"
        },
        "outputId": "35ded0e5-13da-424b-80d8-1a5d3bff32fb",
        "id": "mDYiMHh4Zoa7"
      },
      "execution_count": null,
      "outputs": [
        {
          "output_type": "stream",
          "name": "stdout",
          "text": [
            "Logistic Regression With TF-IDF Model (Lemmatizing) : Best_Score 0.910, Best_Params {'tfidf__max_features': 2000, 'tfidf__stop_words': None}\n"
          ]
        }
      ]
    },
    {
      "cell_type": "markdown",
      "source": [
        "#### Naive Bayes"
      ],
      "metadata": {
        "id": "oywrB8zMfrQF"
      }
    },
    {
      "cell_type": "code",
      "source": [
        "params = {'cvect__max_features': [100, 500, 1000, 2000],'cvect__stop_words': ['english', None]}\n",
        "\n",
        "cv_nv_stem_pipe = Pipeline([('cvect', CountVectorizer()),('bayes', MultinomialNB())])\n",
        "cv_nv_stem_grid = GridSearchCV(cv_nv_stem_pipe, param_grid=params)\n",
        "cv_nv_stem_grid.fit(X_train_pp_stem, y_train)\n",
        "cv_nv_stem_acc = cv_nv_stem_grid.score(X_test_pp_stem, y_test)"
      ],
      "metadata": {
        "id": "O0dhuryzOhQr"
      },
      "execution_count": 44,
      "outputs": []
    },
    {
      "cell_type": "code",
      "source": [
        "print(f\"Naive Bayes With Bag Of Words Model (Stemming) : Best_Score {cv_nv_stem_acc:.3f}, Best_Params { cv_nv_stem_grid.best_params_}\")"
      ],
      "metadata": {
        "id": "vBTbMzO-OhK4",
        "colab": {
          "base_uri": "https://localhost:8080/"
        },
        "outputId": "6761bcd1-3acd-4dd9-a15f-ab1479f033ae"
      },
      "execution_count": 45,
      "outputs": [
        {
          "output_type": "stream",
          "name": "stdout",
          "text": [
            "Naive Bayes With Bag Of Words Model (Stemming) : Best_Score 0.892, Best_Params {'cvect__max_features': 2000, 'cvect__stop_words': None}\n"
          ]
        }
      ]
    },
    {
      "cell_type": "code",
      "source": [
        "params = {'cvect__max_features': [100, 500, 1000, 2000],'cvect__stop_words': ['english', None]}\n",
        "\n",
        "cv_nv_lemma_pipe = Pipeline([('cvect', CountVectorizer()),('bayes', MultinomialNB())])\n",
        "cv_nv_lemma_grid = GridSearchCV(cv_nv_lemma_pipe, param_grid=params)\n",
        "cv_nv_lemma_grid.fit(X_train_pp_lemma, y_train)\n",
        "cv_nv_lemma_acc = cv_nv_lemma_grid.score(X_test_pp_lemma, y_test)"
      ],
      "metadata": {
        "id": "LzxSX7qflgAO"
      },
      "execution_count": 46,
      "outputs": []
    },
    {
      "cell_type": "code",
      "source": [
        "print(f\"Naive Bayes With Bag Of Words Model (Lemmatizing) : Best_Score {cv_nv_lemma_acc:.3f}, Best_Params { cv_nv_lemma_grid.best_params_}\")"
      ],
      "metadata": {
        "colab": {
          "base_uri": "https://localhost:8080/"
        },
        "outputId": "93aec24e-d3a1-4f85-c2f7-a453abc99c9f",
        "id": "RIcyLHXMlgAj"
      },
      "execution_count": 49,
      "outputs": [
        {
          "output_type": "stream",
          "name": "stdout",
          "text": [
            "Naive Bayes With Bag Of Words Model (Lemmatizing) : Best_Score 0.891, Best_Params {'cvect__max_features': 2000, 'cvect__stop_words': None}\n"
          ]
        }
      ]
    },
    {
      "cell_type": "code",
      "source": [
        "params = {'tfidf__max_features': [100, 500, 1000, 2000],'tfidf__stop_words': ['english', None]}\n",
        "\n",
        "cv_nv_stem_pipe = Pipeline([('tfidf', TfidfVectorizer()),('bayes', MultinomialNB())])\n",
        "cv_nv_stem_grid = GridSearchCV(cv_nv_stem_pipe, param_grid=params)\n",
        "cv_nv_stem_grid.fit(X_train_pp_stem, y_train)\n",
        "cv_nv_stem_acc = cv_nv_stem_grid.score(X_test_pp_stem, y_test)"
      ],
      "metadata": {
        "id": "8t5rJFN0l-7E"
      },
      "execution_count": 50,
      "outputs": []
    },
    {
      "cell_type": "code",
      "source": [
        "print(f\"Naive Bayes With TF-IDF Model (Stemming) : Best_Score {cv_nv_stem_acc:.3f}, Best_Params { cv_nv_stem_grid.best_params_}\")"
      ],
      "metadata": {
        "colab": {
          "base_uri": "https://localhost:8080/"
        },
        "outputId": "b5398b1a-bd47-486a-f3e3-e7d01191c332",
        "id": "g9PueQEpl-7g"
      },
      "execution_count": 51,
      "outputs": [
        {
          "output_type": "stream",
          "name": "stdout",
          "text": [
            "Naive Bayes With TF-IDF Model (Stemming) : Best_Score 0.888, Best_Params {'tfidf__max_features': 2000, 'tfidf__stop_words': None}\n"
          ]
        }
      ]
    },
    {
      "cell_type": "code",
      "source": [
        "params = {'tfidf__max_features': [100, 500, 1000, 2000],'tfidf__stop_words': ['english', None]}\n",
        "\n",
        "tf_nv_lemma_pipe = Pipeline([('tfidf', TfidfVectorizer()),('bayes', MultinomialNB())])\n",
        "tf_nv_lemma_grid = GridSearchCV(tf_nv_lemma_pipe, param_grid=params)\n",
        "tf_nv_lemma_grid.fit(X_train_pp_lemma, y_train)\n",
        "tf_nv_lemma_acc = tf_nv_lemma_grid.score(X_test_pp_lemma, y_test)"
      ],
      "metadata": {
        "id": "GFwnDKuSl-7h"
      },
      "execution_count": 52,
      "outputs": []
    },
    {
      "cell_type": "code",
      "source": [
        "print(f\"Naive Bayes With TF-IDF Model (Lemmatizing) : Best_Score {tf_nv_lemma_acc:.3f}, Best_Params { tf_nv_lemma_grid.best_params_}\")"
      ],
      "metadata": {
        "colab": {
          "base_uri": "https://localhost:8080/"
        },
        "outputId": "5102e625-8d4a-456a-fd0f-c635aa2f4780",
        "id": "5h_e6wbVl-7i"
      },
      "execution_count": 53,
      "outputs": [
        {
          "output_type": "stream",
          "name": "stdout",
          "text": [
            "Naive Bayes With TF-IDF Model (Lemmatizing) : Best_Score 0.885, Best_Params {'tfidf__max_features': 2000, 'tfidf__stop_words': None}\n"
          ]
        }
      ]
    },
    {
      "cell_type": "code",
      "execution_count": 56,
      "metadata": {
        "colab": {
          "base_uri": "https://localhost:8080/",
          "height": 205
        },
        "id": "2p4T1ca0SoVU",
        "outputId": "e108b451-8200-4149-b782-d25a7db4aaed"
      },
      "outputs": [
        {
          "output_type": "execute_result",
          "data": {
            "text/plain": [
              "                                              best_params best_score  \\\n",
              "model                                                                  \n",
              "Logistic       {'max_features': 2000, 'stop_words': None}      0.913   \n",
              "Decision Tree  {'max_features': 2000, 'stop_words': None}      0.891   \n",
              "Bayes          {'max_features': 2000, 'stop_words': None}      0.892   \n",
              "\n",
              "                                 best_version   best time  \n",
              "model                                                      \n",
              "Logistic       Bag Of Words (CountVectorizer)   2 minutes  \n",
              "Decision Tree  Bag Of Words (CountVectorizer)  18 minutes  \n",
              "Bayes          Bag Of Words (CountVectorizer)    1 minute  "
            ],
            "text/html": [
              "\n",
              "  <div id=\"df-b704f373-76cc-46d7-9a6b-213b304bdfb8\" class=\"colab-df-container\">\n",
              "    <div>\n",
              "<style scoped>\n",
              "    .dataframe tbody tr th:only-of-type {\n",
              "        vertical-align: middle;\n",
              "    }\n",
              "\n",
              "    .dataframe tbody tr th {\n",
              "        vertical-align: top;\n",
              "    }\n",
              "\n",
              "    .dataframe thead th {\n",
              "        text-align: right;\n",
              "    }\n",
              "</style>\n",
              "<table border=\"1\" class=\"dataframe\">\n",
              "  <thead>\n",
              "    <tr style=\"text-align: right;\">\n",
              "      <th></th>\n",
              "      <th>best_params</th>\n",
              "      <th>best_score</th>\n",
              "      <th>best_version</th>\n",
              "      <th>best time</th>\n",
              "    </tr>\n",
              "    <tr>\n",
              "      <th>model</th>\n",
              "      <th></th>\n",
              "      <th></th>\n",
              "      <th></th>\n",
              "      <th></th>\n",
              "    </tr>\n",
              "  </thead>\n",
              "  <tbody>\n",
              "    <tr>\n",
              "      <th>Logistic</th>\n",
              "      <td>{'max_features': 2000, 'stop_words': None}</td>\n",
              "      <td>0.913</td>\n",
              "      <td>Bag Of Words (CountVectorizer)</td>\n",
              "      <td>2 minutes</td>\n",
              "    </tr>\n",
              "    <tr>\n",
              "      <th>Decision Tree</th>\n",
              "      <td>{'max_features': 2000, 'stop_words': None}</td>\n",
              "      <td>0.891</td>\n",
              "      <td>Bag Of Words (CountVectorizer)</td>\n",
              "      <td>18 minutes</td>\n",
              "    </tr>\n",
              "    <tr>\n",
              "      <th>Bayes</th>\n",
              "      <td>{'max_features': 2000, 'stop_words': None}</td>\n",
              "      <td>0.892</td>\n",
              "      <td>Bag Of Words (CountVectorizer)</td>\n",
              "      <td>1 minute</td>\n",
              "    </tr>\n",
              "  </tbody>\n",
              "</table>\n",
              "</div>\n",
              "    <div class=\"colab-df-buttons\">\n",
              "\n",
              "  <div class=\"colab-df-container\">\n",
              "    <button class=\"colab-df-convert\" onclick=\"convertToInteractive('df-b704f373-76cc-46d7-9a6b-213b304bdfb8')\"\n",
              "            title=\"Convert this dataframe to an interactive table.\"\n",
              "            style=\"display:none;\">\n",
              "\n",
              "  <svg xmlns=\"http://www.w3.org/2000/svg\" height=\"24px\" viewBox=\"0 -960 960 960\">\n",
              "    <path d=\"M120-120v-720h720v720H120Zm60-500h600v-160H180v160Zm220 220h160v-160H400v160Zm0 220h160v-160H400v160ZM180-400h160v-160H180v160Zm440 0h160v-160H620v160ZM180-180h160v-160H180v160Zm440 0h160v-160H620v160Z\"/>\n",
              "  </svg>\n",
              "    </button>\n",
              "\n",
              "  <style>\n",
              "    .colab-df-container {\n",
              "      display:flex;\n",
              "      gap: 12px;\n",
              "    }\n",
              "\n",
              "    .colab-df-convert {\n",
              "      background-color: #E8F0FE;\n",
              "      border: none;\n",
              "      border-radius: 50%;\n",
              "      cursor: pointer;\n",
              "      display: none;\n",
              "      fill: #1967D2;\n",
              "      height: 32px;\n",
              "      padding: 0 0 0 0;\n",
              "      width: 32px;\n",
              "    }\n",
              "\n",
              "    .colab-df-convert:hover {\n",
              "      background-color: #E2EBFA;\n",
              "      box-shadow: 0px 1px 2px rgba(60, 64, 67, 0.3), 0px 1px 3px 1px rgba(60, 64, 67, 0.15);\n",
              "      fill: #174EA6;\n",
              "    }\n",
              "\n",
              "    .colab-df-buttons div {\n",
              "      margin-bottom: 4px;\n",
              "    }\n",
              "\n",
              "    [theme=dark] .colab-df-convert {\n",
              "      background-color: #3B4455;\n",
              "      fill: #D2E3FC;\n",
              "    }\n",
              "\n",
              "    [theme=dark] .colab-df-convert:hover {\n",
              "      background-color: #434B5C;\n",
              "      box-shadow: 0px 1px 3px 1px rgba(0, 0, 0, 0.15);\n",
              "      filter: drop-shadow(0px 1px 2px rgba(0, 0, 0, 0.3));\n",
              "      fill: #FFFFFF;\n",
              "    }\n",
              "  </style>\n",
              "\n",
              "    <script>\n",
              "      const buttonEl =\n",
              "        document.querySelector('#df-b704f373-76cc-46d7-9a6b-213b304bdfb8 button.colab-df-convert');\n",
              "      buttonEl.style.display =\n",
              "        google.colab.kernel.accessAllowed ? 'block' : 'none';\n",
              "\n",
              "      async function convertToInteractive(key) {\n",
              "        const element = document.querySelector('#df-b704f373-76cc-46d7-9a6b-213b304bdfb8');\n",
              "        const dataTable =\n",
              "          await google.colab.kernel.invokeFunction('convertToInteractive',\n",
              "                                                    [key], {});\n",
              "        if (!dataTable) return;\n",
              "\n",
              "        const docLinkHtml = 'Like what you see? Visit the ' +\n",
              "          '<a target=\"_blank\" href=https://colab.research.google.com/notebooks/data_table.ipynb>data table notebook</a>'\n",
              "          + ' to learn more about interactive tables.';\n",
              "        element.innerHTML = '';\n",
              "        dataTable['output_type'] = 'display_data';\n",
              "        await google.colab.output.renderOutput(dataTable, element);\n",
              "        const docLink = document.createElement('div');\n",
              "        docLink.innerHTML = docLinkHtml;\n",
              "        element.appendChild(docLink);\n",
              "      }\n",
              "    </script>\n",
              "  </div>\n",
              "\n",
              "\n",
              "<div id=\"df-f56262ef-8741-4458-9dad-9689cdd2ac59\">\n",
              "  <button class=\"colab-df-quickchart\" onclick=\"quickchart('df-f56262ef-8741-4458-9dad-9689cdd2ac59')\"\n",
              "            title=\"Suggest charts\"\n",
              "            style=\"display:none;\">\n",
              "\n",
              "<svg xmlns=\"http://www.w3.org/2000/svg\" height=\"24px\"viewBox=\"0 0 24 24\"\n",
              "     width=\"24px\">\n",
              "    <g>\n",
              "        <path d=\"M19 3H5c-1.1 0-2 .9-2 2v14c0 1.1.9 2 2 2h14c1.1 0 2-.9 2-2V5c0-1.1-.9-2-2-2zM9 17H7v-7h2v7zm4 0h-2V7h2v10zm4 0h-2v-4h2v4z\"/>\n",
              "    </g>\n",
              "</svg>\n",
              "  </button>\n",
              "\n",
              "<style>\n",
              "  .colab-df-quickchart {\n",
              "      --bg-color: #E8F0FE;\n",
              "      --fill-color: #1967D2;\n",
              "      --hover-bg-color: #E2EBFA;\n",
              "      --hover-fill-color: #174EA6;\n",
              "      --disabled-fill-color: #AAA;\n",
              "      --disabled-bg-color: #DDD;\n",
              "  }\n",
              "\n",
              "  [theme=dark] .colab-df-quickchart {\n",
              "      --bg-color: #3B4455;\n",
              "      --fill-color: #D2E3FC;\n",
              "      --hover-bg-color: #434B5C;\n",
              "      --hover-fill-color: #FFFFFF;\n",
              "      --disabled-bg-color: #3B4455;\n",
              "      --disabled-fill-color: #666;\n",
              "  }\n",
              "\n",
              "  .colab-df-quickchart {\n",
              "    background-color: var(--bg-color);\n",
              "    border: none;\n",
              "    border-radius: 50%;\n",
              "    cursor: pointer;\n",
              "    display: none;\n",
              "    fill: var(--fill-color);\n",
              "    height: 32px;\n",
              "    padding: 0;\n",
              "    width: 32px;\n",
              "  }\n",
              "\n",
              "  .colab-df-quickchart:hover {\n",
              "    background-color: var(--hover-bg-color);\n",
              "    box-shadow: 0 1px 2px rgba(60, 64, 67, 0.3), 0 1px 3px 1px rgba(60, 64, 67, 0.15);\n",
              "    fill: var(--button-hover-fill-color);\n",
              "  }\n",
              "\n",
              "  .colab-df-quickchart-complete:disabled,\n",
              "  .colab-df-quickchart-complete:disabled:hover {\n",
              "    background-color: var(--disabled-bg-color);\n",
              "    fill: var(--disabled-fill-color);\n",
              "    box-shadow: none;\n",
              "  }\n",
              "\n",
              "  .colab-df-spinner {\n",
              "    border: 2px solid var(--fill-color);\n",
              "    border-color: transparent;\n",
              "    border-bottom-color: var(--fill-color);\n",
              "    animation:\n",
              "      spin 1s steps(1) infinite;\n",
              "  }\n",
              "\n",
              "  @keyframes spin {\n",
              "    0% {\n",
              "      border-color: transparent;\n",
              "      border-bottom-color: var(--fill-color);\n",
              "      border-left-color: var(--fill-color);\n",
              "    }\n",
              "    20% {\n",
              "      border-color: transparent;\n",
              "      border-left-color: var(--fill-color);\n",
              "      border-top-color: var(--fill-color);\n",
              "    }\n",
              "    30% {\n",
              "      border-color: transparent;\n",
              "      border-left-color: var(--fill-color);\n",
              "      border-top-color: var(--fill-color);\n",
              "      border-right-color: var(--fill-color);\n",
              "    }\n",
              "    40% {\n",
              "      border-color: transparent;\n",
              "      border-right-color: var(--fill-color);\n",
              "      border-top-color: var(--fill-color);\n",
              "    }\n",
              "    60% {\n",
              "      border-color: transparent;\n",
              "      border-right-color: var(--fill-color);\n",
              "    }\n",
              "    80% {\n",
              "      border-color: transparent;\n",
              "      border-right-color: var(--fill-color);\n",
              "      border-bottom-color: var(--fill-color);\n",
              "    }\n",
              "    90% {\n",
              "      border-color: transparent;\n",
              "      border-bottom-color: var(--fill-color);\n",
              "    }\n",
              "  }\n",
              "</style>\n",
              "\n",
              "  <script>\n",
              "    async function quickchart(key) {\n",
              "      const quickchartButtonEl =\n",
              "        document.querySelector('#' + key + ' button');\n",
              "      quickchartButtonEl.disabled = true;  // To prevent multiple clicks.\n",
              "      quickchartButtonEl.classList.add('colab-df-spinner');\n",
              "      try {\n",
              "        const charts = await google.colab.kernel.invokeFunction(\n",
              "            'suggestCharts', [key], {});\n",
              "      } catch (error) {\n",
              "        console.error('Error during call to suggestCharts:', error);\n",
              "      }\n",
              "      quickchartButtonEl.classList.remove('colab-df-spinner');\n",
              "      quickchartButtonEl.classList.add('colab-df-quickchart-complete');\n",
              "    }\n",
              "    (() => {\n",
              "      let quickchartButtonEl =\n",
              "        document.querySelector('#df-f56262ef-8741-4458-9dad-9689cdd2ac59 button');\n",
              "      quickchartButtonEl.style.display =\n",
              "        google.colab.kernel.accessAllowed ? 'block' : 'none';\n",
              "    })();\n",
              "  </script>\n",
              "</div>\n",
              "\n",
              "    </div>\n",
              "  </div>\n"
            ],
            "application/vnd.google.colaboratory.intrinsic+json": {
              "type": "dataframe",
              "summary": "{\n  \"name\": \"              })\",\n  \"rows\": 3,\n  \"fields\": [\n    {\n      \"column\": \"model\",\n      \"properties\": {\n        \"dtype\": \"string\",\n        \"num_unique_values\": 3,\n        \"samples\": [\n          \"Logistic\",\n          \"Decision Tree\",\n          \"Bayes\"\n        ],\n        \"semantic_type\": \"\",\n        \"description\": \"\"\n      }\n    },\n    {\n      \"column\": \"best_params\",\n      \"properties\": {\n        \"dtype\": \"category\",\n        \"num_unique_values\": 1,\n        \"samples\": [\n          \"{'max_features': 2000, 'stop_words': None}\"\n        ],\n        \"semantic_type\": \"\",\n        \"description\": \"\"\n      }\n    },\n    {\n      \"column\": \"best_score\",\n      \"properties\": {\n        \"dtype\": \"string\",\n        \"num_unique_values\": 3,\n        \"samples\": [\n          \"0.913\"\n        ],\n        \"semantic_type\": \"\",\n        \"description\": \"\"\n      }\n    },\n    {\n      \"column\": \"best_version\",\n      \"properties\": {\n        \"dtype\": \"category\",\n        \"num_unique_values\": 1,\n        \"samples\": [\n          \"Bag Of Words (CountVectorizer)\"\n        ],\n        \"semantic_type\": \"\",\n        \"description\": \"\"\n      }\n    },\n    {\n      \"column\": \"best time\",\n      \"properties\": {\n        \"dtype\": \"string\",\n        \"num_unique_values\": 3,\n        \"samples\": [\n          \"2 minutes\"\n        ],\n        \"semantic_type\": \"\",\n        \"description\": \"\"\n      }\n    }\n  ]\n}"
            }
          },
          "metadata": {},
          "execution_count": 56
        }
      ],
      "source": [
        "pd.DataFrame({'model': ['Logistic', 'Decision Tree', 'Bayes'],\n",
        "             'best_params': [\"{'max_features': 2000, 'stop_words': None}\", \"{'max_features': 2000, 'stop_words': None}\", \"{'max_features': 2000, 'stop_words': None}\"],\n",
        "             'best_score': ['0.913', '0.891', '0.892'],\n",
        "             'best_version': ['Bag Of Words (CountVectorizer)', 'Bag Of Words (CountVectorizer)', 'Bag Of Words (CountVectorizer)'],\n",
        "              'best time': ['2 minutes','18 minutes','1 minute']\n",
        "              }).set_index('model')"
      ]
    }
  ],
  "metadata": {
    "kernelspec": {
      "display_name": "Python 3",
      "language": "python",
      "name": "python3"
    },
    "language_info": {
      "codemirror_mode": {
        "name": "ipython",
        "version": 3
      },
      "file_extension": ".py",
      "mimetype": "text/x-python",
      "name": "python",
      "nbconvert_exporter": "python",
      "pygments_lexer": "ipython3",
      "version": "3.8.8"
    },
    "colab": {
      "provenance": []
    }
  },
  "nbformat": 4,
  "nbformat_minor": 0
}